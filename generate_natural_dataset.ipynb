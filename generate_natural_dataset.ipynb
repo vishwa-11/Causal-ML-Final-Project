{
 "cells": [
  {
   "cell_type": "code",
   "execution_count": 1,
   "id": "0fb72b8f",
   "metadata": {},
   "outputs": [],
   "source": [
    "import json\n",
    "import csv\n",
    "import nltk"
   ]
  },
  {
   "cell_type": "code",
   "execution_count": 2,
   "id": "14becdbd",
   "metadata": {
    "scrolled": true
   },
   "outputs": [
    {
     "ename": "FileNotFoundError",
     "evalue": "[Errno 2] No such file or directory: 'data/Clothing_Shoes_and_Jewelry_5.json'",
     "output_type": "error",
     "traceback": [
      "\u001b[0;31m---------------------------------------------------------------------------\u001b[0m",
      "\u001b[0;31mFileNotFoundError\u001b[0m                         Traceback (most recent call last)",
      "\u001b[1;32m/home/mjz-arabica/eecs598_09/causal_nlp/generate_natural_dataset.ipynb Cell 2\u001b[0m line \u001b[0;36m7\n\u001b[1;32m      <a href='vscode-notebook-cell://wsl%2Bubuntu-20.04/home/mjz-arabica/eecs598_09/causal_nlp/generate_natural_dataset.ipynb#W1sdnNjb2RlLXJlbW90ZQ%3D%3D?line=3'>4</a>\u001b[0m \u001b[39m# Create a list to store the JSON entries\u001b[39;00m\n\u001b[1;32m      <a href='vscode-notebook-cell://wsl%2Bubuntu-20.04/home/mjz-arabica/eecs598_09/causal_nlp/generate_natural_dataset.ipynb#W1sdnNjb2RlLXJlbW90ZQ%3D%3D?line=4'>5</a>\u001b[0m json_entries \u001b[39m=\u001b[39m []\n\u001b[0;32m----> <a href='vscode-notebook-cell://wsl%2Bubuntu-20.04/home/mjz-arabica/eecs598_09/causal_nlp/generate_natural_dataset.ipynb#W1sdnNjb2RlLXJlbW90ZQ%3D%3D?line=6'>7</a>\u001b[0m \u001b[39mwith\u001b[39;00m \u001b[39mopen\u001b[39;49m(file_path, \u001b[39m'\u001b[39;49m\u001b[39mr\u001b[39;49m\u001b[39m'\u001b[39;49m) \u001b[39mas\u001b[39;00m file:\n\u001b[1;32m      <a href='vscode-notebook-cell://wsl%2Bubuntu-20.04/home/mjz-arabica/eecs598_09/causal_nlp/generate_natural_dataset.ipynb#W1sdnNjb2RlLXJlbW90ZQ%3D%3D?line=7'>8</a>\u001b[0m     \u001b[39mfor\u001b[39;00m line \u001b[39min\u001b[39;00m file:\n\u001b[1;32m      <a href='vscode-notebook-cell://wsl%2Bubuntu-20.04/home/mjz-arabica/eecs598_09/causal_nlp/generate_natural_dataset.ipynb#W1sdnNjb2RlLXJlbW90ZQ%3D%3D?line=8'>9</a>\u001b[0m         json_entry \u001b[39m=\u001b[39m json\u001b[39m.\u001b[39mloads(line)\n",
      "File \u001b[0;32m~/miniconda3/envs/ml/lib/python3.10/site-packages/IPython/core/interactiveshell.py:282\u001b[0m, in \u001b[0;36m_modified_open\u001b[0;34m(file, *args, **kwargs)\u001b[0m\n\u001b[1;32m    275\u001b[0m \u001b[39mif\u001b[39;00m file \u001b[39min\u001b[39;00m {\u001b[39m0\u001b[39m, \u001b[39m1\u001b[39m, \u001b[39m2\u001b[39m}:\n\u001b[1;32m    276\u001b[0m     \u001b[39mraise\u001b[39;00m \u001b[39mValueError\u001b[39;00m(\n\u001b[1;32m    277\u001b[0m         \u001b[39mf\u001b[39m\u001b[39m\"\u001b[39m\u001b[39mIPython won\u001b[39m\u001b[39m'\u001b[39m\u001b[39mt let you open fd=\u001b[39m\u001b[39m{\u001b[39;00mfile\u001b[39m}\u001b[39;00m\u001b[39m by default \u001b[39m\u001b[39m\"\u001b[39m\n\u001b[1;32m    278\u001b[0m         \u001b[39m\"\u001b[39m\u001b[39mas it is likely to crash IPython. If you know what you are doing, \u001b[39m\u001b[39m\"\u001b[39m\n\u001b[1;32m    279\u001b[0m         \u001b[39m\"\u001b[39m\u001b[39myou can use builtins\u001b[39m\u001b[39m'\u001b[39m\u001b[39m open.\u001b[39m\u001b[39m\"\u001b[39m\n\u001b[1;32m    280\u001b[0m     )\n\u001b[0;32m--> 282\u001b[0m \u001b[39mreturn\u001b[39;00m io_open(file, \u001b[39m*\u001b[39;49margs, \u001b[39m*\u001b[39;49m\u001b[39m*\u001b[39;49mkwargs)\n",
      "\u001b[0;31mFileNotFoundError\u001b[0m: [Errno 2] No such file or directory: 'data/Clothing_Shoes_and_Jewelry_5.json'"
     ]
    }
   ],
   "source": [
    "file_path = 'data/Clothing_Shoes_and_Jewelry_5.json'\n",
    "n = 80000  # Replace with the desired number of entries\n",
    "\n",
    "# Create a list to store the JSON entries\n",
    "json_entries = []\n",
    "\n",
    "with open(file_path, 'r') as file:\n",
    "    for line in file:\n",
    "        json_entry = json.loads(line)\n",
    "\n",
    "        if 'vote' not in json_entry:\n",
    "            json_entry['vote'] = 0\n",
    "\n",
    "        if 'reviewText' in json_entry:\n",
    "            json_entries.append(json_entry)\n",
    "\n",
    "            if len(json_entries) == n:\n",
    "                break\n",
    "\n",
    "\n",
    "\n",
    "\n",
    "\n",
    "\n",
    "\n",
    "# Process the list of JSON entries as needed\n",
    "for entry in json_entries:\n",
    "    print(entry)\n"
   ]
  },
  {
   "cell_type": "code",
   "execution_count": null,
   "id": "1f16fc07",
   "metadata": {},
   "outputs": [
    {
     "name": "stdout",
     "output_type": "stream",
     "text": [
      "4783\n",
      "2006\n"
     ]
    }
   ],
   "source": [
    "file_path = 'data/negative-words.txt'\n",
    "\n",
    "neg_words = []\n",
    "\n",
    "with open(file_path, 'r', encoding='latin-1') as file:\n",
    "    for line in file:\n",
    "        word = line.strip()\n",
    "        neg_words.append(word)\n",
    "\n",
    "print(len(neg_words))\n",
    "\n",
    "file_path = 'data/positive-words.txt'\n",
    "\n",
    "pos_words = []\n",
    "\n",
    "with open(file_path, 'r', encoding='latin-1') as file:\n",
    "    for line in file:\n",
    "        word = line.strip()\n",
    "        pos_words.append(word)\n",
    "\n",
    "print(len(pos_words))"
   ]
  },
  {
   "cell_type": "code",
   "execution_count": null,
   "id": "a50fcdcd",
   "metadata": {},
   "outputs": [
    {
     "name": "stderr",
     "output_type": "stream",
     "text": [
      "[nltk_data] Downloading package averaged_perceptron_tagger to\n",
      "[nltk_data]     /Users/vishwa/nltk_data...\n",
      "[nltk_data]   Package averaged_perceptron_tagger is already up-to-\n",
      "[nltk_data]       date!\n"
     ]
    },
    {
     "data": {
      "text/plain": [
       "True"
      ]
     },
     "execution_count": 9,
     "metadata": {},
     "output_type": "execute_result"
    }
   ],
   "source": [
    "from nltk import pos_tag\n",
    "from nltk.corpus import wordnet\n",
    "nltk.download('averaged_perceptron_tagger')\n"
   ]
  },
  {
   "cell_type": "code",
   "execution_count": null,
   "id": "b14fb018",
   "metadata": {},
   "outputs": [],
   "source": [
    "tagged_pos_words = pos_tag(pos_words)\n",
    "tagged_neg_words = pos_tag(neg_words)"
   ]
  },
  {
   "cell_type": "code",
   "execution_count": null,
   "id": "9a4e9281",
   "metadata": {},
   "outputs": [],
   "source": [
    "pos_adj = [word for word, tag in tagged_pos_words if tag.startswith('JJ')]\n",
    "neg_adj = [word for word, tag in tagged_neg_words if tag.startswith('JJ')]"
   ]
  },
  {
   "cell_type": "code",
   "execution_count": null,
   "id": "e59e48e9",
   "metadata": {},
   "outputs": [
    {
     "name": "stdout",
     "output_type": "stream",
     "text": [
      "['abundant', 'accessable', 'accessible', 'accommodative', 'accomodative', 'accomplishment', 'achievable', 'achievement', 'achievible', 'adaptable', 'adaptive', 'adjustable', 'admirable', 'adorable', 'adored', 'adulate', 'advanced', 'advantageous', 'adventurous', 'affable', 'affirmative', 'affluent', 'affordable', 'afordable', 'agreeable', 'all-around', 'altruistic', 'amazed', 'amazing', 'ambitious', 'amenable', 'amiable', 'amicable', 'ample', 'angel', 'angelic', 'appreciable', 'appreciative', 'appropriate', 'ardor', 'articulate', 'astonish', 'astonishment', 'attentive', 'attractive', 'attune', 'audible', 'auspicious', 'authentic', 'autonomous', 'available', 'awesome', 'awesomeness', 'awestruck', 'awsome', 'beauteous', 'beautiful', 'believable', 'believeable', 'beneficial', 'beneficiary', 'best-known', 'best-performing', 'best-selling', 'better', 'better-known', 'better-than-expected', 'blameless', 'bliss', 'blissful', 'bountiful', 'brainiest', 'brainy', 'brand-new', 'breeze', 'bright', 'brightest', 'brisk', 'bullish', 'buoyant', 'calmness', 'capable', 'carefree', 'charismatic', 'charitable', 'cheaper', 'cheapest', 'cheerful', 'cherub', 'chic', 'chivalrous', 'classic', 'classy', 'clean', 'cleaner', 'cleanest', 'clear', 'clearer', 'cohere', 'cohesive', 'comfortable', 'comfy', 'commitment', 'commodious', 'compatible', 'competitive', 'compliant', 'compliment', 'complimentary', 'comprehensive', 'confident', 'congenial', 'conscientious', 'constructive', 'contrasty', 'convience', 'cool', 'cooperative', 'correct', 'cost-effective', 'cost-saving', 'counter-attack', 'courageous', 'courteous', 'cozy', 'creative', 'credible', 'cure-all', 'cushy', 'dauntless', 'dazzling', 'dead-cheap', 'dead-on', 'decent', 'decisive', 'delectable', 'delicious', 'delightful', 'delightfulness', 'dependable', 'desirable', 'desirous', 'detachable', 'dexterous', 'dextrous', 'dignify', 'diplomatic', 'dirt-cheap', 'diversified', 'dominate', 'doubtless', 'dummy-proof', 'durable', 'dynamic', 'eager', 'earnest', 'earnestness', 'easier', 'easiest', 'easy', 'easy-to-use', 'ecenomical', 'economical', 'ecstatic', 'effective', 'effectiveness', 'effectual', 'efficacious', 'effusion', 'effusive', 'effusiveness', 'elation', 'elevate', 'elite', 'embolden', 'empathy', 'endear', 'endorsement', 'energetic', 'energize', 'energy-efficient', 'energy-saving', 'enhancement', 'enjoyable', 'enlighten', 'enlightenment', 'ennoble', 'enrapt', 'enrich', 'entertaining', 'enthral', 'enthusiasm', 'enthusiastic', 'enviable', 'envious', 'enviousness', 'equitable', 'ergonomical', 'err-free', 'erudite', 'ethical', 'euphoric', 'evaluative', 'eventful', 'evocative', 'examplar', 'examplary', 'excelent', 'exceptional', 'excitedness', 'exellent', 'exemplar', 'exemplary', 'exhilaration', 'expansive', 'exquisite', 'extol', 'extraordinary', 'exultant', 'eye-catch', 'eye-catching', 'fabulous', 'facilitate', 'fair', 'fairness', 'faithfulness', 'famous', 'fancinating', 'fancy', 'fantastic', 'fashionable', 'fast-growing', 'fast-paced', 'fastest', 'fastest-growing', 'favorable', 'favored', 'favour', 'feasible', 'feature-rich', 'fecilitous', 'feisty', 'felicitous', 'fertile', 'fervor', 'festive', 'fiery', 'fine', 'finer', 'finest', 'firmer', 'first-class', 'first-in-class', 'first-rate', 'flashy', 'flawless', 'flexible', 'flourish', 'fluent', 'fondness', 'formidable', 'fortuitous', 'fortune', 'fragrant', 'free', 'fresh', 'freshest', 'friendly', 'frolic', 'fruitful', 'ftw', 'futurestic', 'futuristic', 'gainful', 'gallant', 'geekier', 'geeky', 'generous', 'genial', 'gentle', 'gentlest', 'glad', 'glamorous', 'gleeful', 'glorious', 'glory', 'glow', 'god-given', 'god-send', 'golden', 'good', 'gorgeous', 'graceful', 'gracious', 'graciousness', 'grand', 'grateful', 'gratitude', 'great', 'greatest', 'handier', 'hands-down', 'handy', 'happier', 'happiness', 'happy', 'hardy', 'harmonious', 'harmony', 'healthful', 'healthy', 'helpful', 'heroine', 'high-quality', 'high-spirited', 'hilarious', 'honest', 'honorable', 'hopeful', 'hospitable', 'hot', 'humble', 'humorous', 'humourous', 'ideal', 'idol', 'idolized', 'idyllic', 'illustrious', 'imaginative', 'immense', 'impartial', 'impeccable', 'important', 'impressed', 'impressiveness', 'improved', 'incredible', 'indebted', 'individualized', 'industrious', 'inestimable', 'inexpensive', 'infallible', 'influential', 'ingenious', 'ingenuous', 'innocuous', 'insightful', 'inspiration', 'inspirational', 'instructive', 'instrumental', 'integral', 'intelligible', 'interesting', 'intimate', 'intricate', 'intuitive', 'invaluable', 'inventive', 'invincible', 'inviolable', 'invulnerable', 'irreplaceable', 'irreproachable', 'irresistible', 'issue-free', 'jaw-droping', 'jovial', 'joyous', 'jubilant', 'jubilate', 'judicious', 'keenness', 'knowledgeable', 'kudos', 'laudable', 'lavish', 'law-abiding', 'lawful', 'lean', 'legendary', 'light-hearted', 'likable', 'liked', 'logical', 'lovable', 'loved', 'lover', 'low-cost', 'low-price', 'low-priced', 'low-risk', 'lower-priced', 'luckier', 'luckiest', 'lucky', 'lucrative', 'luminous', 'lustrous', 'luxuriant', 'luxurious', 'luxury', 'lyrical', 'magical', 'magnanimous', 'majestic', 'manageable', 'maneuverable', 'marvellous', 'marvelous', 'marvelousness', 'masterful', 'masterpiece', 'matchless', 'meaningful', 'memorable', 'mercy', 'meritorious', 'merriment', 'mesmerized', 'meticulous', 'mind-blowing', 'miraculous', 'miraculousness', 'modern', 'modest', 'momentous', 'monumental', 'multi-purpose', 'navigable', 'neatest', 'nice', 'nicer', 'nicest', 'nifty', 'nimble', 'noble', 'noiseless', 'non-violence', 'non-violent', 'noteworthy', 'nourish', 'obtainable', 'openness', 'optimal', 'optimistic', 'orderly', 'outsmart', 'outstanding', 'outwit', 'overtaken', 'overtook', 'pain-free', 'palatial', 'pamperedness', 'pardon', 'patience', 'patriotic', 'peaceable', 'peaceful', 'peerless', 'peppy', 'perfect', 'permissible', 'persevere', 'phenomenal', 'picturesque', 'playful', 'pleased', 'pleasurable', 'plentiful', 'poetic', 'poignant', 'polished', 'popular', 'portable', 'positive', 'powerful', 'praiseworthy', 'pre-eminent', 'precious', 'preeminent', 'preferable', 'prestigious', 'priceless', 'prize', 'proactive', 'problem-free', 'prodigious', 'productive', 'proficient', 'profuse', 'progressive', 'prominent', 'proper', 'propitious', 'prosperous', 'protective', 'prowess', 'punctual', 'purposeful', 'qualify', 'quiet', 'rapid', 'raptureous', 'rapturous', 'rational', 'reachable', 'readable', 'ready', 'realistic', 'realizable', 'reasonable', 'receptive', 'reconcile', 'redeem', 'refinement', 'regal', 'regard', 'relaxed', 'reliable', 'relief', 'relish', 'remedy', 'renown', 'replaceable', 'reputable', 'resourceful', 'respectable', 'respectful', 'respite', 'responsive', 'retractable', 'revival', 'revive', 'revolutionary', 'revolutionized', 'rich', 'richer', 'richness', 'righteous', 'righteousness', 'rightful', 'rightness', 'risk-free', 'robust', 'rock-star', 'romantic', 'roomier', 'rosy', 'safe', 'saint', 'salutary', 'satisfactory', 'satisfied', 'saver', 'savior', 'savvy', 'scenic', 'selective', 'self-determination', 'self-respect', 'self-satisfaction', 'self-sufficient', 'sensational', 'sensible', 'sensitive', 'serene', 'sharp', 'sharper', 'sharpest', 'shine', 'shiny', 'significant', 'silent', 'simplest', 'simplified', 'skillful', 'slammin', 'sleek', 'smart', 'smartest', 'smile', 'smooth', 'snappy', 'sociable', 'soft', 'softer', 'solicitous', 'solid', 'sophisticated', 'soulful', 'spacious', 'spectacular', 'speedy', 'spiritual', 'spontaneous', 'stability', 'stable', 'state-of-the-art', 'stately', 'staunchness', 'steadfastness', 'steadiest', 'steady', 'stellar', 'stellarly', 'stimulative', 'straighten', 'strong', 'stronger', 'strongest', 'stupendous', 'sturdier', 'sturdy', 'stylish', 'sublime', 'subsidized', 'substantive', 'successful', 'sufficed', 'sufficient', 'suitable', 'sumptuous', 'sumptuousness', 'super', 'superior', 'supple', 'supportive', 'supurb', 'surpass', 'sustainable', 'swankiest', 'sweet', 'sweeten', 'sweetness', 'tempt', 'tenacious', 'tenacity', 'terrific', 'thank', 'thankful', 'thoughtful', 'thoughtfulness', 'thrive', 'thumb-up', 'thumbs-up', 'time-honored', 'timely', 'togetherness', 'tolerable', 'toll-free', 'top', 'tough', 'toughest', 'transparent', 'trendy', 'trophy', 'trouble-free', 'trustworthiness', 'trustworthy', 'truthfulness', 'twinkly', 'ultra-crisp', 'unabashed', 'unaffected', 'unassailable', 'unbeatable', 'unbiased', 'unconditional', 'undamaged', 'undaunted', 'understandable', 'undisputable', 'undisputed', 'unencumbered', 'unequivocal', 'unfazed', 'unfettered', 'unforgettable', 'unmatched', 'unparalleled', 'unquestionable', 'unreal', 'unrestricted', 'unrivaled', 'unselfish', 'upgradable', 'upgradeable', 'upgraded', 'uphold', 'upliftment', 'upscale', 'usable', 'useable', 'useful', 'user-friendly', 'user-replaceable', 'valuable', 'verifiable', 'veritable', 'victorious', 'viewable', 'virtuous', 'visionary', 'vivacious', 'vouch', 'vouchsafe', 'warm', 'warmth', 'wealthy', 'well-backlit', 'well-balanced', 'well-behaved', 'well-being', 'well-bred', 'well-connected', 'well-educated', 'well-established', 'well-informed', 'well-intentioned', 'well-known', 'well-made', 'well-managed', 'well-mannered', 'well-positioned', 'well-received', 'well-regarded', 'well-rounded', 'well-run', 'wholesome', 'willing', 'winnable', 'witty', 'wonderful', 'wonderous', 'wondrous', 'workable', 'worked', 'world-famous', 'worth', 'worth-while', 'worthy', 'youthful']\n",
      "['2-faced', 'abnormal', 'abolish', 'abominable', 'abominate', 'abrasive', 'absence', 'absent-minded', 'absurd', 'absurdness', 'abused', 'abusive', 'abysmal', 'abyss', 'accidental', 'acerbate', 'ached', 'acridness', 'acrimonious', 'acrimony', 'admonish', 'admonishment', 'adversarial', 'adversary', 'adverse', 'afflictive', 'afraid', 'aggressive', 'agony', 'ail', 'ailment', 'allergic', 'aloof', 'ambiguous', 'amiss', 'anarchist', 'anarchistic', 'anemic', 'angry', 'anguish', 'anomalous', 'antagonist', 'antagonistic', 'anti-', 'anti-american', 'anti-israeli', 'anti-occupation', 'anti-proliferation', 'anti-social', 'anti-us', 'anti-white', 'antithetical', 'anxious', 'anxiousness', 'apathetic', 'apathy', 'apocalyptic', 'appalled', 'apprehension', 'arbitrary', 'arduous', 'argumentative', 'arrogant', 'asinininity', 'astray', 'atrocious', 'audacious', 'audaciousness', 'austere', 'authoritarian', 'autocratic', 'avaricious', 'avenge', 'averse', 'aweful', 'awful', 'awfulness', 'awkwardness', 'babble', 'back-logged', 'back-wood', 'backbite', 'bad', 'banal', 'banish', 'barbarian', 'barbarous', 'barren', 'bashful', 'batty', 'bearish', 'bedlamite', 'bellicose', 'bent', 'bestial', 'bewilderment', 'bid-rigging', 'bitter', 'bizarre', 'blameworthy', 'blandish', 'blasphemous', 'blatant', 'bleak', 'bleakly', 'blemish', 'blindside', 'bloodthirsty', 'blow', 'blur', 'boastful', 'boisterous', 'bombastic', 'boycott', 'brashness', 'brazenness', 'break-up', 'brittle', 'broken', 'broken-hearted', 'brutal', 'brute', 'brutish', 'buggy', 'bulkier', 'bull----', 'bum', 'bumpy', 'bust', 'calamitous', 'callous', 'calumnious', 'calumny', 'cancerous', 'cannibal', 'capricious', 'capriciousness', 'carp', 'cartoonish', 'cash-strapped', 'cataclysmal', 'cataclysmic', 'catastrophic', 'caustic', 'cautionary', 'chafe', 'chaotic', 'cheap', 'cheerless', 'chintzy', 'choppy', 'chronic', 'clamorous', 'clique', 'clumsy', 'clunky', 'cocky', 'coercive', 'collapse', 'combative', 'comical', 'complaint', 'complex', 'compulsive', 'condemnable', 'condemns', 'confront', 'confrontational', 'conservative', 'conspicuous', 'conspirator', 'conspiratorial', 'contagious', 'contemptible', 'contemptuous', 'contentious', 'controversial', 'corrode', 'costlier', 'costly', 'counter-productive', 'counterproductive', 'covetous', 'crabby', 'crafty', 'crappy', 'craziness', 'crazy', 'credulous', 'creep', 'creepy', 'criminal', 'critic', 'critical', 'crowdedness', 'cruelness', 'crumble', 'crummy', 'culpable', 'cynical', 'd*mn', 'damnable', 'dangerous', 'daunt', 'dawdle', 'daze', 'dead', 'deaf', 'dearth', 'debatable', 'debauch', 'deceit', 'deceitful', 'deceitfulness', 'deceive', 'deceptive', 'declaim', 'defamatory', 'defect', 'defective', 'defensive', 'defunct', 'degeneration', 'dejection', 'delirious', 'deluge', 'delusional', 'demonic', 'denial', 'denunciate', 'deplorable', 'deprecate', 'depression', 'deride', 'derisiveness', 'desititute', 'desolation', 'desperate', 'despicable', 'despotic', 'destitute', 'destructive', 'detestable', 'detriment', 'detrimental', 'devilish', 'devilment', 'devious', 'deviousness', 'devoid', 'diabolic', 'diabolical', 'dick', 'dictatorial', 'difficult', 'dilemma', 'dim', 'direness', 'disable', 'disabled', 'disadvantageous', 'disaffirm', 'disagreeable', 'disapointment', 'disappointing', 'disappointment', 'disasterous', 'disastrous', 'disavow', 'disconcert', 'disconcerted', 'disconsolation', 'discontinuous', 'discordant', 'discourteous', 'discoutinous', 'disdainful', 'disgraceful', 'disgruntle', 'disgustful', 'dishearten', 'dishonest', 'dishonesty', 'dishonorable', 'disillusionment', 'disingenuous', 'dislocated', 'dismal', 'dismalness', 'dismissive', 'disobey', 'disown', 'dispensable', 'displeasing', 'disputable', 'disquiet', 'disquietude', 'disreputable', 'disrespectable', 'disrespectful', 'disrespectfulness', 'disrupt', 'disruptive', 'dissappointed', 'dissatisfied', 'dissemble', 'dissocial', 'dissuasive', 'distasteful', 'distraughtness', 'distrust', 'distrustful', 'disunity', 'disvalue', 'divisiveness', 'dizzy', 'dogmatic', 'doomsday', 'doubtful', 'downcast', 'downhill', 'drab', 'draconian', 'drained', 'drastic', 'dreadful', 'dreadfulness', 'dreary', 'drippy', 'drop-out', 'dubious', 'dubitable', 'dull', 'dust', 'eccentric', 'egocentric', 'egotistical', 'egregious', 'election-rigger', 'emasculate', 'embarrassment', 'embroilment', 'emphatic', 'emptiness', 'enervate', 'enfeeble', 'enslave', 'entangle', 'envious', 'enviousness', 'epidemic', 'equivocal', 'errant', 'erratic', 'erroneous', 'error', 'evasive', 'eviscerate', 'exasperation', 'excessive', 'exorbitant', 'expensive', 'explode', 'exploit', 'explosive', 'expulse', 'extinguish', 'extraneous', 'extremist', 'f**k', 'facetious', 'fails', 'faithless', 'fake', 'fallacious', 'fallaciousness', 'false', 'falsify', 'famine', 'fanatic', 'fanatical', 'fanciful', 'far-fetched', 'farcical', 'farcical-yet-provocative', 'farfetched', 'fastidious', 'fastuous', 'fat', 'fat-cat', 'fatal', 'fatalistic', 'fatcat', 'fathomless', 'fatique', 'fatty', 'fatuous', 'faze', 'fearful', 'fearsome', 'feeble', 'feign', 'felonious', 'feverish', 'fib', 'fickle', 'fictional', 'fictitious', 'fiendish', 'filthy', 'finicky', 'flagrant', 'flair', 'flakey', 'flaky', 'flareup', 'flat-out', 'flimflam', 'flimsy', 'flounder', 'foolhardy', 'foolish', 'foolishness', 'forceful', 'forgetful', 'forgetfulness', 'forsaken', 'forswear', 'fractious', 'fragile', 'frail', 'frantic', 'franticly', 'fraudulent', 'fraught', 'freak', 'freakish', 'frenetic', 'fret', 'fretful', 'friggin', 'fright', 'frightful', 'frigid', 'frown', 'froze', 'frozen', 'frustration', 'fugitive', 'full-blown', 'fumble', 'fume', 'funky', 'furious', 'furor', 'fussy', 'futility', 'gabble', 'garish', 'gawky', 'genocide', 'get-rich', 'gibberish', 'gimmicky', 'glib', 'gloomy', 'goad', 'god-awful', 'graft', 'greasy', 'grievous', 'grim', 'gritty', 'gross', 'grotesque', 'grouch', 'gruff', 'grumble', 'grumpiest', 'grumpish', 'guilty', 'gullible', 'haggle', 'hallucinate', 'hang', 'hapless', 'harassment', 'hard', 'hard-hit', 'hard-line', 'hardhearted', 'harmful', 'hasty', 'hateful', 'hatefulness', 'haughty', 'havoc', 'hawkish', 'hazardous', 'hazy', 'heartless', 'heavy-handed', 'hectic', 'hedonistic', 'hefty', 'hegemonistic', 'heinous', 'hell-bent', 'helplessness', 'heretic', 'heretical', 'hideous', 'hideousness', 'high-priced', 'hiliarious', 'ho-hum', 'hobble', 'hollow', 'hooligan', 'hopelessness', 'horrendous', 'horrible', 'horrid', 'hostile', 'hung', 'hurtful', 'hypocritical', 'hysteric', 'hysterical', 'idiot', 'idiotic', 'idle', 'ignoble', 'ignominious', 'ignominy', 'ignorant', 'ill-advised', 'ill-conceived', 'ill-defined', 'ill-designed', 'ill-fated', 'ill-favored', 'ill-formed', 'ill-mannered', 'ill-natured', 'ill-sorted', 'ill-tempered', 'ill-treated', 'ill-treatment', 'ill-usage', 'ill-used', 'illegal', 'illegitimate', 'illogic', 'illogical', 'illusion', 'illusory', 'imaginary', 'immaterial', 'immodest', 'immoral', 'immovable', 'impasse', 'impede', 'impenitent', 'imperfect', 'imperious', 'impermissible', 'impersonal', 'impetuous', 'impiety', 'impious', 'implacable', 'implausible', 'implicate', 'impolitic', 'impose', 'impossible', 'impotent', 'impoverish', 'impractical', 'imprisonment', 'improbable', 'improper', 'imprudent', 'impugn', 'impulsive', 'impunity', 'inaccurate', 'inaction', 'inactive', 'inadequate', 'inadverent', 'inadvisable', 'inappropriate', 'inapt', 'inattentive', 'inaudible', 'incapable', 'incautious', 'incendiary', 'incite', 'incitement', 'incognizant', 'incommensurate', 'incomparable', 'incompatible', 'incomplete', 'incomprehensible', 'inconceivable', 'incongruous', 'inconsequent', 'inconsequential', 'inconsistence', 'inconsistent', 'inconsolable', 'inconstant', 'incorrigible', 'incredulous', 'inculcate', 'indecision', 'indecisive', 'indefensible', 'indeterminable', 'indeterminate', 'indifferent', 'indignation', 'indiscernible', 'indiscretion', 'indistinguishable', 'indoctrinate', 'ineffective', 'ineffectiveness', 'ineffectual', 'inefficacious', 'inelegant', 'ineligible', 'inept', 'inequitable', 'inescapable', 'inessential', 'inevitable', 'inexcusable', 'inexorable', 'inexpert', 'inexpiable', 'inexplainable', 'inextricable', 'infamous', 'infamy', 'inferior', 'infernal', 'inflame', 'inflated', 'inflationary', 'inflexible', 'inglorious', 'ingrate', 'inhospitable', 'inimical', 'iniquitous', 'injudicious', 'injurious', 'inoperable', 'inopportune', 'insane', 'insatiable', 'insensible', 'insensitive', 'insidious', 'insignificant', 'insincerity', 'insociable', 'insolvent', 'instable', 'insubstantial', 'insufferable', 'insular', 'insulting', 'insupportable', 'insurmountable', 'intefere', 'interfere', 'intermittent', 'interrupt', 'intolerable', 'intractable', 'intransigent', 'intrusive', 'invalid', 'invasive', 'invective', 'invidious', 'invidiousness', 'invisible', 'involuntary', 'irascible', 'ire', 'irksomeness', 'ironic', 'ironical', 'irrational', 'irreconcilable', 'irrecoverable', 'irredeemable', 'irreformable', 'irregular', 'irrelevant', 'irreparable', 'irreplacible', 'irrepressible', 'irresolvable', 'irresponsible', 'irretrievable', 'irreversible', 'irritable', 'irritant', 'isolated', 'itchy', 'jagged', 'jealous', 'jealousness', 'jeopardy', 'jittery', 'job-killing', 'jobless', 'lackadaisical', 'lackey', 'lackluster', 'laconic', 'laggy', 'lags', 'lame', 'lame-duck', 'lamentable', 'languid', 'languish', 'languorous', 'lanky', 'lascivious', 'last-ditch', 'laughable', 'lawless', 'lawlessness', 'layoff-happy', 'lazy', 'leaky', 'lecherous', 'leery', 'left-leaning', 'lengthy', 'less-developed', 'lesser-known', 'lethargic', 'lewdness', 'liable', 'liar', 'licentious', 'licentiousness', 'lier', 'life-threatening', 'lifeless', 'limp', 'listless', 'litigious', 'little-known', 'loathe', 'lone', 'loner', 'lonesome', 'long-time', 'long-winded', 'loophole', 'loose', 'loot', 'lose', 'loud', 'lousy', 'loveless', 'low-rated', 'ludicrous', 'lugubrious', 'lukewarm', 'lunatic', 'lurid', 'macabre', 'mad', 'madman', 'maladjustment', 'malady', 'maledict', 'malicious', 'maliciousness', 'malignant', 'malodorous', 'maniacal', 'manipulative', 'marginal', 'martyrdom', 'mawkish', 'mawkishness', 'meddle', 'meddlesome', 'melodramatic', 'meltdown', 'mendacious', 'menial', 'messed', 'messy', 'mirage', 'misbecome', 'misbehavior', 'miscellaneous', 'mischievous', 'miserable', 'miserly', 'mishandle', 'misinterpret', 'mislike', 'misread', 'misrepresent', 'misstatement', 'mist', 'mistress', 'molest', 'monotonous', 'monstrous', 'moody', 'moot', 'mordant', 'moronic', 'mortify', 'mournful', 'muddle', 'mulish', 'murderous', 'murky', 'muscle-flexing', 'mysterious', 'mystery', 'naive', 'nasty', 'nebulous', 'needless', 'nefarious', 'negate', 'negative', 'negligent', 'nervous', 'nervousness', 'nettle', 'nettlesome', 'neurotic', 'niggle', 'nightmarish', 'nitpick', 'noisy', 'non-confidence', 'nonexistent', 'nonresponsive', 'notorious', 'noxious', 'obese', 'object', 'objectionable', 'oblivious', 'obnoxious', 'obscenity', 'obsessive', 'obsessiveness', 'obsolete', 'obtrusive', 'odd', 'oddest', 'odor', 'offensive', 'officious', 'ominous', 'omission', 'one-sided', 'onerous', 'opponent', 'opportunistic', 'oppose', 'oppress', 'oppressive', 'oppressiveness', 'orphan', 'outbreak', 'outburst', 'outrageous', 'outrageousness', 'over-acted', 'over-awe', 'over-balanced', 'over-hyped', 'over-priced', 'overawe', 'overblown', 'overdue', 'overpower', 'overrated', 'oversimplify', 'oversize', 'overstatement', 'overtaxed', 'overweight', 'overwhelming', 'overzealous', 'overzelous', 'painful', 'pale', 'pan', 'panic', 'panicky', 'paradoxical', 'paralyzed', 'partisan', 'passive', 'pathetic', 'peculiar', 'pedantic', 'peevish', 'perfidious', 'perilous', 'perish', 'pernicious', 'pertinacious', 'pervasive', 'perversion', 'pessimistic', 'petrify', 'phobic', 'picky', 'pillory', 'pimple', 'pitiable', 'pitiful', 'pitiless', 'plebeian', 'poisonous', 'pokey', 'poky', 'pollute', 'pompous', 'poor', 'poorer', 'poorest', 'precarious', 'precipitous', 'prejudicial', 'preposterous', 'presumptuous', 'pretence', 'pretentious', 'pricier', 'prick', 'prideful', 'prik', 'primitive', 'problematic', 'profane', 'prohibitive', 'propaganda', 'proprietary', 'provocative', 'pugnacious', 'punch', 'punish', 'punishable', 'punitive', 'puzzlement', 'quandary', 'quarrellous', 'quarrelsome', 'questionable', 'quibble', 'radical', 'rampant', 'rascal', 'reactionary', 'rebellious', 'recant', 'recessionary', 'recklessness', 'regress', 'regretful', 'regrettable', 'relentlessness', 'remorseful', 'remorselessness', 'repetitive', 'reprehensible', 'reprehensive', 'repressive', 'reproachful', 'repudiate', 'repulsive', 'repulsiveness', 'resentful', 'restrictive', 'reticent', 'retract', 'revert', 'revulsive', 'rhetoric', 'rhetorical', 'ridiculous', 'rife', 'rigid', 'rip', 'risky', 'rival', 'rough', 'rremediable', 'rubbish', 'ruffian', 'ruinous', 'rumple', 'run-down', 'ruthlessness', 'sad', 'sadness', 'salacious', 'sanctimonious', 'sarcastic', 'sardonic', 'sass', 'satirical', 'scam', 'scandalous', 'scant', 'scarcity', 'scarier', 'scariest', 'scary', 'sceptical', 'scolded', 'scornful', 'scoundrel', 'scramble', 'scratchy', 'scream', 'screw-up', 'screwed-up', 'scummy', 'second-class', 'second-tier', 'secretive', 'sedentary', 'self-coup', 'self-criticism', 'self-defeating', 'self-destructive', 'self-humiliation', 'self-interest', 'self-interested', 'selfish', 'selfishness', 'semi-retarded', 'seriousness', 'sermonize', 'set-up', 'severe', 'shady', 'shaky', 'shallow', 'shameful', 'shamefulness', 'shamelessness', 'shatter', 'shemale', 'shoddy', 'short-lived', 'shortsightedness', 'showdown', 'shrivel', 'shrug', 'sick', 'sickly', 'siege', 'simplistic', 'sinful', 'skeptic', 'skeptical', 'sketchy', 'skimpy', 'skittish', 'skulk', 'slanderous', 'slave', 'sleazy', 'slime', 'sloooooooooooooow', 'sloooow', 'sloppy', 'slothful', 'slow', 'slower', 'slowest', 'sloww', 'sluggish', 'slur', 'smack', 'smallish', 'smokescreen', 'smother', 'smut', 'smuttier', 'smuttiest', 'smutty', 'snappish', 'snarky', 'sneaky', 'snob', 'snobbish', 'snobish', 'so-cal', 'solemn', 'solicitude', 'soreness', 'sorrowful', 'sorry', 'spade', 'spendy', 'spite', 'spiteful', 'spitefulness', 'spoil', 'spookier', 'spookiest', 'spooky', 'spoon-fed', 'sporadic', 'spurious', 'squabble', 'squeaky', 'squeal', 'squirm', 'stagnant', 'stale', 'stall', 'stark', 'starkly', 'static', 'steep', 'stench', 'stereotype', 'stereotypical', 'stern', 'sticky', 'stiff', 'stigma', 'stingy', 'stodgy', 'stole', 'stooge', 'straggle', 'strange', 'stranger', 'strangest', 'strenuous', 'strict', 'strident', 'strut', 'stubborn', 'stubbornness', 'stun', 'stupid', 'stupidest', 'stupify', 'stupor', 'sty', 'sub-par', 'submissive', 'subservient', 'subversive', 'subvert', 'succumb', 'sucky', 'suffered', 'suffocate', 'sugar-coat', 'sugar-coated', 'suicidal', 'sunder', 'superficial', 'superfluous', 'superstitious', 'susceptible', 'suspect', 'suspicious', 'swagger', 'swindle', 'swipe', 'taboo', 'tacky', 'tamper', 'tantrum', 'tardy', 'tattered', 'tawdry', 'tedious', 'temerity', 'tempest', 'tense', 'tenuous', 'tepid', 'terrible', 'terror-genic', 'testy', 'tetchy', 'thirst', 'thoughtlessness', 'throb', 'throbs', 'throttle', 'thug', 'thumb-down', 'thumbs-down', 'timidness', 'tired', 'toil', 'top-heavy', 'topple', 'torrent', 'tortuous', 'torturous', 'totalitarian', 'touted', 'toxic', 'tragedy', 'tragic', 'traitorous', 'tramp', 'trashy', 'trauma', 'traumatic', 'traumatized', 'treacherous', 'treachery', 'treasonous', 'trickery', 'tricky', 'trivial', 'troubled', 'truant', 'tumultuous', 'turbulent', 'twisted', 'two-faced', 'tyrannical', 'tyranny', 'tyrant', 'uglier', 'ugliest', 'ulterior', 'ultimatum', 'ultimatums', 'ultra-hardline', 'un-viewable', 'unable', 'unacceptable', 'unaccessible', 'unaccustomed', 'unachievable', 'unaffordable', 'unappealing', 'unattractive', 'unauthentic', 'unavailable', 'unbearable', 'unbelievable', 'uncertain', 'uncivil', 'uncivilized', 'unclean', 'unclear', 'uncollectible', 'uncomfortable', 'uncomfy', 'uncompetitive', 'unconfirmed', 'unconstitutional', 'uncontrolled', 'uncooperative', 'uncouth', 'uncreative', 'undecided', 'undefined', 'undependable', 'undercut', 'underdog', 'underestimate', 'underpaid', 'underpowered', 'undersized', 'undesirable', 'undetermined', 'undid', 'undignified', 'undissolved', 'undocumented', 'undue', 'unease', 'uneasiness', 'uneasy', 'uneconomical', 'unemployed', 'unequal', 'unethical', 'uneven', 'uneventful', 'unexpected', 'unfaithful', 'unfamiliar', 'unfavorable', 'unfinished', 'unfit', 'unforeseen', 'unfortunate', 'unfounded', 'unfunded', 'ungovernable', 'ungrateful', 'unhappiness', 'unhappy', 'unhealthy', 'unhelpful', 'unimaginable', 'unimportant', 'uninformed', 'uninsured', 'unintelligible', 'unintelligile', 'unipolar', 'unjustifiable', 'unjustified', 'unknown', 'unlamentable', 'unlawful', 'unlawfulness', 'unlikely', 'unlucky', 'unmoved', 'unnatural', 'unnecessary', 'unnerve', 'unnerved', 'unnerving', 'unnoticed', 'unobserved', 'unorthodox', 'unorthodoxy', 'unpleasant', 'unpopular', 'unpredictable', 'unprepared', 'unproductive', 'unprofitable', 'unproven', 'unqualified', 'unreachable', 'unreadable', 'unrealistic', 'unreasonable', 'unreliability', 'unreliable', 'unresolved', 'unresponsive', 'unrest', 'unruly', 'unsafe', 'unsatisfactory', 'unsavory', 'unscrupulous', 'unsecure', 'unseemly', 'unsettling', 'unskilled', 'unsophisticated', 'unspeakable', 'unspecified', 'unstable', 'unsteadily', 'unsteadiness', 'unsteady', 'unsuccessful', 'unsupported', 'unsupportive', 'unsustainable', 'untenable', 'untested', 'unthinkable', 'untouched', 'untrue', 'untrustworthy', 'untruthful', 'unusable', 'unuseable', 'unusual', 'unviewable', 'unwanted', 'unwarranted', 'unwatchable', 'unwelcome', 'unwieldy', 'unwilling', 'unwillingness', 'unworkable', 'unworthy', 'upbraid', 'upheaval', 'uproar', 'uproarious', 'uproarous', 'uproot', 'upset', 'upseting', 'urgent', 'useless', 'usurp', 'usurper', 'utterly', 'vengeful', 'vengefulness', 'venomous', 'vent', 'vibrate', 'vicious', 'viciousness', 'villainous', 'villian', 'villianous', 'vindictive', 'vindictiveness', 'viper', 'vociferous', 'volatile', 'vulnerable', 'wanton', 'war-like', 'wary', 'washed-out', 'wasteful', 'wastefulness', 'water-down', 'watered-down', 'weak', 'weaken', 'weaker', 'wearisome', 'weary', 'weep', 'wheedle', 'whimper', 'whiny', 'wickedness', 'wild', 'wilt', 'wimpy', 'wobble', 'woeful', 'worrier', 'worse', 'worst', 'worthlessness', 'wrest', 'wrestle', 'wretchedness', 'wrong', 'wrongful', 'wrought', 'zealous']\n"
     ]
    }
   ],
   "source": [
    "print((pos_adj))\n",
    "print((neg_adj))"
   ]
  },
  {
   "cell_type": "code",
   "execution_count": null,
   "id": "23cd44b9",
   "metadata": {},
   "outputs": [
    {
     "name": "stdout",
     "output_type": "stream",
     "text": [
      "80000\n"
     ]
    }
   ],
   "source": [
    "print(len(json_entries))"
   ]
  },
  {
   "cell_type": "code",
   "execution_count": null,
   "id": "b7251ee2",
   "metadata": {},
   "outputs": [],
   "source": [
    "def replace_adjectives(word):\n",
    "    if word in pos_adj:\n",
    "        return random.choice(neg_adj)\n",
    "    elif word in neg_adj:\n",
    "        return random.choice(pos_adj)\n",
    "    else:\n",
    "        return word"
   ]
  },
  {
   "cell_type": "code",
   "execution_count": null,
   "id": "bbb47e32",
   "metadata": {},
   "outputs": [],
   "source": [
    "for json_entry in json_entries:\n",
    "    if 'reviewText' in json_entry:\n",
    "        continue\n",
    "    print(json_entry)"
   ]
  },
  {
   "cell_type": "code",
   "execution_count": null,
   "id": "28cdb4ab",
   "metadata": {},
   "outputs": [],
   "source": [
    "import random\n",
    "\n",
    "counter_examples = []\n",
    "\n",
    "for json_entry in json_entries:\n",
    "    words = json_entry['reviewText'].split()\n",
    "    counter_example = ' '.join(replace_adjectives(word) for word in words)\n",
    "    counter_examples.append(counter_example)\n",
    "\n",
    "stars = []\n",
    "\n",
    "original_sentences = []\n",
    "\n",
    "success = []\n",
    "\n",
    "votes = []\n",
    "\n",
    "index = 0\n",
    "\n",
    "for json_entry in json_entries:\n",
    "    stars.append(json_entry['overall'])\n",
    "\n",
    "    votes.append(json_entry['vote'])\n",
    "\n",
    "    original_sentences.append(json_entry['reviewText'])\n",
    "\n",
    "    if json_entry['reviewText'] == counter_examples[index]:\n",
    "        success.append(\"no\")\n",
    "\n",
    "    else:\n",
    "        success.append(\"yes\")\n",
    "\n",
    "\n",
    "\n",
    "    index += 1\n",
    "\n",
    "\n",
    "\n",
    "\n",
    "dataset = {'original_sentence': original_sentences, 'flipped_sentence': counter_examples, 'star_count': stars, 'vote_count': votes, 'conversion_success': success}\n",
    "\n",
    "\n"
   ]
  },
  {
   "cell_type": "code",
   "execution_count": 19,
   "id": "88e8a7ab",
   "metadata": {},
   "outputs": [],
   "source": [
    "import pandas as pd\n",
    "dataset = pd.DataFrame(dataset)\n",
    "csv_file_path = 'dataset.csv'\n",
    "dataset.to_csv(csv_file_path, index=False)"
   ]
  },
  {
   "cell_type": "code",
   "execution_count": null,
   "id": "982f5225",
   "metadata": {},
   "outputs": [],
   "source": []
  }
 ],
 "metadata": {
  "kernelspec": {
   "display_name": "Python 3",
   "language": "python",
   "name": "python3"
  },
  "language_info": {
   "codemirror_mode": {
    "name": "ipython",
    "version": 3
   },
   "file_extension": ".py",
   "mimetype": "text/x-python",
   "name": "python",
   "nbconvert_exporter": "python",
   "pygments_lexer": "ipython3",
   "version": "3.10.9"
  }
 },
 "nbformat": 4,
 "nbformat_minor": 5
}
