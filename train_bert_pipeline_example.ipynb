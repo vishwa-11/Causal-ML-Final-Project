{
 "cells": [
  {
   "cell_type": "markdown",
   "metadata": {},
   "source": [
    "# Full Training Pipeline Example\n",
    "\n",
    "Actual code needs to be split to `.py` files for easier deployment on great lakes\n",
    "\n",
    "## Imports"
   ]
  },
  {
   "cell_type": "code",
   "execution_count": 1,
   "metadata": {},
   "outputs": [],
   "source": [
    "%load_ext autoreload\n",
    "%autoreload 2"
   ]
  },
  {
   "cell_type": "code",
   "execution_count": 2,
   "metadata": {},
   "outputs": [
    {
     "name": "stderr",
     "output_type": "stream",
     "text": [
      "2023-11-18 15:00:29.881382: I tensorflow/core/util/port.cc:110] oneDNN custom operations are on. You may see slightly different numerical results due to floating-point round-off errors from different computation orders. To turn them off, set the environment variable `TF_ENABLE_ONEDNN_OPTS=0`.\n",
      "2023-11-18 15:00:29.912964: I tensorflow/core/platform/cpu_feature_guard.cc:182] This TensorFlow binary is optimized to use available CPU instructions in performance-critical operations.\n",
      "To enable the following instructions: AVX2 AVX_VNNI FMA, in other operations, rebuild TensorFlow with the appropriate compiler flags.\n",
      "2023-11-18 15:00:30.459511: W tensorflow/compiler/tf2tensorrt/utils/py_utils.cc:38] TF-TRT Warning: Could not find TensorRT\n"
     ]
    }
   ],
   "source": [
    "import os\n",
    "import shutil\n",
    "\n",
    "import tensorflow as tf\n",
    "import tensorflow_hub as hub\n",
    "import tensorflow_text as text\n",
    "from official.nlp import optimization  # to create AdamW optimizer\n",
    "\n",
    "import matplotlib.pyplot as plt\n",
    "\n",
    "from train_methods import *\n",
    "\n",
    "tf.get_logger().setLevel('ERROR')"
   ]
  },
  {
   "cell_type": "markdown",
   "metadata": {},
   "source": [
    "## Test loading of dataset"
   ]
  },
  {
   "cell_type": "code",
   "execution_count": 3,
   "metadata": {},
   "outputs": [
    {
     "name": "stdout",
     "output_type": "stream",
     "text": [
      "Text: tf.Tensor(\n",
      "[b\"It's axxxxx super cute dress & very colorful. My only issue is that thexxxxx top portion does not cover up any cleavage. I have to wear axxxxx sports bra or camisole underneath.\"\n",
      " b\"The fit and material were all fine, but thezzzzz tie was just awkward and looked weird.  Maybe it was just me who couldn't figure out how to make it look good, but I notice in one of thezzzzz product photos thezzzzz tie does kind  of look funny.  I should have taken note of that before buying.\"\n",
      " b\"Not worth thezzzzz money. The ears are small and floppy. I wasn't expecting great quality from azzzzz Halloween costume, but this didn't even meet my low expectations. I kept thezzzzz dress for dressup. We bought azzzzz lamb tutu costume. I guess she didn't really look like azzzzz lamb, but at least it looked like azzzzz costume.\"], shape=(3,), dtype=string)\n",
      "SynType: tf.Tensor([0 1 1], shape=(3,), dtype=int8)\n",
      "Label: tf.Tensor([1 0 0], shape=(3,), dtype=int8)\n"
     ]
    },
    {
     "name": "stderr",
     "output_type": "stream",
     "text": [
      "2023-11-18 15:00:31.355806: I tensorflow/compiler/xla/stream_executor/cuda/cuda_gpu_executor.cc:981] could not open file to read NUMA node: /sys/bus/pci/devices/0000:01:00.0/numa_node\n",
      "Your kernel may have been built without NUMA support.\n",
      "2023-11-18 15:00:31.386526: W tensorflow/core/common_runtime/gpu/gpu_device.cc:1960] Cannot dlopen some GPU libraries. Please make sure the missing libraries mentioned above are installed properly if you would like to use GPU. Follow the guide at https://www.tensorflow.org/install/gpu for how to download and setup the required libraries for your platform.\n",
      "Skipping registering GPU devices...\n"
     ]
    }
   ],
   "source": [
    "train_ds = load_dataset(os.path.join('data','syn_train_small.npz'),\n",
    "                        text_key='syntheticText', confounder_key='syntheticType',\n",
    "                        label_key='above3Stars')\n",
    "val_ds = load_dataset(os.path.join('data','syn_val_small.npz'),\n",
    "                      text_key='syntheticText', confounder_key='syntheticType',\n",
    "                      label_key='above3Stars')\n",
    "\n",
    "train_ds = train_ds.batch(3)\n",
    "val_ds = val_ds.batch(3)\n",
    "for input, label in train_ds.take(1):\n",
    "  print('Text:',input['text'])\n",
    "  print('SynType:',input['confounder'])\n",
    "  print('Label:',label)"
   ]
  },
  {
   "cell_type": "markdown",
   "metadata": {},
   "source": [
    "## Test accessing BERT model which have been downloaded previously\n",
    "- (Preprocessor): https://tfhub.dev/tensorflow/bert_en_uncased_preprocess/3\n",
    "- (BERT encoder): https://tfhub.dev/tensorflow/bert_en_uncased_L-12_H-768_A-12/4"
   ]
  },
  {
   "cell_type": "code",
   "execution_count": 4,
   "metadata": {},
   "outputs": [],
   "source": [
    "dir = 'pretrained_models'\n",
    "preprocessor_path = 'bert_en_uncased_preprocess_3'\n",
    "bert_path = 'bert_en_uncased_L-12_H-768_A-12_4'\n",
    "\n",
    "tfhub_handle_preprocess = hub.load(os.path.join(dir, preprocessor_path))\n",
    "tfhub_handle_encoder = hub.load(os.path.join(dir, bert_path))"
   ]
  },
  {
   "cell_type": "markdown",
   "metadata": {},
   "source": [
    "## Load preprocess model"
   ]
  },
  {
   "cell_type": "code",
   "execution_count": 5,
   "metadata": {},
   "outputs": [],
   "source": [
    "bert_preprocess_model = hub.KerasLayer(tfhub_handle_preprocess, name='preprocessing')"
   ]
  },
  {
   "cell_type": "markdown",
   "metadata": {},
   "source": [
    "## Test preprocessing lines"
   ]
  },
  {
   "cell_type": "code",
   "execution_count": 6,
   "metadata": {},
   "outputs": [
    {
     "name": "stdout",
     "output_type": "stream",
     "text": [
      "Text       : b\"It's axxxxx super cute dress & very colorful. My only issue is that thexxxxx top portion does not cover up any cleavage. I have to wear axxxxx sports bra or camisole underneath.\"\n",
      "Keys       : ['input_type_ids', 'input_word_ids', 'input_mask']\n",
      "Shape      : (3, 128)\n",
      "Word Ids   : [  101  2009  1005  1055 22260 20348 20348  3565 10140  4377  1004  2200]\n",
      "Input Mask : [1 1 1 1 1 1 1 1 1 1 1 1]\n",
      "Type Ids   : [0 0 0 0 0 0 0 0 0 0 0 0]\n"
     ]
    }
   ],
   "source": [
    "for input, _ in train_ds.take(1):\n",
    "    text_test = input['text']\n",
    "\n",
    "# text_test = ['this is such an amazing movie!']\n",
    "text_preprocessed = bert_preprocess_model(text_test)\n",
    "\n",
    "print(f'Text       : {text_test[0]}') # note we are receiving batch inputs\n",
    "print(f'Keys       : {list(text_preprocessed.keys())}')\n",
    "print(f'Shape      : {text_preprocessed[\"input_word_ids\"].shape}')\n",
    "print(f'Word Ids   : {text_preprocessed[\"input_word_ids\"][0, :12]}')\n",
    "print(f'Input Mask : {text_preprocessed[\"input_mask\"][0, :12]}')\n",
    "print(f'Type Ids   : {text_preprocessed[\"input_type_ids\"][0, :12]}')"
   ]
  },
  {
   "cell_type": "markdown",
   "metadata": {},
   "source": [
    "## Load BERT model"
   ]
  },
  {
   "cell_type": "code",
   "execution_count": 7,
   "metadata": {},
   "outputs": [],
   "source": [
    "bert_model = hub.KerasLayer(tfhub_handle_encoder, name='BERT_encoder')"
   ]
  },
  {
   "cell_type": "markdown",
   "metadata": {},
   "source": [
    "## Test BERT working with our preprocessed text"
   ]
  },
  {
   "cell_type": "code",
   "execution_count": 8,
   "metadata": {},
   "outputs": [
    {
     "name": "stdout",
     "output_type": "stream",
     "text": [
      "Loaded BERT: <tensorflow.python.saved_model.load.Loader._recreate_base_user_object.<locals>._UserObject object at 0x7f4c6680dc00>\n",
      "Pooled Outputs Shape:(3, 768)\n",
      "Pooled Outputs Values:[-0.8078604  -0.57554567 -0.95890224  0.73254645  0.913259   -0.29215023\n",
      "  0.46230066  0.40015078 -0.89927614 -0.9999241  -0.39042553  0.9457073 ]\n",
      "Sequence Outputs Shape:(3, 128, 768)\n",
      "Sequence Outputs Values:[[ 3.3599000e-02 -3.1595385e-01 -1.4956146e-03 ... -2.5763923e-01\n",
      "   4.5631158e-01  9.3050011e-02]\n",
      " [ 5.1032650e-01 -8.6956733e-01 -2.3753889e-01 ... -3.9499438e-01\n",
      "   8.2827950e-01 -2.8813750e-01]\n",
      " [ 4.7370884e-01 -5.0527483e-01  3.6082107e-01 ... -4.6969205e-01\n",
      "   9.6912646e-01 -3.3396882e-01]\n",
      " ...\n",
      " [ 1.8833072e+00 -7.5082344e-01 -7.1077898e-02 ... -5.7196307e-01\n",
      "   2.9799420e-01 -8.7934798e-01]\n",
      " [ 3.1753525e-01  3.0668357e-01  1.1060857e+00 ... -4.5850474e-01\n",
      "   6.9181800e-02 -1.8772751e-01]\n",
      " [-7.5139411e-02 -3.3323008e-01  6.1184466e-01 ... -4.2108369e-01\n",
      "   1.5191911e-01 -3.0969080e-01]]\n"
     ]
    }
   ],
   "source": [
    "bert_results = bert_model(text_preprocessed)\n",
    "\n",
    "print(f'Loaded BERT: {tfhub_handle_encoder}')\n",
    "print(f'Pooled Outputs Shape:{bert_results[\"pooled_output\"].shape}')\n",
    "print(f'Pooled Outputs Values:{bert_results[\"pooled_output\"][0, :12]}')\n",
    "print(f'Sequence Outputs Shape:{bert_results[\"sequence_output\"].shape}')\n",
    "print(f'Sequence Outputs Values:{bert_results[\"sequence_output\"][0, :12]}')"
   ]
  },
  {
   "cell_type": "markdown",
   "metadata": {},
   "source": [
    "## Build augmented model from bert and encoding layers and mmd loss function\n",
    "\n",
    "Note how we pass in `sample_mmd_loss` as a sample method for adding MMD loss"
   ]
  },
  {
   "cell_type": "code",
   "execution_count": 12,
   "metadata": {},
   "outputs": [
    {
     "name": "stdout",
     "output_type": "stream",
     "text": [
      "1/1 [==============================] - 1s 656ms/step - loss: 10.8360 - sparse_categorical_accuracy: 0.6667\n",
      "Input:  tf.Tensor(\n",
      "[b\"It's axxxxx super cute dress & very colorful. My only issue is that thexxxxx top portion does not cover up any cleavage. I have to wear axxxxx sports bra or camisole underneath.\"\n",
      " b\"The fit and material were all fine, but thezzzzz tie was just awkward and looked weird.  Maybe it was just me who couldn't figure out how to make it look good, but I notice in one of thezzzzz product photos thezzzzz tie does kind  of look funny.  I should have taken note of that before buying.\"\n",
      " b\"Not worth thezzzzz money. The ears are small and floppy. I wasn't expecting great quality from azzzzz Halloween costume, but this didn't even meet my low expectations. I kept thezzzzz dress for dressup. We bought azzzzz lamb tutu costume. I guess she didn't really look like azzzzz lamb, but at least it looked like azzzzz costume.\"], shape=(3,), dtype=string)\n",
      "Pred_label:  tf.Tensor(\n",
      "[[2.0935292  0.41343236]\n",
      " [1.7292889  0.5807118 ]\n",
      " [1.6035517  0.83687943]], shape=(3, 2), dtype=float32)\n",
      "Actual_lebl:  tf.Tensor([1 0 0], shape=(3,), dtype=int8)\n"
     ]
    }
   ],
   "source": [
    "@tf.function\n",
    "def sample_mmd_loss(y_pred, y, z):\n",
    "    # tf.print('y:',y)\n",
    "    # tf.print('z:',z)\n",
    "    # tf.print('y_pred:',y_pred)\n",
    "\n",
    "    # z0 = z==0\n",
    "    # # M = tf.print(tf.shape(y_pred[z0])[-2]) # cannot use for calculation\n",
    "    # M = tf.reduce_sum(tf.cast(z0, dtype=tf.float32))\n",
    "\n",
    "    # return 10 + M\n",
    "\n",
    "    return 10\n",
    "\n",
    "\n",
    "\n",
    "# store preprocessor and base_model as a model\n",
    "model = build_augmented_model(bert_preprocess_model, bert_model,\n",
    "                              sample_mmd_loss) #<--- pass in a trivial loss to not affect gradients (just for demo)\n",
    "# model = build_augmented_model(bert_preprocess_model, bert_model,\n",
    "#                               lambda y_pred, y,z: conditional_mmd_loss(y_pred, y, z, 0.3)) #<--- eg on how to use with conditional mmd\n",
    "\n",
    "\n",
    "# compile with optimizer, loss and metrics\n",
    "model.compile(optimizer=\"adam\",\n",
    "              loss = tf.keras.losses.SparseCategoricalCrossentropy(from_logits=True),\n",
    "              metrics = tf.metrics.SparseCategoricalAccuracy())\n",
    "\n",
    "# test if it can process inputs\n",
    "for input, label in train_ds.take(1):\n",
    "    pred = model(input)\n",
    "    metrics = model.evaluate(input, label) # <-- note loss of +10.0 from our trivial mmd cost (set mmd_loss to None to remove)\n",
    "    print('Input: ', input['text'])\n",
    "    print('Pred_label: ', pred)\n",
    "    print('Actual_lebl: ', label)"
   ]
  },
  {
   "cell_type": "markdown",
   "metadata": {},
   "source": [
    "## Training of model"
   ]
  },
  {
   "cell_type": "code",
   "execution_count": 13,
   "metadata": {},
   "outputs": [
    {
     "name": "stdout",
     "output_type": "stream",
     "text": [
      "Training model with <tensorflow.python.saved_model.load.Loader._recreate_base_user_object.<locals>._UserObject object at 0x7f4c6680dc00>\n",
      "Epoch 1/5\n"
     ]
    },
    {
     "name": "stdout",
     "output_type": "stream",
     "text": [
      "78/78 [==============================] - 23s 286ms/step - loss: 10.7765 - sparse_categorical_accuracy: 0.5043 - val_loss: 10.6668 - val_sparse_categorical_accuracy: 0.5690\n",
      "Epoch 2/5\n",
      "78/78 [==============================] - 22s 285ms/step - loss: 10.7379 - sparse_categorical_accuracy: 0.5129 - val_loss: 10.6305 - val_sparse_categorical_accuracy: 0.7069\n",
      "Epoch 3/5\n",
      "78/78 [==============================] - 22s 286ms/step - loss: 10.6938 - sparse_categorical_accuracy: 0.5647 - val_loss: 10.6059 - val_sparse_categorical_accuracy: 0.7414\n",
      "Epoch 4/5\n",
      "78/78 [==============================] - 23s 290ms/step - loss: 10.6662 - sparse_categorical_accuracy: 0.5776 - val_loss: 10.5901 - val_sparse_categorical_accuracy: 0.7414\n",
      "Epoch 5/5\n",
      "78/78 [==============================] - 22s 287ms/step - loss: 10.6688 - sparse_categorical_accuracy: 0.5862 - val_loss: 10.5683 - val_sparse_categorical_accuracy: 0.7414\n"
     ]
    }
   ],
   "source": [
    "epochs = 5\n",
    "\n",
    "print(f'Training model with {tfhub_handle_encoder}')\n",
    "history = model.fit(x=train_ds,\n",
    "                    epochs=epochs,\n",
    "                    validation_data=val_ds)"
   ]
  },
  {
   "cell_type": "markdown",
   "metadata": {},
   "source": [
    "## Simple plot of history (not required for training)\n",
    "\n",
    "Currently, our training do not have validation, but is pretty straight forward to do so"
   ]
  },
  {
   "cell_type": "code",
   "execution_count": 14,
   "metadata": {},
   "outputs": [
    {
     "name": "stdout",
     "output_type": "stream",
     "text": [
      "dict_keys(['loss', 'sparse_categorical_accuracy', 'val_loss', 'val_sparse_categorical_accuracy'])\n"
     ]
    },
    {
     "data": {
      "text/plain": [
       "<matplotlib.legend.Legend at 0x7f4dc8eb3f40>"
      ]
     },
     "execution_count": 14,
     "metadata": {},
     "output_type": "execute_result"
    },
    {
     "data": {
      "image/png": "[encoded data removed]",
      "text/plain": [
       "<Figure size 1000x600 with 2 Axes>"
      ]
     },
     "metadata": {},
     "output_type": "display_data"
    }
   ],
   "source": [
    "history_dict = history.history\n",
    "print(history_dict.keys())\n",
    "\n",
    "acc = history_dict['sparse_categorical_accuracy']\n",
    "val_acc = history_dict['val_sparse_categorical_accuracy']\n",
    "loss = history_dict['loss']\n",
    "val_loss = history_dict['val_loss']\n",
    "\n",
    "epochs = range(1, len(acc) + 1)\n",
    "fig = plt.figure(figsize=(10, 6))\n",
    "fig.tight_layout()\n",
    "\n",
    "plt.subplot(2, 1, 1)\n",
    "# r is for \"solid red line\"\n",
    "plt.plot(epochs, loss, 'r', label='Training loss')\n",
    "# b is for \"solid blue line\"\n",
    "plt.plot(epochs, val_loss, 'b', label='Validation loss')\n",
    "plt.title('Training and validation loss')\n",
    "# plt.xlabel('Epochs')\n",
    "plt.ylabel('Loss')\n",
    "plt.legend()\n",
    "\n",
    "plt.subplot(2, 1, 2)\n",
    "plt.plot(epochs, acc, 'r', label='Training acc')\n",
    "plt.plot(epochs, val_acc, 'b', label='Validation acc')\n",
    "plt.title('Training and validation accuracy')\n",
    "plt.xlabel('Epochs')\n",
    "plt.ylabel('Accuracy')\n",
    "plt.legend(loc='lower right')"
   ]
  },
  {
   "cell_type": "markdown",
   "metadata": {},
   "source": [
    "## Saving of model weights\n",
    "- (To see if saving of entire model is possible, but this seems to be the best for now)"
   ]
  },
  {
   "cell_type": "code",
   "execution_count": 23,
   "metadata": {},
   "outputs": [],
   "source": [
    "dir = 'trained_model_weights'\n",
    "file_name = 'BERT_example_weights'\n",
    "\n",
    "# save model\n",
    "model.save_weights(os.path.join(dir, file_name))"
   ]
  },
  {
   "cell_type": "markdown",
   "metadata": {},
   "source": [
    "## Loading trained model weights"
   ]
  },
  {
   "cell_type": "code",
   "execution_count": 24,
   "metadata": {},
   "outputs": [
    {
     "name": "stdout",
     "output_type": "stream",
     "text": [
      "Input:  tf.Tensor(\n",
      "[b\"It's axxxxx super cute dress & very colorful. My only issue is that thexxxxx top portion does not cover up any cleavage. I have to wear axxxxx sports bra or camisole underneath.\"\n",
      " b\"The fit and material were all fine, but thezzzzz tie was just awkward and looked weird.  Maybe it was just me who couldn't figure out how to make it look good, but I notice in one of thezzzzz product photos thezzzzz tie does kind  of look funny.  I should have taken note of that before buying.\"\n",
      " b\"Not worth thezzzzz money. The ears are small and floppy. I wasn't expecting great quality from azzzzz Halloween costume, but this didn't even meet my low expectations. I kept thezzzzz dress for dressup. We bought azzzzz lamb tutu costume. I guess she didn't really look like azzzzz lamb, but at least it looked like azzzzz costume.\"], shape=(3,), dtype=string)\n",
      "Pred_label:  tf.Tensor(\n",
      "[[-0.40275732]\n",
      " [-0.59054637]\n",
      " [-0.99318296]], shape=(3, 1), dtype=float32)\n",
      "Actual_lebl:  tf.Tensor([ True False False], shape=(3,), dtype=bool)\n"
     ]
    }
   ],
   "source": [
    "# loads model weights from file\n",
    "model.load_weights(os.path.join(dir, file_name))\n",
    "\n",
    "# test if it can process inputs\n",
    "for input, label in train_ds.take(1):\n",
    "    pred = model(input)\n",
    "    print('Input: ', input['text'])\n",
    "    print('Pred_label: ', pred)\n",
    "    print('Actual_lebl: ', label)"
   ]
  }
 ],
 "metadata": {
  "kernelspec": {
   "display_name": "ml",
   "language": "python",
   "name": "python3"
  },
  "language_info": {
   "codemirror_mode": {
    "name": "ipython",
    "version": 3
   },
   "file_extension": ".py",
   "mimetype": "text/x-python",
   "name": "python",
   "nbconvert_exporter": "python",
   "pygments_lexer": "ipython3",
   "version": "3.10.9"
  }
 },
 "nbformat": 4,
 "nbformat_minor": 2
}
