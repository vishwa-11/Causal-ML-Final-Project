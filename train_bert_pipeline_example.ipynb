{
 "cells": [
  {
   "cell_type": "markdown",
   "metadata": {},
   "source": [
    "# Full Training Pipeline Example\n",
    "\n",
    "Actual code needs to be split to `.py` files for easier deployment on great lakes\n",
    "\n",
    "## Imports"
   ]
  },
  {
   "cell_type": "code",
   "execution_count": 1,
   "metadata": {},
   "outputs": [],
   "source": [
    "%load_ext autoreload\n",
    "%autoreload 2"
   ]
  },
  {
   "cell_type": "code",
   "execution_count": 2,
   "metadata": {},
   "outputs": [
    {
     "name": "stderr",
     "output_type": "stream",
     "text": [
      "2023-11-04 22:44:22.726020: I tensorflow/core/util/port.cc:110] oneDNN custom operations are on. You may see slightly different numerical results due to floating-point round-off errors from different computation orders. To turn them off, set the environment variable `TF_ENABLE_ONEDNN_OPTS=0`.\n",
      "2023-11-04 22:44:22.901550: I tensorflow/core/platform/cpu_feature_guard.cc:182] This TensorFlow binary is optimized to use available CPU instructions in performance-critical operations.\n",
      "To enable the following instructions: AVX2 AVX_VNNI FMA, in other operations, rebuild TensorFlow with the appropriate compiler flags.\n",
      "2023-11-04 22:44:23.727679: W tensorflow/compiler/tf2tensorrt/utils/py_utils.cc:38] TF-TRT Warning: Could not find TensorRT\n"
     ]
    }
   ],
   "source": [
    "import os\n",
    "import shutil\n",
    "\n",
    "import tensorflow as tf\n",
    "import tensorflow_hub as hub\n",
    "import tensorflow_text as text\n",
    "from official.nlp import optimization  # to create AdamW optimizer\n",
    "\n",
    "import matplotlib.pyplot as plt\n",
    "\n",
    "from train_methods import *\n",
    "\n",
    "tf.get_logger().setLevel('ERROR')"
   ]
  },
  {
   "cell_type": "markdown",
   "metadata": {},
   "source": [
    "## Test loading of dataset"
   ]
  },
  {
   "cell_type": "code",
   "execution_count": 3,
   "metadata": {},
   "outputs": [
    {
     "name": "stdout",
     "output_type": "stream",
     "text": [
      "Text: tf.Tensor(\n",
      "[b'Really comfortable and easy to nurse in.'\n",
      " b'Fun for my 9 year old grandson.' b'great little old school watch'], shape=(3,), dtype=string)\n",
      "SynType: tf.Tensor([0 1 0], shape=(3,), dtype=int64)\n",
      "Label: tf.Tensor([ True  True  True], shape=(3,), dtype=bool)\n"
     ]
    },
    {
     "name": "stderr",
     "output_type": "stream",
     "text": [
      "2023-11-04 22:44:25.006951: I tensorflow/compiler/xla/stream_executor/cuda/cuda_gpu_executor.cc:981] could not open file to read NUMA node: /sys/bus/pci/devices/0000:01:00.0/numa_node\n",
      "Your kernel may have been built without NUMA support.\n",
      "2023-11-04 22:44:25.255160: W tensorflow/core/common_runtime/gpu/gpu_device.cc:1960] Cannot dlopen some GPU libraries. Please make sure the missing libraries mentioned above are installed properly if you would like to use GPU. Follow the guide at https://www.tensorflow.org/install/gpu for how to download and setup the required libraries for your platform.\n",
      "Skipping registering GPU devices...\n"
     ]
    }
   ],
   "source": [
    "train_ds = load_dataset(os.path.join('data','syn_train_small.npz'),\n",
    "                        text_key='syntheticText', confounder_key='syntheticType',\n",
    "                        label_key='above3Stars')\n",
    "\n",
    "train_ds = train_ds.batch(3)\n",
    "for input, label in train_ds.take(1):\n",
    "  print('Text:',input['text'])\n",
    "  print('SynType:',input['confounder'])\n",
    "  print('Label:',label)"
   ]
  },
  {
   "cell_type": "markdown",
   "metadata": {},
   "source": [
    "## Test accessing BERT model which have been downloaded previously\n",
    "- (Preprocessor): https://tfhub.dev/tensorflow/bert_en_uncased_preprocess/3\n",
    "- (BERT encoder): https://tfhub.dev/tensorflow/bert_en_uncased_L-12_H-768_A-12/4"
   ]
  },
  {
   "cell_type": "code",
   "execution_count": 4,
   "metadata": {},
   "outputs": [],
   "source": [
    "dir = 'pretrained_models'\n",
    "preprocessor_path = 'bert_en_uncased_preprocess_3'\n",
    "bert_path = 'bert_en_uncased_L-12_H-768_A-12_4'\n",
    "\n",
    "tfhub_handle_preprocess = hub.load(os.path.join(dir, preprocessor_path))\n",
    "tfhub_handle_encoder = hub.load(os.path.join(dir, bert_path))"
   ]
  },
  {
   "cell_type": "markdown",
   "metadata": {},
   "source": [
    "## Load preprocess model"
   ]
  },
  {
   "cell_type": "code",
   "execution_count": 5,
   "metadata": {},
   "outputs": [],
   "source": [
    "bert_preprocess_model = hub.KerasLayer(tfhub_handle_preprocess, name='preprocessing')"
   ]
  },
  {
   "cell_type": "markdown",
   "metadata": {},
   "source": [
    "## Test preprocessing lines"
   ]
  },
  {
   "cell_type": "code",
   "execution_count": 6,
   "metadata": {},
   "outputs": [
    {
     "name": "stdout",
     "output_type": "stream",
     "text": [
      "Text       : b'Really comfortable and easy to nurse in.'\n",
      "Keys       : ['input_mask', 'input_word_ids', 'input_type_ids']\n",
      "Shape      : (3, 128)\n",
      "Word Ids   : [ 101 2428 6625 1998 3733 2000 6821 1999 1012  102    0    0]\n",
      "Input Mask : [1 1 1 1 1 1 1 1 1 1 0 0]\n",
      "Type Ids   : [0 0 0 0 0 0 0 0 0 0 0 0]\n"
     ]
    }
   ],
   "source": [
    "for input, _ in train_ds.take(1):\n",
    "    text_test = input['text']\n",
    "\n",
    "# text_test = ['this is such an amazing movie!']\n",
    "text_preprocessed = bert_preprocess_model(text_test)\n",
    "\n",
    "print(f'Text       : {text_test[0]}') # note we are receiving batch inputs\n",
    "print(f'Keys       : {list(text_preprocessed.keys())}')\n",
    "print(f'Shape      : {text_preprocessed[\"input_word_ids\"].shape}')\n",
    "print(f'Word Ids   : {text_preprocessed[\"input_word_ids\"][0, :12]}')\n",
    "print(f'Input Mask : {text_preprocessed[\"input_mask\"][0, :12]}')\n",
    "print(f'Type Ids   : {text_preprocessed[\"input_type_ids\"][0, :12]}')"
   ]
  },
  {
   "cell_type": "markdown",
   "metadata": {},
   "source": [
    "## Load BERT model"
   ]
  },
  {
   "cell_type": "code",
   "execution_count": 7,
   "metadata": {},
   "outputs": [],
   "source": [
    "bert_model = hub.KerasLayer(tfhub_handle_encoder, name='BERT_encoder')"
   ]
  },
  {
   "cell_type": "markdown",
   "metadata": {},
   "source": [
    "## Test BERT working with our preprocessed text"
   ]
  },
  {
   "cell_type": "code",
   "execution_count": 8,
   "metadata": {},
   "outputs": [
    {
     "name": "stdout",
     "output_type": "stream",
     "text": [
      "Loaded BERT: <tensorflow.python.saved_model.load.Loader._recreate_base_user_object.<locals>._UserObject object at 0x7fcb523dca30>\n",
      "Pooled Outputs Shape:(3, 768)\n",
      "Pooled Outputs Values:[-0.8911018  -0.44995022 -0.96152234  0.888853    0.89250624 -0.2579238\n",
      "  0.9336112   0.24297626 -0.881901   -0.9999801  -0.73665917  0.9725414 ]\n",
      "Sequence Outputs Shape:(3, 128, 768)\n",
      "Sequence Outputs Values:[[-0.5717427  -0.2785303  -0.09064898 ... -0.2163676   0.14871742\n",
      "   0.5528646 ]\n",
      " [-0.11702047 -0.39797044  0.2600247  ... -0.44388756  0.6651581\n",
      "   0.05599359]\n",
      " [-0.00202729 -0.41883603 -0.1955813  ... -0.5208752   1.1054397\n",
      "  -0.10642844]\n",
      " ...\n",
      " [ 0.751309    0.11808258 -0.27081656 ...  0.14186983 -0.53353894\n",
      "  -0.08406344]\n",
      " [ 0.0351866   0.00509924  0.1535177  ... -0.1417339  -0.00798567\n",
      "   0.372732  ]\n",
      " [-0.12860431 -0.27192113  0.08692047 ... -0.19333845 -0.18619394\n",
      "   0.5544615 ]]\n"
     ]
    }
   ],
   "source": [
    "bert_results = bert_model(text_preprocessed)\n",
    "\n",
    "print(f'Loaded BERT: {tfhub_handle_encoder}')\n",
    "print(f'Pooled Outputs Shape:{bert_results[\"pooled_output\"].shape}')\n",
    "print(f'Pooled Outputs Values:{bert_results[\"pooled_output\"][0, :12]}')\n",
    "print(f'Sequence Outputs Shape:{bert_results[\"sequence_output\"].shape}')\n",
    "print(f'Sequence Outputs Values:{bert_results[\"sequence_output\"][0, :12]}')"
   ]
  },
  {
   "cell_type": "markdown",
   "metadata": {},
   "source": [
    "## Build augmented model from bert and encoding layers and mmd loss function\n",
    "\n",
    "Note how we pass in `sample_mmd_loss` as a sample method for adding MMD loss"
   ]
  },
  {
   "cell_type": "code",
   "execution_count": 92,
   "metadata": {},
   "outputs": [
    {
     "name": "stdout",
     "output_type": "stream",
     "text": [
      "z: Tensor(\"Placeholder:0\", shape=(None,), dtype=bool)\n",
      "y: tf.Tensor([ True  True  True], shape=(3,), dtype=bool)\n",
      "z: Tensor(\"model_36/Cast:0\", shape=(None,), dtype=bool)\n",
      "y: tf.Tensor([ True  True  True], shape=(3,), dtype=bool)\n",
      "1/1 [==============================] - 0s 283ms/step - loss: 10.0000 - binary_accuracy: 0.0000e+00\n",
      "Input:  tf.Tensor(\n",
      "[b'Really comfortable and easy to nurse in.'\n",
      " b'Fun for my 9 year old grandson.' b'great little old school watch'], shape=(3,), dtype=string)\n",
      "Pred_label:  [10.0, 0.0]\n",
      "Actual_lebl:  tf.Tensor([ True  True  True], shape=(3,), dtype=bool)\n"
     ]
    }
   ],
   "source": [
    "def sample_mmd_loss(z, y_pred):\n",
    "    print('z:',z)\n",
    "    print('y:',y)\n",
    "    return 10\n",
    "\n",
    "# store preprocessor and base_model as a model\n",
    "model = build_augmented_model(bert_preprocess_model, bert_model,\n",
    "                              sample_mmd_loss) #<--- pass in a trivial loss to not affect gradients (just for demo)\n",
    "\n",
    "# compile with optimizer, loss and metrics\n",
    "model.compile(optimizer=\"adam\",\n",
    "              loss = tf.keras.losses.BinaryCrossentropy(from_logits=True),\n",
    "              metrics = tf.metrics.BinaryAccuracy())\n",
    "\n",
    "# test if it can process inputs\n",
    "for input, label in train_ds.take(1):\n",
    "    pred = model.evaluate(input) # <-- note loss of +10.0 from our trivial mmd cost (set mmd_loss to None to remove)\n",
    "    print('Input: ', input['text'])\n",
    "    print('Pred_label: ', pred)\n",
    "    print('Actual_lebl: ', label)"
   ]
  },
  {
   "cell_type": "markdown",
   "metadata": {},
   "source": [
    "## Training of model"
   ]
  },
  {
   "cell_type": "code",
   "execution_count": 93,
   "metadata": {},
   "outputs": [
    {
     "name": "stdout",
     "output_type": "stream",
     "text": [
      "Training model with <tensorflow.python.saved_model.load.Loader._recreate_base_user_object.<locals>._UserObject object at 0x7f9de62da8f0>\n",
      "Epoch 1/5\n"
     ]
    },
    {
     "name": "stdout",
     "output_type": "stream",
     "text": [
      "z: Tensor(\"model_36/Cast:0\", shape=(None,), dtype=bool)\n",
      "y: tf.Tensor([ True  True  True], shape=(3,), dtype=bool)\n",
      "z: Tensor(\"model_36/Cast:0\", shape=(None,), dtype=bool)\n",
      "y: tf.Tensor([ True  True  True], shape=(3,), dtype=bool)\n",
      "97/97 [==============================] - 24s 233ms/step - loss: 10.7086 - binary_accuracy: 0.5241\n",
      "Epoch 2/5\n",
      "97/97 [==============================] - 23s 234ms/step - loss: 10.6999 - binary_accuracy: 0.5586\n",
      "Epoch 3/5\n",
      "97/97 [==============================] - 23s 232ms/step - loss: 10.6866 - binary_accuracy: 0.5862\n",
      "Epoch 4/5\n",
      "97/97 [==============================] - 22s 228ms/step - loss: 10.6557 - binary_accuracy: 0.5724\n",
      "Epoch 5/5\n",
      "97/97 [==============================] - 22s 229ms/step - loss: 10.6611 - binary_accuracy: 0.5793\n"
     ]
    }
   ],
   "source": [
    "epochs = 5\n",
    "\n",
    "print(f'Training model with {tfhub_handle_encoder}')\n",
    "history = model.fit(x=train_ds,\n",
    "                    epochs=epochs)"
   ]
  },
  {
   "cell_type": "markdown",
   "metadata": {},
   "source": [
    "## Simple plot of history (not required for training)\n",
    "\n",
    "Currently, our training do not have validation, but is pretty straight forward to do so"
   ]
  },
  {
   "cell_type": "code",
   "execution_count": 95,
   "metadata": {},
   "outputs": [
    {
     "name": "stdout",
     "output_type": "stream",
     "text": [
      "dict_keys(['loss', 'binary_accuracy'])\n"
     ]
    },
    {
     "data": {
      "text/plain": [
       "<matplotlib.legend.Legend at 0x7f9eb0340a90>"
      ]
     },
     "execution_count": 95,
     "metadata": {},
     "output_type": "execute_result"
    },
    {
     "data": {
      "image/png": "[encoded data removed]",
      "text/plain": [
       "<Figure size 1000x600 with 2 Axes>"
      ]
     },
     "metadata": {},
     "output_type": "display_data"
    }
   ],
   "source": [
    "history_dict = history.history\n",
    "print(history_dict.keys())\n",
    "\n",
    "acc = history_dict['binary_accuracy']\n",
    "# val_acc = history_dict['val_binary_accuracy']\n",
    "loss = history_dict['loss']\n",
    "# val_loss = history_dict['val_loss']\n",
    "\n",
    "epochs = range(1, len(acc) + 1)\n",
    "fig = plt.figure(figsize=(10, 6))\n",
    "fig.tight_layout()\n",
    "\n",
    "plt.subplot(2, 1, 1)\n",
    "# r is for \"solid red line\"\n",
    "plt.plot(epochs, loss, 'r', label='Training loss')\n",
    "# b is for \"solid blue line\"\n",
    "# plt.plot(epochs, val_loss, 'b', label='Validation loss')\n",
    "plt.title('Training and validation loss')\n",
    "# plt.xlabel('Epochs')\n",
    "plt.ylabel('Loss')\n",
    "plt.legend()\n",
    "\n",
    "plt.subplot(2, 1, 2)\n",
    "plt.plot(epochs, acc, 'r', label='Training acc')\n",
    "# plt.plot(epochs, val_acc, 'b', label='Validation acc')\n",
    "plt.title('Training and validation accuracy')\n",
    "plt.xlabel('Epochs')\n",
    "plt.ylabel('Accuracy')\n",
    "plt.legend(loc='lower right')"
   ]
  },
  {
   "cell_type": "markdown",
   "metadata": {},
   "source": [
    "## Saving of model weights\n",
    "- (To see if saving of entire model is possible, but this seems to be the best for now)"
   ]
  },
  {
   "cell_type": "code",
   "execution_count": 98,
   "metadata": {},
   "outputs": [],
   "source": [
    "dir = 'trained_model_weights'\n",
    "file_name = 'BERT_example_weights'\n",
    "\n",
    "# save model\n",
    "model.save_weights(os.path.join(dir, file_name))"
   ]
  },
  {
   "cell_type": "markdown",
   "metadata": {},
   "source": [
    "## Loading trained model weights"
   ]
  },
  {
   "cell_type": "code",
   "execution_count": 99,
   "metadata": {},
   "outputs": [
    {
     "name": "stdout",
     "output_type": "stream",
     "text": [
      "z: tf.Tensor([False  True False], shape=(3,), dtype=bool)\n",
      "y: tf.Tensor([ True  True  True], shape=(3,), dtype=bool)\n",
      "Input:  tf.Tensor(\n",
      "[b'Really comfortable and easy to nurse in.'\n",
      " b'Fun for my 9 year old grandson.' b'great little old school watch'], shape=(3,), dtype=string)\n",
      "Pred_label:  tf.Tensor(\n",
      "[[0.23889878]\n",
      " [0.25808266]\n",
      " [0.10581377]], shape=(3, 1), dtype=float32)\n",
      "Actual_lebl:  tf.Tensor([ True  True  True], shape=(3,), dtype=bool)\n"
     ]
    }
   ],
   "source": [
    "# loads model weights from file\n",
    "model.load_weights(os.path.join(dir, file_name))\n",
    "\n",
    "# test if it can process inputs\n",
    "for input, label in train_ds.take(1):\n",
    "    pred = model(input)\n",
    "    print('Input: ', input['text'])\n",
    "    print('Pred_label: ', pred)\n",
    "    print('Actual_lebl: ', label)"
   ]
  }
 ],
 "metadata": {
  "kernelspec": {
   "display_name": "ml",
   "language": "python",
   "name": "python3"
  },
  "language_info": {
   "codemirror_mode": {
    "name": "ipython",
    "version": 3
   },
   "file_extension": ".py",
   "mimetype": "text/x-python",
   "name": "python",
   "nbconvert_exporter": "python",
   "pygments_lexer": "ipython3",
   "version": "3.10.9"
  }
 },
 "nbformat": 4,
 "nbformat_minor": 2
}
