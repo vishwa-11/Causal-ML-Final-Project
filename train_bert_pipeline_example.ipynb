{
 "cells": [
  {
   "cell_type": "markdown",
   "metadata": {},
   "source": [
    "# Full Training Pipeline Example\n",
    "\n",
    "Actual code needs to be split to `.py` files for easier deployment on great lakes\n",
    "\n",
    "## Imports"
   ]
  },
  {
   "cell_type": "code",
   "execution_count": 1,
   "metadata": {},
   "outputs": [],
   "source": [
    "%load_ext autoreload\n",
    "%autoreload 2"
   ]
  },
  {
   "cell_type": "code",
   "execution_count": 2,
   "metadata": {},
   "outputs": [
    {
     "name": "stderr",
     "output_type": "stream",
     "text": [
      "2023-11-18 13:24:25.714056: I tensorflow/core/util/port.cc:110] oneDNN custom operations are on. You may see slightly different numerical results due to floating-point round-off errors from different computation orders. To turn them off, set the environment variable `TF_ENABLE_ONEDNN_OPTS=0`.\n",
      "2023-11-18 13:24:26.230516: I tensorflow/core/platform/cpu_feature_guard.cc:182] This TensorFlow binary is optimized to use available CPU instructions in performance-critical operations.\n",
      "To enable the following instructions: AVX2 AVX_VNNI FMA, in other operations, rebuild TensorFlow with the appropriate compiler flags.\n",
      "2023-11-18 13:24:27.233419: W tensorflow/compiler/tf2tensorrt/utils/py_utils.cc:38] TF-TRT Warning: Could not find TensorRT\n"
     ]
    }
   ],
   "source": [
    "import os\n",
    "import shutil\n",
    "\n",
    "import tensorflow as tf\n",
    "import tensorflow_hub as hub\n",
    "import tensorflow_text as text\n",
    "from official.nlp import optimization  # to create AdamW optimizer\n",
    "\n",
    "import matplotlib.pyplot as plt\n",
    "\n",
    "from train_methods import *\n",
    "\n",
    "tf.get_logger().setLevel('ERROR')"
   ]
  },
  {
   "cell_type": "markdown",
   "metadata": {},
   "source": [
    "## Test loading of dataset"
   ]
  },
  {
   "cell_type": "code",
   "execution_count": 3,
   "metadata": {},
   "outputs": [
    {
     "name": "stdout",
     "output_type": "stream",
     "text": [
      "Text: tf.Tensor(\n",
      "[b\"It's axxxxx super cute dress & very colorful. My only issue is that thexxxxx top portion does not cover up any cleavage. I have to wear axxxxx sports bra or camisole underneath.\"\n",
      " b\"The fit and material were all fine, but thezzzzz tie was just awkward and looked weird.  Maybe it was just me who couldn't figure out how to make it look good, but I notice in one of thezzzzz product photos thezzzzz tie does kind  of look funny.  I should have taken note of that before buying.\"\n",
      " b\"Not worth thezzzzz money. The ears are small and floppy. I wasn't expecting great quality from azzzzz Halloween costume, but this didn't even meet my low expectations. I kept thezzzzz dress for dressup. We bought azzzzz lamb tutu costume. I guess she didn't really look like azzzzz lamb, but at least it looked like azzzzz costume.\"], shape=(3,), dtype=string)\n",
      "SynType: tf.Tensor([0 1 1], shape=(3,), dtype=int64)\n",
      "Label: tf.Tensor([ True False False], shape=(3,), dtype=bool)\n"
     ]
    },
    {
     "name": "stderr",
     "output_type": "stream",
     "text": [
      "2023-11-18 13:24:29.066311: I tensorflow/compiler/xla/stream_executor/cuda/cuda_gpu_executor.cc:981] could not open file to read NUMA node: /sys/bus/pci/devices/0000:01:00.0/numa_node\n",
      "Your kernel may have been built without NUMA support.\n",
      "2023-11-18 13:24:29.441223: W tensorflow/core/common_runtime/gpu/gpu_device.cc:1960] Cannot dlopen some GPU libraries. Please make sure the missing libraries mentioned above are installed properly if you would like to use GPU. Follow the guide at https://www.tensorflow.org/install/gpu for how to download and setup the required libraries for your platform.\n",
      "Skipping registering GPU devices...\n"
     ]
    }
   ],
   "source": [
    "train_ds = load_dataset(os.path.join('data','syn_train_small.npz'),\n",
    "                        text_key='syntheticText', confounder_key='syntheticType',\n",
    "                        label_key='above3Stars')\n",
    "val_ds = load_dataset(os.path.join('data','syn_val_small.npz'),\n",
    "                      text_key='syntheticText', confounder_key='syntheticType',\n",
    "                      label_key='above3Stars')\n",
    "\n",
    "train_ds = train_ds.batch(3)\n",
    "val_ds = val_ds.batch(3)\n",
    "for input, label in train_ds.take(1):\n",
    "  print('Text:',input['text'])\n",
    "  print('SynType:',input['confounder'])\n",
    "  print('Label:',label)"
   ]
  },
  {
   "cell_type": "markdown",
   "metadata": {},
   "source": [
    "## Test accessing BERT model which have been downloaded previously\n",
    "- (Preprocessor): https://tfhub.dev/tensorflow/bert_en_uncased_preprocess/3\n",
    "- (BERT encoder): https://tfhub.dev/tensorflow/bert_en_uncased_L-12_H-768_A-12/4"
   ]
  },
  {
   "cell_type": "code",
   "execution_count": 4,
   "metadata": {},
   "outputs": [],
   "source": [
    "dir = 'pretrained_models'\n",
    "preprocessor_path = 'bert_en_uncased_preprocess_3'\n",
    "bert_path = 'bert_en_uncased_L-12_H-768_A-12_4'\n",
    "\n",
    "tfhub_handle_preprocess = hub.load(os.path.join(dir, preprocessor_path))\n",
    "tfhub_handle_encoder = hub.load(os.path.join(dir, bert_path))"
   ]
  },
  {
   "cell_type": "markdown",
   "metadata": {},
   "source": [
    "## Load preprocess model"
   ]
  },
  {
   "cell_type": "code",
   "execution_count": 5,
   "metadata": {},
   "outputs": [],
   "source": [
    "bert_preprocess_model = hub.KerasLayer(tfhub_handle_preprocess, name='preprocessing')"
   ]
  },
  {
   "cell_type": "markdown",
   "metadata": {},
   "source": [
    "## Test preprocessing lines"
   ]
  },
  {
   "cell_type": "code",
   "execution_count": 6,
   "metadata": {},
   "outputs": [
    {
     "name": "stdout",
     "output_type": "stream",
     "text": [
      "Text       : b\"It's axxxxx super cute dress & very colorful. My only issue is that thexxxxx top portion does not cover up any cleavage. I have to wear axxxxx sports bra or camisole underneath.\"\n",
      "Keys       : ['input_type_ids', 'input_mask', 'input_word_ids']\n",
      "Shape      : (3, 128)\n",
      "Word Ids   : [  101  2009  1005  1055 22260 20348 20348  3565 10140  4377  1004  2200]\n",
      "Input Mask : [1 1 1 1 1 1 1 1 1 1 1 1]\n",
      "Type Ids   : [0 0 0 0 0 0 0 0 0 0 0 0]\n"
     ]
    }
   ],
   "source": [
    "for input, _ in train_ds.take(1):\n",
    "    text_test = input['text']\n",
    "\n",
    "# text_test = ['this is such an amazing movie!']\n",
    "text_preprocessed = bert_preprocess_model(text_test)\n",
    "\n",
    "print(f'Text       : {text_test[0]}') # note we are receiving batch inputs\n",
    "print(f'Keys       : {list(text_preprocessed.keys())}')\n",
    "print(f'Shape      : {text_preprocessed[\"input_word_ids\"].shape}')\n",
    "print(f'Word Ids   : {text_preprocessed[\"input_word_ids\"][0, :12]}')\n",
    "print(f'Input Mask : {text_preprocessed[\"input_mask\"][0, :12]}')\n",
    "print(f'Type Ids   : {text_preprocessed[\"input_type_ids\"][0, :12]}')"
   ]
  },
  {
   "cell_type": "markdown",
   "metadata": {},
   "source": [
    "## Load BERT model"
   ]
  },
  {
   "cell_type": "code",
   "execution_count": 7,
   "metadata": {},
   "outputs": [],
   "source": [
    "bert_model = hub.KerasLayer(tfhub_handle_encoder, name='BERT_encoder')"
   ]
  },
  {
   "cell_type": "markdown",
   "metadata": {},
   "source": [
    "## Test BERT working with our preprocessed text"
   ]
  },
  {
   "cell_type": "code",
   "execution_count": 8,
   "metadata": {},
   "outputs": [
    {
     "name": "stdout",
     "output_type": "stream",
     "text": [
      "Loaded BERT: <tensorflow.python.saved_model.load.Loader._recreate_base_user_object.<locals>._UserObject object at 0x7fcec1349d50>\n",
      "Pooled Outputs Shape:(3, 768)\n",
      "Pooled Outputs Values:[-0.8078604  -0.57554567 -0.95890224  0.73254645  0.913259   -0.29215023\n",
      "  0.46230066  0.40015078 -0.89927614 -0.9999241  -0.39042553  0.9457073 ]\n",
      "Sequence Outputs Shape:(3, 128, 768)\n",
      "Sequence Outputs Values:[[ 3.3599000e-02 -3.1595385e-01 -1.4956146e-03 ... -2.5763923e-01\n",
      "   4.5631158e-01  9.3050011e-02]\n",
      " [ 5.1032650e-01 -8.6956733e-01 -2.3753889e-01 ... -3.9499438e-01\n",
      "   8.2827950e-01 -2.8813750e-01]\n",
      " [ 4.7370884e-01 -5.0527483e-01  3.6082107e-01 ... -4.6969205e-01\n",
      "   9.6912646e-01 -3.3396882e-01]\n",
      " ...\n",
      " [ 1.8833072e+00 -7.5082344e-01 -7.1077898e-02 ... -5.7196307e-01\n",
      "   2.9799420e-01 -8.7934798e-01]\n",
      " [ 3.1753525e-01  3.0668357e-01  1.1060857e+00 ... -4.5850474e-01\n",
      "   6.9181800e-02 -1.8772751e-01]\n",
      " [-7.5139411e-02 -3.3323008e-01  6.1184466e-01 ... -4.2108369e-01\n",
      "   1.5191911e-01 -3.0969080e-01]]\n"
     ]
    }
   ],
   "source": [
    "bert_results = bert_model(text_preprocessed)\n",
    "\n",
    "print(f'Loaded BERT: {tfhub_handle_encoder}')\n",
    "print(f'Pooled Outputs Shape:{bert_results[\"pooled_output\"].shape}')\n",
    "print(f'Pooled Outputs Values:{bert_results[\"pooled_output\"][0, :12]}')\n",
    "print(f'Sequence Outputs Shape:{bert_results[\"sequence_output\"].shape}')\n",
    "print(f'Sequence Outputs Values:{bert_results[\"sequence_output\"][0, :12]}')"
   ]
  },
  {
   "cell_type": "markdown",
   "metadata": {},
   "source": [
    "## Build augmented model from bert and encoding layers and mmd loss function\n",
    "\n",
    "Note how we pass in `sample_mmd_loss` as a sample method for adding MMD loss"
   ]
  },
  {
   "cell_type": "code",
   "execution_count": 18,
   "metadata": {},
   "outputs": [
    {
     "name": "stdout",
     "output_type": "stream",
     "text": [
      "y: [1 0 0]\n",
      "z: [0 1 1]\n",
      "y_pred: [[0.746767044]\n",
      " [0.857412636]\n",
      " [1.04147196]]\n",
      "y: [1 0 0]\n",
      "z: [0 1 1]\n",
      "y_pred: [[0.746767104]\n",
      " [0.857412457]\n",
      " [1.04147243]]\n",
      "1/1 [==============================] - 1s 693ms/step - loss: 10.9809 - binary_accuracy: 0.3333\n",
      "Input:  tf.Tensor(\n",
      "[b\"It's axxxxx super cute dress & very colorful. My only issue is that thexxxxx top portion does not cover up any cleavage. I have to wear axxxxx sports bra or camisole underneath.\"\n",
      " b\"The fit and material were all fine, but thezzzzz tie was just awkward and looked weird.  Maybe it was just me who couldn't figure out how to make it look good, but I notice in one of thezzzzz product photos thezzzzz tie does kind  of look funny.  I should have taken note of that before buying.\"\n",
      " b\"Not worth thezzzzz money. The ears are small and floppy. I wasn't expecting great quality from azzzzz Halloween costume, but this didn't even meet my low expectations. I kept thezzzzz dress for dressup. We bought azzzzz lamb tutu costume. I guess she didn't really look like azzzzz lamb, but at least it looked like azzzzz costume.\"], shape=(3,), dtype=string)\n",
      "Pred_label:  tf.Tensor(\n",
      "[[0.74676704]\n",
      " [0.85741264]\n",
      " [1.041472  ]], shape=(3, 1), dtype=float32)\n",
      "Actual_lebl:  tf.Tensor([ True False False], shape=(3,), dtype=bool)\n"
     ]
    }
   ],
   "source": [
    "@tf.function\n",
    "def sample_mmd_loss(y_pred, y, z):\n",
    "    # tf.print('y:',y)\n",
    "    # tf.print('z:',z)\n",
    "    # tf.print('y_pred:',y_pred)\n",
    "    return 10\n",
    "\n",
    "# store preprocessor and base_model as a model\n",
    "model = build_augmented_model(bert_preprocess_model, bert_model,\n",
    "                              sample_mmd_loss) #<--- pass in a trivial loss to not affect gradients (just for demo)\n",
    "\n",
    "# compile with optimizer, loss and metrics\n",
    "model.compile(optimizer=\"adam\",\n",
    "              loss = tf.keras.losses.BinaryCrossentropy(from_logits=True),\n",
    "              metrics = tf.metrics.BinaryAccuracy())\n",
    "\n",
    "# test if it can process inputs\n",
    "for input, label in train_ds.take(1):\n",
    "    pred = model(input)\n",
    "    metrics = model.evaluate(input, label) # <-- note loss of +10.0 from our trivial mmd cost (set mmd_loss to None to remove)\n",
    "    print('Input: ', input['text'])\n",
    "    print('Pred_label: ', pred)\n",
    "    print('Actual_lebl: ', label)"
   ]
  },
  {
   "cell_type": "markdown",
   "metadata": {},
   "source": [
    "## Training of model"
   ]
  },
  {
   "cell_type": "code",
   "execution_count": 19,
   "metadata": {},
   "outputs": [
    {
     "name": "stdout",
     "output_type": "stream",
     "text": [
      "Training model with <tensorflow.python.saved_model.load.Loader._recreate_base_user_object.<locals>._UserObject object at 0x7fcec1349d50>\n",
      "Epoch 1/5\n"
     ]
    },
    {
     "name": "stdout",
     "output_type": "stream",
     "text": [
      "y: [1 0 0]\n",
      "z: [0 1 1]\n",
      "y_pred: [[0.449339092]\n",
      " [0.433889508]\n",
      " [0.969597876]]\n",
      " 1/78 [..............................] - ETA: 1:56 - loss: 10.9060 - binary_accuracy: 0.3333y: [1 1 0]\n",
      "z: [0 0 1]\n",
      "y_pred: [[0.106539302]\n",
      " [0.743052065]\n",
      " [-0.39729771]]\n",
      " 2/78 [..............................] - ETA: 18s - loss: 10.7104 - binary_accuracy: 0.5000 y: [0 0 0]\n",
      "z: [0 1 1]\n",
      "y_pred: [[0.132851303]\n",
      " [0.0661558062]\n",
      " [0.646801531]]\n",
      " 3/78 [>.............................] - ETA: 18s - loss: 10.7577 - binary_accuracy: 0.5556y: [0 1 1]\n",
      "z: [1 1 1]\n",
      "y_pred: [[-0.0214729626]\n",
      " [-0.0175831262]\n",
      " [0.112343632]]\n",
      " 4/78 [>.............................] - ETA: 17s - loss: 10.7368 - binary_accuracy: 0.5000y: [1 1 1]\n",
      "z: [0 0 1]\n",
      "y_pred: [[-0.147401676]\n",
      " [-0.20549567]\n",
      " [-0.509219229]]\n",
      " 5/78 [>.............................] - ETA: 17s - loss: 10.7595 - binary_accuracy: 0.4000y: [0 0 1]\n",
      "z: [0 1 1]\n",
      "y_pred: [[-0.293335557]\n",
      " [-0.723769844]\n",
      " [-0.478768349]]\n",
      " 6/78 [=>............................] - ETA: 17s - loss: 10.7392 - binary_accuracy: 0.4444y: [0 1 0]\n",
      "z: [1 0 0]\n",
      "y_pred: [[-0.280504435]\n",
      " [-0.557720244]\n",
      " [-0.470103294]]\n",
      " 7/78 [=>............................] - ETA: 17s - loss: 10.7317 - binary_accuracy: 0.4762y: [0 0 0]\n",
      "z: [0 1 0]\n",
      "y_pred: [[0.178863108]\n",
      " [0.435580343]\n",
      " [0.149494618]]\n",
      " 8/78 [==>...........................] - ETA: 16s - loss: 10.7440 - binary_accuracy: 0.5417y: [1 1 1]\n",
      "z: [1 0 0]\n",
      "y_pred: [[-0.741642296]\n",
      " [-0.641642511]\n",
      " [-0.83701086]]\n",
      " 9/78 [==>...........................] - ETA: 16s - loss: 10.7870 - binary_accuracy: 0.4815y: [1 1 0]\n",
      "z: [0 0 1]\n",
      "y_pred: [[-0.118714094]\n",
      " [0.451580107]\n",
      " [-0.236799538]]\n",
      "10/78 [==>...........................] - ETA: 16s - loss: 10.7693 - binary_accuracy: 0.4667y: [1 0 1]\n",
      "z: [1 0 0]\n",
      "y_pred: [[-0.467149198]\n",
      " [-0.651189685]\n",
      " [0.237259567]]\n",
      "11/78 [===>..........................] - ETA: 15s - loss: 10.7586 - binary_accuracy: 0.4545y: [0 1 0]\n",
      "z: [1 0 1]\n",
      "y_pred: [[-0.00647113193]\n",
      " [-0.341646791]\n",
      " [0.275117338]]\n",
      "12/78 [===>..........................] - ETA: 15s - loss: 10.7623 - binary_accuracy: 0.4722y: [1 1 0]\n",
      "z: [0 0 1]\n",
      "y_pred: [[-0.229916438]\n",
      " [0.0461000465]\n",
      " [-0.148122191]]\n",
      "13/78 [====>.........................] - ETA: 15s - loss: 10.7576 - binary_accuracy: 0.4615y: [0 0 1]\n",
      "z: [0 0 1]\n",
      "y_pred: [[0.344861358]\n",
      " [-0.767459929]\n",
      " [-0.54776448]]\n",
      "14/78 [====>.........................] - ETA: 15s - loss: 10.7575 - binary_accuracy: 0.4762y: [0 1 0]\n",
      "z: [1 0 1]\n",
      "y_pred: [[0.311838061]\n",
      " [-0.327853709]\n",
      " [-0.176032081]]\n",
      "15/78 [====>.........................] - ETA: 15s - loss: 10.7590 - binary_accuracy: 0.4889y: [1 1 1]\n",
      "z: [0 0 1]\n",
      "y_pred: [[0.360036045]\n",
      " [0.0622105]\n",
      " [0.3747935]]\n",
      "16/78 [=====>........................] - ETA: 14s - loss: 10.7473 - binary_accuracy: 0.4583y: [1 1 0]\n",
      "z: [0 0 1]\n",
      "y_pred: [[0.0409135856]\n",
      " [0.393700838]\n",
      " [0.0476081111]]\n",
      "17/78 [=====>........................] - ETA: 14s - loss: 10.7407 - binary_accuracy: 0.4510y: [0 0 1]\n",
      "z: [1 0 0]\n",
      "y_pred: [[-0.205556318]\n",
      " [0.398508787]\n",
      " [0.330311507]]\n",
      "18/78 [=====>........................] - ETA: 14s - loss: 10.7375 - binary_accuracy: 0.4630y: [0 1 0]\n",
      "z: [0 0 1]\n",
      "y_pred: [[0.641221702]\n",
      " [0.544565737]\n",
      " [0.352445364]]\n",
      "19/78 [======>.......................] - ETA: 14s - loss: 10.7409 - binary_accuracy: 0.4737y: [0 0 1]\n",
      "z: [1 1 0]\n",
      "y_pred: [[-0.0874269828]\n",
      " [0.184411258]\n",
      " [0.610304296]]\n",
      "20/78 [======>.......................] - ETA: 13s - loss: 10.7351 - binary_accuracy: 0.5000y: [0 0 1]\n",
      "z: [1 1 0]\n",
      "y_pred: [[-0.382742465]\n",
      " [-0.262896955]\n",
      " [0.495065093]]\n",
      "21/78 [=======>......................] - ETA: 13s - loss: 10.7249 - binary_accuracy: 0.5079y: [0 0 0]\n",
      "z: [1 0 1]\n",
      "y_pred: [[0.57555443]\n",
      " [0.701622546]\n",
      " [-0.407188594]]\n",
      "22/78 [=======>......................] - ETA: 13s - loss: 10.7319 - binary_accuracy: 0.5000y: [1 0 1]\n",
      "z: [1 1 0]\n",
      "y_pred: [[0.490596443]\n",
      " [-0.0922618732]\n",
      " [-0.152985692]]\n",
      "23/78 [=======>......................] - ETA: 13s - loss: 10.7276 - binary_accuracy: 0.4928y: [1 0 0]\n",
      "z: [0 1 1]\n",
      "y_pred: [[0.399315685]\n",
      " [-0.500800848]\n",
      " [-0.551270187]]\n",
      "24/78 [========>.....................] - ETA: 12s - loss: 10.7173 - binary_accuracy: 0.5000y: [0 1 1]\n",
      "z: [1 0 0]\n",
      "y_pred: [[-0.488312066]\n",
      " [-0.382919818]\n",
      " [-0.066901]]\n",
      "25/78 [========>.....................] - ETA: 12s - loss: 10.7167 - binary_accuracy: 0.4933y: [0 1 1]\n",
      "z: [1 1 0]\n",
      "y_pred: [[-0.408524603]\n",
      " [-0.833067298]\n",
      " [-0.647383392]]\n",
      "26/78 [=========>....................] - ETA: 12s - loss: 10.7247 - binary_accuracy: 0.4872y: [1 1 1]\n",
      "z: [0 0 0]\n",
      "y_pred: [[0.0974191353]\n",
      " [-0.540707946]\n",
      " [-1.19770479]]\n",
      "27/78 [=========>....................] - ETA: 12s - loss: 10.7362 - binary_accuracy: 0.4691y: [1 0 1]\n",
      "z: [1 1 0]\n",
      "y_pred: [[-0.531672835]\n",
      " [-0.927221239]\n",
      " [-0.857571363]]\n",
      "28/78 [=========>....................] - ETA: 11s - loss: 10.7402 - binary_accuracy: 0.4643y: [0 0 0]\n",
      "z: [0 1 0]\n",
      "y_pred: [[-0.218592137]\n",
      " [-0.769882619]\n",
      " [-0.600962281]]\n",
      "29/78 [==========>...................] - ETA: 11s - loss: 10.7308 - binary_accuracy: 0.4828y: [1 0 0]\n",
      "z: [1 1 1]\n",
      "y_pred: [[-0.167380393]\n",
      " [0.169453144]\n",
      " [-0.901671886]]\n",
      "30/78 [==========>...................] - ETA: 11s - loss: 10.7276 - binary_accuracy: 0.4889y: [0 1 0]\n",
      "z: [0 0 1]\n",
      "y_pred: [[-0.270754158]\n",
      " [-0.341856599]\n",
      " [0.314919591]]\n",
      "31/78 [==========>...................] - ETA: 11s - loss: 10.7289 - binary_accuracy: 0.4946y: [1 0 0]\n",
      "z: [0 0 1]\n",
      "y_pred: [[0.00621253671]\n",
      " [-0.183778644]\n",
      " [-1.26070094]]\n",
      "32/78 [===========>..................] - ETA: 11s - loss: 10.7223 - binary_accuracy: 0.5000y: [0 1 0]\n",
      "z: [1 1 1]\n",
      "y_pred: [[-0.314009428]\n",
      " [-0.601546228]\n",
      " [-0.186174482]]\n",
      "33/78 [===========>..................] - ETA: 10s - loss: 10.7225 - binary_accuracy: 0.5051y: [0 1 1]\n",
      "z: [1 0 0]\n",
      "y_pred: [[-0.363237917]\n",
      " [-0.111299865]\n",
      " [-0.174430311]]\n",
      "34/78 [============>.................] - ETA: 10s - loss: 10.7215 - binary_accuracy: 0.5000y: [1 0 0]\n",
      "z: [0 1 1]\n",
      "y_pred: [[-0.27924332]\n",
      " [0.1414745]\n",
      " [0.462020338]]\n",
      "35/78 [============>.................] - ETA: 10s - loss: 10.7252 - binary_accuracy: 0.5048y: [0 0 1]\n",
      "z: [1 1 1]\n",
      "y_pred: [[-0.0926348269]\n",
      " [-0.589728355]\n",
      " [-1.04385459]]\n",
      "36/78 [============>.................] - ETA: 10s - loss: 10.7276 - binary_accuracy: 0.5093y: [1 0 0]\n",
      "z: [0 1 1]\n",
      "y_pred: [[-0.125542179]\n",
      " [-0.379920065]\n",
      " [-0.419587344]]\n",
      "37/78 [=============>................] - ETA: 9s - loss: 10.7240 - binary_accuracy: 0.5135 y: [1 0 1]\n",
      "z: [1 0 0]\n",
      "y_pred: [[0.623472869]\n",
      " [0.306032836]\n",
      " [-0.712482214]]\n",
      "38/78 [=============>................] - ETA: 9s - loss: 10.7260 - binary_accuracy: 0.5175y: [1 0 0]\n",
      "z: [1 1 0]\n",
      "y_pred: [[-0.570730865]\n",
      " [-0.0446069203]\n",
      " [-0.228376091]]\n",
      "39/78 [==============>...............] - ETA: 9s - loss: 10.7269 - binary_accuracy: 0.5214y: [1 0 0]\n",
      "z: [0 0 1]\n",
      "y_pred: [[0.181776434]\n",
      " [0.330196232]\n",
      " [-0.889063895]]\n",
      "40/78 [==============>...............] - ETA: 9s - loss: 10.7239 - binary_accuracy: 0.5250y: [1 0 0]\n",
      "z: [0 1 0]\n",
      "y_pred: [[-0.148526549]\n",
      " [-0.191671759]\n",
      " [-0.215849787]]\n",
      "41/78 [==============>...............] - ETA: 8s - loss: 10.7222 - binary_accuracy: 0.5285y: [0 1 0]\n",
      "z: [1 1 1]\n",
      "y_pred: [[-0.485953778]\n",
      " [-0.368906945]\n",
      " [-0.211204857]]\n",
      "42/78 [===============>..............] - ETA: 8s - loss: 10.7206 - binary_accuracy: 0.5317y: [1 0 1]\n",
      "z: [0 0 0]\n",
      "y_pred: [[-0.431729823]\n",
      " [0.0779670402]\n",
      " [0.225997493]]\n",
      "43/78 [===============>..............] - ETA: 8s - loss: 10.7213 - binary_accuracy: 0.5271y: [1 0 0]\n",
      "z: [0 1 1]\n",
      "y_pred: [[-0.620044827]\n",
      " [-0.153854]\n",
      " [-0.891895771]]\n",
      "44/78 [===============>..............] - ETA: 8s - loss: 10.7201 - binary_accuracy: 0.5303y: [1 1 1]\n",
      "z: [0 0 1]\n",
      "y_pred: [[-0.106641412]\n",
      " [-0.0651867]\n",
      " [-0.449610651]]\n",
      "45/78 [================>.............] - ETA: 8s - loss: 10.7221 - binary_accuracy: 0.5185y: [0 1 0]\n",
      "z: [1 1 1]\n"
     ]
    }
   ],
   "source": [
    "epochs = 5\n",
    "\n",
    "print(f'Training model with {tfhub_handle_encoder}')\n",
    "history = model.fit(x=train_ds,\n",
    "                    epochs=epochs,\n",
    "                    validation_data=val_ds)"
   ]
  },
  {
   "cell_type": "markdown",
   "metadata": {},
   "source": [
    "## Simple plot of history (not required for training)\n",
    "\n",
    "Currently, our training do not have validation, but is pretty straight forward to do so"
   ]
  },
  {
   "cell_type": "code",
   "execution_count": 36,
   "metadata": {},
   "outputs": [
    {
     "name": "stdout",
     "output_type": "stream",
     "text": [
      "dict_keys(['loss', 'binary_accuracy', 'val_loss', 'val_binary_accuracy'])\n"
     ]
    },
    {
     "data": {
      "text/plain": [
       "<matplotlib.legend.Legend at 0x7f16cfe71720>"
      ]
     },
     "execution_count": 36,
     "metadata": {},
     "output_type": "execute_result"
    },
    {
     "data": {
      "image/png": "[encoded data removed]",
      "text/plain": [
       "<Figure size 1000x600 with 2 Axes>"
      ]
     },
     "metadata": {},
     "output_type": "display_data"
    }
   ],
   "source": [
    "history_dict = history.history\n",
    "print(history_dict.keys())\n",
    "\n",
    "acc = history_dict['binary_accuracy']\n",
    "val_acc = history_dict['val_binary_accuracy']\n",
    "loss = history_dict['loss']\n",
    "val_loss = history_dict['val_loss']\n",
    "\n",
    "epochs = range(1, len(acc) + 1)\n",
    "fig = plt.figure(figsize=(10, 6))\n",
    "fig.tight_layout()\n",
    "\n",
    "plt.subplot(2, 1, 1)\n",
    "# r is for \"solid red line\"\n",
    "plt.plot(epochs, loss, 'r', label='Training loss')\n",
    "# b is for \"solid blue line\"\n",
    "plt.plot(epochs, val_loss, 'b', label='Validation loss')\n",
    "plt.title('Training and validation loss')\n",
    "# plt.xlabel('Epochs')\n",
    "plt.ylabel('Loss')\n",
    "plt.legend()\n",
    "\n",
    "plt.subplot(2, 1, 2)\n",
    "plt.plot(epochs, acc, 'r', label='Training acc')\n",
    "plt.plot(epochs, val_acc, 'b', label='Validation acc')\n",
    "plt.title('Training and validation accuracy')\n",
    "plt.xlabel('Epochs')\n",
    "plt.ylabel('Accuracy')\n",
    "plt.legend(loc='lower right')"
   ]
  },
  {
   "cell_type": "markdown",
   "metadata": {},
   "source": [
    "## Saving of model weights\n",
    "- (To see if saving of entire model is possible, but this seems to be the best for now)"
   ]
  },
  {
   "cell_type": "code",
   "execution_count": 98,
   "metadata": {},
   "outputs": [],
   "source": [
    "dir = 'trained_model_weights'\n",
    "file_name = 'BERT_example_weights'\n",
    "\n",
    "# save model\n",
    "model.save_weights(os.path.join(dir, file_name))"
   ]
  },
  {
   "cell_type": "markdown",
   "metadata": {},
   "source": [
    "## Loading trained model weights"
   ]
  },
  {
   "cell_type": "code",
   "execution_count": 99,
   "metadata": {},
   "outputs": [
    {
     "name": "stdout",
     "output_type": "stream",
     "text": [
      "z: tf.Tensor([False  True False], shape=(3,), dtype=bool)\n",
      "y: tf.Tensor([ True  True  True], shape=(3,), dtype=bool)\n",
      "Input:  tf.Tensor(\n",
      "[b'Really comfortable and easy to nurse in.'\n",
      " b'Fun for my 9 year old grandson.' b'great little old school watch'], shape=(3,), dtype=string)\n",
      "Pred_label:  tf.Tensor(\n",
      "[[0.23889878]\n",
      " [0.25808266]\n",
      " [0.10581377]], shape=(3, 1), dtype=float32)\n",
      "Actual_lebl:  tf.Tensor([ True  True  True], shape=(3,), dtype=bool)\n"
     ]
    }
   ],
   "source": [
    "# loads model weights from file\n",
    "model.load_weights(os.path.join(dir, file_name))\n",
    "\n",
    "# test if it can process inputs\n",
    "for input, label in train_ds.take(1):\n",
    "    pred = model(input)\n",
    "    print('Input: ', input['text'])\n",
    "    print('Pred_label: ', pred)\n",
    "    print('Actual_lebl: ', label)"
   ]
  }
 ],
 "metadata": {
  "kernelspec": {
   "display_name": "ml",
   "language": "python",
   "name": "python3"
  },
  "language_info": {
   "codemirror_mode": {
    "name": "ipython",
    "version": 3
   },
   "file_extension": ".py",
   "mimetype": "text/x-python",
   "name": "python",
   "nbconvert_exporter": "python",
   "pygments_lexer": "ipython3",
   "version": "3.10.9"
  }
 },
 "nbformat": 4,
 "nbformat_minor": 2
}
