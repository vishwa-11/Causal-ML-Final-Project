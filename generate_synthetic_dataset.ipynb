{
 "cells": [
  {
   "cell_type": "markdown",
   "metadata": {},
   "source": [
    "# Generate Synthetic Dataset notebook"
   ]
  },
  {
   "cell_type": "code",
   "execution_count": 1,
   "metadata": {},
   "outputs": [],
   "source": [
    "%load_ext autoreload\n",
    "%autoreload 2"
   ]
  },
  {
   "cell_type": "code",
   "execution_count": 2,
   "metadata": {},
   "outputs": [],
   "source": [
    "import os\n",
    "import numpy as np\n",
    "from data_manipulation_methods import *"
   ]
  },
  {
   "cell_type": "markdown",
   "metadata": {},
   "source": [
    "## Dataset Generation"
   ]
  },
  {
   "cell_type": "markdown",
   "metadata": {},
   "source": [
    "Some overall parameters"
   ]
  },
  {
   "cell_type": "code",
   "execution_count": 3,
   "metadata": {},
   "outputs": [],
   "source": [
    "gamma = 0.3\n",
    "np.random.seed(123) # for deterministic sampling (since generated data is not checked in)"
   ]
  },
  {
   "cell_type": "markdown",
   "metadata": {},
   "source": [
    "### Step 1: Load data"
   ]
  },
  {
   "cell_type": "code",
   "execution_count": 4,
   "metadata": {},
   "outputs": [
    {
     "data": {
      "text/html": [
       "<div>\n",
       "<style scoped>\n",
       "    .dataframe tbody tr th:only-of-type {\n",
       "        vertical-align: middle;\n",
       "    }\n",
       "\n",
       "    .dataframe tbody tr th {\n",
       "        vertical-align: top;\n",
       "    }\n",
       "\n",
       "    .dataframe thead th {\n",
       "        text-align: right;\n",
       "    }\n",
       "</style>\n",
       "<table border=\"1\" class=\"dataframe\">\n",
       "  <thead>\n",
       "    <tr style=\"text-align: right;\">\n",
       "      <th></th>\n",
       "      <th>overall</th>\n",
       "      <th>vote</th>\n",
       "      <th>verified</th>\n",
       "      <th>reviewTime</th>\n",
       "      <th>reviewerID</th>\n",
       "      <th>asin</th>\n",
       "      <th>style</th>\n",
       "      <th>reviewerName</th>\n",
       "      <th>reviewText</th>\n",
       "      <th>summary</th>\n",
       "      <th>unixReviewTime</th>\n",
       "      <th>image</th>\n",
       "    </tr>\n",
       "  </thead>\n",
       "  <tbody>\n",
       "    <tr>\n",
       "      <th>0</th>\n",
       "      <td>5.0</td>\n",
       "      <td>2</td>\n",
       "      <td>True</td>\n",
       "      <td>05 4, 2014</td>\n",
       "      <td>A2IC3NZN488KWK</td>\n",
       "      <td>0871167042</td>\n",
       "      <td>{'Format:': ' Paperback'}</td>\n",
       "      <td>Ruby Tulip</td>\n",
       "      <td>This book has beautiful photos, good and under...</td>\n",
       "      <td>Unique designs</td>\n",
       "      <td>1399161600</td>\n",
       "      <td>NaN</td>\n",
       "    </tr>\n",
       "    <tr>\n",
       "      <th>1</th>\n",
       "      <td>5.0</td>\n",
       "      <td>0</td>\n",
       "      <td>True</td>\n",
       "      <td>03 31, 2014</td>\n",
       "      <td>A30FG02C424EJ5</td>\n",
       "      <td>0871167042</td>\n",
       "      <td>{'Format:': ' Paperback'}</td>\n",
       "      <td>NWCancerBaby</td>\n",
       "      <td>Loved their approach in this book and that it ...</td>\n",
       "      <td>Great Book</td>\n",
       "      <td>1396224000</td>\n",
       "      <td>NaN</td>\n",
       "    </tr>\n",
       "    <tr>\n",
       "      <th>2</th>\n",
       "      <td>5.0</td>\n",
       "      <td>0</td>\n",
       "      <td>True</td>\n",
       "      <td>05 30, 2015</td>\n",
       "      <td>A2G9GWQEWWNQUB</td>\n",
       "      <td>0871167042</td>\n",
       "      <td>{'Format:': ' Paperback'}</td>\n",
       "      <td>Pamelarenee</td>\n",
       "      <td>great</td>\n",
       "      <td>Five Stars</td>\n",
       "      <td>1432944000</td>\n",
       "      <td>NaN</td>\n",
       "    </tr>\n",
       "    <tr>\n",
       "      <th>3</th>\n",
       "      <td>5.0</td>\n",
       "      <td>0</td>\n",
       "      <td>True</td>\n",
       "      <td>02 21, 2015</td>\n",
       "      <td>A3NI5OGW35SLY2</td>\n",
       "      <td>0871167042</td>\n",
       "      <td>{'Format:': ' Paperback'}</td>\n",
       "      <td>Gail</td>\n",
       "      <td>Always love the way Eva thinks, and there are ...</td>\n",
       "      <td>Great Book!</td>\n",
       "      <td>1424476800</td>\n",
       "      <td>NaN</td>\n",
       "    </tr>\n",
       "    <tr>\n",
       "      <th>4</th>\n",
       "      <td>5.0</td>\n",
       "      <td>0</td>\n",
       "      <td>True</td>\n",
       "      <td>01 21, 2015</td>\n",
       "      <td>A1OPRA4NE56EV6</td>\n",
       "      <td>0871167042</td>\n",
       "      <td>{'Format:': ' Paperback'}</td>\n",
       "      <td>carol a inman</td>\n",
       "      <td>Nice patterns</td>\n",
       "      <td>Five Stars</td>\n",
       "      <td>1421798400</td>\n",
       "      <td>NaN</td>\n",
       "    </tr>\n",
       "  </tbody>\n",
       "</table>\n",
       "</div>"
      ],
      "text/plain": [
       "   overall vote  verified   reviewTime      reviewerID        asin  \\\n",
       "0      5.0    2      True   05 4, 2014  A2IC3NZN488KWK  0871167042   \n",
       "1      5.0    0      True  03 31, 2014  A30FG02C424EJ5  0871167042   \n",
       "2      5.0    0      True  05 30, 2015  A2G9GWQEWWNQUB  0871167042   \n",
       "3      5.0    0      True  02 21, 2015  A3NI5OGW35SLY2  0871167042   \n",
       "4      5.0    0      True  01 21, 2015  A1OPRA4NE56EV6  0871167042   \n",
       "\n",
       "                       style   reviewerName  \\\n",
       "0  {'Format:': ' Paperback'}     Ruby Tulip   \n",
       "1  {'Format:': ' Paperback'}   NWCancerBaby   \n",
       "2  {'Format:': ' Paperback'}    Pamelarenee   \n",
       "3  {'Format:': ' Paperback'}           Gail   \n",
       "4  {'Format:': ' Paperback'}  carol a inman   \n",
       "\n",
       "                                          reviewText         summary  \\\n",
       "0  This book has beautiful photos, good and under...  Unique designs   \n",
       "1  Loved their approach in this book and that it ...      Great Book   \n",
       "2                                              great      Five Stars   \n",
       "3  Always love the way Eva thinks, and there are ...     Great Book!   \n",
       "4                                      Nice patterns      Five Stars   \n",
       "\n",
       "   unixReviewTime image  \n",
       "0      1399161600   NaN  \n",
       "1      1396224000   NaN  \n",
       "2      1432944000   NaN  \n",
       "3      1424476800   NaN  \n",
       "4      1421798400   NaN  "
      ]
     },
     "execution_count": 4,
     "metadata": {},
     "output_type": "execute_result"
    }
   ],
   "source": [
    "file_dir = 'data'\n",
    "file_name = df = 'Clothing_Shoes_and_Jewelry_5.json.gz'\n",
    "df = getDF(os.path.join(file_dir, file_name)) # full dataset\n",
    "# df = getDF(os.path.join(file_dir, file_name), max_lines=1e3) # small dataset\n",
    "df.head()"
   ]
  },
  {
   "cell_type": "markdown",
   "metadata": {},
   "source": [
    "### Step 2: Add labels and perturb data"
   ]
  },
  {
   "cell_type": "code",
   "execution_count": 5,
   "metadata": {},
   "outputs": [
    {
     "data": {
      "text/html": [
       "<div>\n",
       "<style scoped>\n",
       "    .dataframe tbody tr th:only-of-type {\n",
       "        vertical-align: middle;\n",
       "    }\n",
       "\n",
       "    .dataframe tbody tr th {\n",
       "        vertical-align: top;\n",
       "    }\n",
       "\n",
       "    .dataframe thead th {\n",
       "        text-align: right;\n",
       "    }\n",
       "</style>\n",
       "<table border=\"1\" class=\"dataframe\">\n",
       "  <thead>\n",
       "    <tr style=\"text-align: right;\">\n",
       "      <th></th>\n",
       "      <th>overall</th>\n",
       "      <th>vote</th>\n",
       "      <th>verified</th>\n",
       "      <th>reviewTime</th>\n",
       "      <th>reviewerID</th>\n",
       "      <th>asin</th>\n",
       "      <th>style</th>\n",
       "      <th>reviewerName</th>\n",
       "      <th>reviewText</th>\n",
       "      <th>summary</th>\n",
       "      <th>unixReviewTime</th>\n",
       "      <th>image</th>\n",
       "      <th>above3Stars</th>\n",
       "      <th>perturbType</th>\n",
       "      <th>perturbedText</th>\n",
       "      <th>counterFactText</th>\n",
       "    </tr>\n",
       "  </thead>\n",
       "  <tbody>\n",
       "    <tr>\n",
       "      <th>0</th>\n",
       "      <td>5.0</td>\n",
       "      <td>2</td>\n",
       "      <td>True</td>\n",
       "      <td>05 4, 2014</td>\n",
       "      <td>A2IC3NZN488KWK</td>\n",
       "      <td>0871167042</td>\n",
       "      <td>{'Format:': ' Paperback'}</td>\n",
       "      <td>Ruby Tulip</td>\n",
       "      <td>This book has beautiful photos, good and under...</td>\n",
       "      <td>Unique designs</td>\n",
       "      <td>1399161600</td>\n",
       "      <td>NaN</td>\n",
       "      <td>True</td>\n",
       "      <td>1</td>\n",
       "      <td>This book has beautiful photos, good and under...</td>\n",
       "      <td>This book has beautiful photos, good and under...</td>\n",
       "    </tr>\n",
       "    <tr>\n",
       "      <th>1</th>\n",
       "      <td>5.0</td>\n",
       "      <td>0</td>\n",
       "      <td>True</td>\n",
       "      <td>03 31, 2014</td>\n",
       "      <td>A30FG02C424EJ5</td>\n",
       "      <td>0871167042</td>\n",
       "      <td>{'Format:': ' Paperback'}</td>\n",
       "      <td>NWCancerBaby</td>\n",
       "      <td>Loved their approach in this book and that it ...</td>\n",
       "      <td>Great Book</td>\n",
       "      <td>1396224000</td>\n",
       "      <td>NaN</td>\n",
       "      <td>True</td>\n",
       "      <td>0</td>\n",
       "      <td>Loved their approach in this book and that it ...</td>\n",
       "      <td>Loved their approach in this book and that it ...</td>\n",
       "    </tr>\n",
       "    <tr>\n",
       "      <th>2</th>\n",
       "      <td>5.0</td>\n",
       "      <td>0</td>\n",
       "      <td>True</td>\n",
       "      <td>05 30, 2015</td>\n",
       "      <td>A2G9GWQEWWNQUB</td>\n",
       "      <td>0871167042</td>\n",
       "      <td>{'Format:': ' Paperback'}</td>\n",
       "      <td>Pamelarenee</td>\n",
       "      <td>great</td>\n",
       "      <td>Five Stars</td>\n",
       "      <td>1432944000</td>\n",
       "      <td>NaN</td>\n",
       "      <td>True</td>\n",
       "      <td>0</td>\n",
       "      <td>great</td>\n",
       "      <td>great</td>\n",
       "    </tr>\n",
       "    <tr>\n",
       "      <th>3</th>\n",
       "      <td>5.0</td>\n",
       "      <td>0</td>\n",
       "      <td>True</td>\n",
       "      <td>02 21, 2015</td>\n",
       "      <td>A3NI5OGW35SLY2</td>\n",
       "      <td>0871167042</td>\n",
       "      <td>{'Format:': ' Paperback'}</td>\n",
       "      <td>Gail</td>\n",
       "      <td>Always love the way Eva thinks, and there are ...</td>\n",
       "      <td>Great Book!</td>\n",
       "      <td>1424476800</td>\n",
       "      <td>NaN</td>\n",
       "      <td>True</td>\n",
       "      <td>1</td>\n",
       "      <td>Always love thezzzzz way Eva thinks, and there...</td>\n",
       "      <td>Always love thexxxxx way Eva thinks, and there...</td>\n",
       "    </tr>\n",
       "    <tr>\n",
       "      <th>4</th>\n",
       "      <td>5.0</td>\n",
       "      <td>0</td>\n",
       "      <td>True</td>\n",
       "      <td>01 21, 2015</td>\n",
       "      <td>A1OPRA4NE56EV6</td>\n",
       "      <td>0871167042</td>\n",
       "      <td>{'Format:': ' Paperback'}</td>\n",
       "      <td>carol a inman</td>\n",
       "      <td>Nice patterns</td>\n",
       "      <td>Five Stars</td>\n",
       "      <td>1421798400</td>\n",
       "      <td>NaN</td>\n",
       "      <td>True</td>\n",
       "      <td>1</td>\n",
       "      <td>Nice patterns</td>\n",
       "      <td>Nice patterns</td>\n",
       "    </tr>\n",
       "  </tbody>\n",
       "</table>\n",
       "</div>"
      ],
      "text/plain": [
       "   overall vote  verified   reviewTime      reviewerID        asin  \\\n",
       "0      5.0    2      True   05 4, 2014  A2IC3NZN488KWK  0871167042   \n",
       "1      5.0    0      True  03 31, 2014  A30FG02C424EJ5  0871167042   \n",
       "2      5.0    0      True  05 30, 2015  A2G9GWQEWWNQUB  0871167042   \n",
       "3      5.0    0      True  02 21, 2015  A3NI5OGW35SLY2  0871167042   \n",
       "4      5.0    0      True  01 21, 2015  A1OPRA4NE56EV6  0871167042   \n",
       "\n",
       "                       style   reviewerName  \\\n",
       "0  {'Format:': ' Paperback'}     Ruby Tulip   \n",
       "1  {'Format:': ' Paperback'}   NWCancerBaby   \n",
       "2  {'Format:': ' Paperback'}    Pamelarenee   \n",
       "3  {'Format:': ' Paperback'}           Gail   \n",
       "4  {'Format:': ' Paperback'}  carol a inman   \n",
       "\n",
       "                                          reviewText         summary  \\\n",
       "0  This book has beautiful photos, good and under...  Unique designs   \n",
       "1  Loved their approach in this book and that it ...      Great Book   \n",
       "2                                              great      Five Stars   \n",
       "3  Always love the way Eva thinks, and there are ...     Great Book!   \n",
       "4                                      Nice patterns      Five Stars   \n",
       "\n",
       "   unixReviewTime image  above3Stars  perturbType  \\\n",
       "0      1399161600   NaN         True            1   \n",
       "1      1396224000   NaN         True            0   \n",
       "2      1432944000   NaN         True            0   \n",
       "3      1424476800   NaN         True            1   \n",
       "4      1421798400   NaN         True            1   \n",
       "\n",
       "                                       perturbedText  \\\n",
       "0  This book has beautiful photos, good and under...   \n",
       "1  Loved their approach in this book and that it ...   \n",
       "2                                              great   \n",
       "3  Always love thezzzzz way Eva thinks, and there...   \n",
       "4                                      Nice patterns   \n",
       "\n",
       "                                     counterFactText  \n",
       "0  This book has beautiful photos, good and under...  \n",
       "1  Loved their approach in this book and that it ...  \n",
       "2                                              great  \n",
       "3  Always love thexxxxx way Eva thinks, and there...  \n",
       "4                                      Nice patterns  "
      ]
     },
     "execution_count": 5,
     "metadata": {},
     "output_type": "execute_result"
    }
   ],
   "source": [
    "label_Y(df)\n",
    "synthetic_perturb(df)\n",
    "df.head()"
   ]
  },
  {
   "cell_type": "markdown",
   "metadata": {},
   "source": [
    "### Step 3: Subsample to get P(Y=1|Z=1) = P(Y=0|Z=0) = gamma"
   ]
  },
  {
   "cell_type": "code",
   "execution_count": 6,
   "metadata": {},
   "outputs": [
    {
     "name": "stdout",
     "output_type": "stream",
     "text": [
      "N_Z1: 181 N_Z1: 181\n",
      "N_Z1_Y1 54 N_Z0_Y0 54\n",
      "P(Y1|Z1): 0.2983425414364641 P(Y0|Z0): 0.2983425414364641\n"
     ]
    }
   ],
   "source": [
    "Y_label = 'above3Stars'\n",
    "Z_label = 'perturbType'\n",
    "\n",
    "subsample_data(df, gamma=gamma, Y_label=Y_label, Z_label=Z_label)\n",
    "N_Z1 = df[Y_label].sum()\n",
    "N_Y1_Z1 = (df[Y_label] & (df[Z_label]==1)).sum()\n",
    "P_Y1_Z1 = N_Y1_Z1 / N_Z1\n",
    "N_Z0 = (~df[Y_label]).sum()\n",
    "N_Y0_Z0 = ((~df[Y_label]) & (df[Z_label]==0)).sum()\n",
    "P_Y0_Z0 = N_Y0_Z0 / N_Z0\n",
    "print(\"N_Z1:\", N_Z1,\"N_Z1:\",N_Z0)\n",
    "print(\"N_Z1_Y1\", N_Y1_Z1, \"N_Z0_Y0\",N_Y0_Z0)\n",
    "print(\"P(Y1|Z1):\",P_Y1_Z1,\"P(Y0|Z0):\", P_Y0_Z0)"
   ]
  },
  {
   "cell_type": "markdown",
   "metadata": {},
   "source": [
    "### Step 4: Split to training and test set, making sure P(Y=1|Z=1) = P(Y=0|Z=0) = gamma "
   ]
  },
  {
   "cell_type": "code",
   "execution_count": 7,
   "metadata": {},
   "outputs": [
    {
     "name": "stdout",
     "output_type": "stream",
     "text": [
      "Train size: 290 Test size: 72\n",
      "N_Z1: 146 N_Z1: 144\n",
      "N_Z1_Y1 43 N_Z0_Y0 43\n",
      "P(Y1|Z1): 0.2945205479452055 P(Y0|Z0): 0.2986111111111111\n"
     ]
    }
   ],
   "source": [
    "train_ratio = 0.8\n",
    "epsilon = 0.03\n",
    "max_iter = 100\n",
    "\n",
    "train_df, test_df = split_dataset(df, train_ratio=train_ratio, gamma=gamma, epsilon=epsilon,\n",
    "                                  max_iter=100,\n",
    "                                  Y_label=Y_label, Z_label=Z_label)\n",
    "\n",
    "print(\"Train size:\", train_df.shape[0], \"Test size:\", test_df.shape[0])\n",
    "N_Z1 = train_df[Y_label].sum()\n",
    "N_Y1_Z1 = (train_df[Y_label] & (train_df[Z_label]==1)).sum()\n",
    "P_Y1_Z1 = N_Y1_Z1 / N_Z1\n",
    "N_Z0 = (~train_df[Y_label]).sum()\n",
    "N_Y0_Z0 = ((~train_df[Y_label]) & (train_df[Z_label]==0)).sum()\n",
    "P_Y0_Z0 = N_Y0_Z0 / N_Z0\n",
    "print(\"N_Z1:\", N_Z1,\"N_Z1:\",N_Z0)\n",
    "print(\"N_Z1_Y1\", N_Y1_Z1, \"N_Z0_Y0\",N_Y0_Z0)\n",
    "print(\"P(Y1|Z1):\",P_Y1_Z1,\"P(Y0|Z0):\", P_Y0_Z0)"
   ]
  },
  {
   "cell_type": "markdown",
   "metadata": {},
   "source": [
    "### Step 5: Save to .npy format"
   ]
  },
  {
   "cell_type": "code",
   "execution_count": 8,
   "metadata": {},
   "outputs": [],
   "source": [
    "out_dir = './data'\n",
    "header_name = 'header'\n",
    "train_ds_name = 'syn_train' # full dataset name\n",
    "test_ds_name = 'syn_test'\n",
    "# train_ds_name = 'syn_train_small' # small dataset name\n",
    "# test_ds_name = 'syn_test_small'\n",
    "\n",
    "np.save(os.path.join(out_dir, header_name), df.keys().to_numpy())\n",
    "np.save(os.path.join(out_dir, train_ds_name), train_df.to_numpy())\n",
    "np.save(os.path.join(out_dir, test_ds_name), test_df.to_numpy())"
   ]
  },
  {
   "cell_type": "markdown",
   "metadata": {},
   "source": [
    "## Visualize data"
   ]
  },
  {
   "cell_type": "markdown",
   "metadata": {},
   "source": [
    "Original Text"
   ]
  },
  {
   "cell_type": "code",
   "execution_count": 9,
   "metadata": {},
   "outputs": [
    {
     "name": "stdout",
     "output_type": "stream",
     "text": [
      "Just love this series, and the catch ups with the previous character just love it.\n",
      "It a good love story\n"
     ]
    }
   ],
   "source": [
    "sel_ind = 4\n",
    "print(df['reviewText'].iloc[sel_ind])"
   ]
  },
  {
   "cell_type": "markdown",
   "metadata": {},
   "source": [
    "Perturb type (ie Z= 1/0)"
   ]
  },
  {
   "cell_type": "code",
   "execution_count": 10,
   "metadata": {},
   "outputs": [
    {
     "name": "stdout",
     "output_type": "stream",
     "text": [
      "Perturb type: 0\n"
     ]
    }
   ],
   "source": [
    "print(\"Perturb type:\",df['perturbType'].iloc[sel_ind])"
   ]
  },
  {
   "cell_type": "markdown",
   "metadata": {},
   "source": [
    "Perturbed data and its counterfactual"
   ]
  },
  {
   "cell_type": "code",
   "execution_count": 11,
   "metadata": {},
   "outputs": [
    {
     "name": "stdout",
     "output_type": "stream",
     "text": [
      "Perturbed Text:\n",
      "Just love this series, and thexxxxx catch ups with thexxxxx previous character just love it.\n",
      "It axxxxx good love story\n",
      "\n",
      "Counterfactual Text:\n",
      "Just love this series, and thezzzzz catch ups with thezzzzz previous character just love it.\n",
      "It azzzzz good love story\n"
     ]
    }
   ],
   "source": [
    "print(\"Perturbed Text:\")\n",
    "print(df['perturbedText'].iloc[sel_ind])\n",
    "print()\n",
    "print(\"Counterfactual Text:\")\n",
    "print(df['counterFactText'].iloc[sel_ind])"
   ]
  }
 ],
 "metadata": {
  "kernelspec": {
   "display_name": "ml",
   "language": "python",
   "name": "python3"
  },
  "language_info": {
   "codemirror_mode": {
    "name": "ipython",
    "version": 3
   },
   "file_extension": ".py",
   "mimetype": "text/x-python",
   "name": "python",
   "nbconvert_exporter": "python",
   "pygments_lexer": "ipython3",
   "version": "3.10.9"
  }
 },
 "nbformat": 4,
 "nbformat_minor": 2
}
