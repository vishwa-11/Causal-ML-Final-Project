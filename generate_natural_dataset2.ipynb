{
 "cells": [
  {
   "cell_type": "markdown",
   "metadata": {},
   "source": [
    "# Generate Natural Dataset 2\n",
    "\n",
    "Follow up from generate natural dataset -> recall output was dataset.csv"
   ]
  },
  {
   "cell_type": "code",
   "execution_count": 1,
   "metadata": {},
   "outputs": [],
   "source": [
    "%load_ext autoreload\n",
    "%autoreload 2"
   ]
  },
  {
   "cell_type": "code",
   "execution_count": 2,
   "metadata": {},
   "outputs": [],
   "source": [
    "import pandas as pd\n",
    "import os\n",
    "from data_manipulation_methods import *"
   ]
  },
  {
   "cell_type": "code",
   "execution_count": 3,
   "metadata": {},
   "outputs": [],
   "source": [
    "data_dir = 'data'\n",
    "\n",
    "gamma = 0.3\n",
    "np.random.seed(123) # for deterministic sampling (since generated data is not checked in)"
   ]
  },
  {
   "cell_type": "markdown",
   "metadata": {},
   "source": [
    "## Step 1: Load Data"
   ]
  },
  {
   "cell_type": "code",
   "execution_count": 4,
   "metadata": {},
   "outputs": [
    {
     "name": "stderr",
     "output_type": "stream",
     "text": [
      "/tmp/ipykernel_502/2765298717.py:1: DtypeWarning: Columns (3) have mixed types. Specify dtype option on import or set low_memory=False.\n",
      "  full_df = pd.read_csv(os.path.join(data_dir, 'dataset.csv'))\n"
     ]
    },
    {
     "data": {
      "text/html": [
       "<div>\n",
       "<style scoped>\n",
       "    .dataframe tbody tr th:only-of-type {\n",
       "        vertical-align: middle;\n",
       "    }\n",
       "\n",
       "    .dataframe tbody tr th {\n",
       "        vertical-align: top;\n",
       "    }\n",
       "\n",
       "    .dataframe thead th {\n",
       "        text-align: right;\n",
       "    }\n",
       "</style>\n",
       "<table border=\"1\" class=\"dataframe\">\n",
       "  <thead>\n",
       "    <tr style=\"text-align: right;\">\n",
       "      <th></th>\n",
       "      <th>original_sentence</th>\n",
       "      <th>flipped_sentence</th>\n",
       "      <th>star_count</th>\n",
       "      <th>vote_count</th>\n",
       "      <th>conversion_success</th>\n",
       "    </tr>\n",
       "  </thead>\n",
       "  <tbody>\n",
       "    <tr>\n",
       "      <th>0</th>\n",
       "      <td>This book has beautiful photos, good and under...</td>\n",
       "      <td>This book has unhappy photos, back-wood and sc...</td>\n",
       "      <td>5.0</td>\n",
       "      <td>2</td>\n",
       "      <td>yes</td>\n",
       "    </tr>\n",
       "    <tr>\n",
       "      <th>1</th>\n",
       "      <td>I love the ideas but have no access sea glass,...</td>\n",
       "      <td>I love the ideas but have no access sea glass,...</td>\n",
       "      <td>4.0</td>\n",
       "      <td>0</td>\n",
       "      <td>yes</td>\n",
       "    </tr>\n",
       "    <tr>\n",
       "      <th>2</th>\n",
       "      <td>As someone who has never possessed the manual ...</td>\n",
       "      <td>As someone who has never possessed the manual ...</td>\n",
       "      <td>5.0</td>\n",
       "      <td>6</td>\n",
       "      <td>yes</td>\n",
       "    </tr>\n",
       "    <tr>\n",
       "      <th>3</th>\n",
       "      <td>beautiful layout and fun pictures. as a collec...</td>\n",
       "      <td>unuseable layout and fun pictures. as a collec...</td>\n",
       "      <td>5.0</td>\n",
       "      <td>0</td>\n",
       "      <td>yes</td>\n",
       "    </tr>\n",
       "    <tr>\n",
       "      <th>4</th>\n",
       "      <td>Some days ago I received my fabulous book: Org...</td>\n",
       "      <td>Some days ago I received my unwanted book: Org...</td>\n",
       "      <td>5.0</td>\n",
       "      <td>0</td>\n",
       "      <td>yes</td>\n",
       "    </tr>\n",
       "  </tbody>\n",
       "</table>\n",
       "</div>"
      ],
      "text/plain": [
       "                                   original_sentence  \\\n",
       "0  This book has beautiful photos, good and under...   \n",
       "1  I love the ideas but have no access sea glass,...   \n",
       "2  As someone who has never possessed the manual ...   \n",
       "3  beautiful layout and fun pictures. as a collec...   \n",
       "4  Some days ago I received my fabulous book: Org...   \n",
       "\n",
       "                                    flipped_sentence  star_count vote_count  \\\n",
       "0  This book has unhappy photos, back-wood and sc...         5.0          2   \n",
       "1  I love the ideas but have no access sea glass,...         4.0          0   \n",
       "2  As someone who has never possessed the manual ...         5.0          6   \n",
       "3  unuseable layout and fun pictures. as a collec...         5.0          0   \n",
       "4  Some days ago I received my unwanted book: Org...         5.0          0   \n",
       "\n",
       "  conversion_success  \n",
       "0                yes  \n",
       "1                yes  \n",
       "2                yes  \n",
       "3                yes  \n",
       "4                yes  "
      ]
     },
     "execution_count": 4,
     "metadata": {},
     "output_type": "execute_result"
    }
   ],
   "source": [
    "full_df = pd.read_csv(os.path.join(data_dir, 'dataset.csv'))\n",
    "full_df.head()"
   ]
  },
  {
   "cell_type": "markdown",
   "metadata": {},
   "source": [
    "## Step 2: Only keep those with successful conversion"
   ]
  },
  {
   "cell_type": "code",
   "execution_count": 5,
   "metadata": {},
   "outputs": [
    {
     "name": "stdout",
     "output_type": "stream",
     "text": [
      "Remaining data count: 249765\n"
     ]
    },
    {
     "data": {
      "text/html": [
       "<div>\n",
       "<style scoped>\n",
       "    .dataframe tbody tr th:only-of-type {\n",
       "        vertical-align: middle;\n",
       "    }\n",
       "\n",
       "    .dataframe tbody tr th {\n",
       "        vertical-align: top;\n",
       "    }\n",
       "\n",
       "    .dataframe thead th {\n",
       "        text-align: right;\n",
       "    }\n",
       "</style>\n",
       "<table border=\"1\" class=\"dataframe\">\n",
       "  <thead>\n",
       "    <tr style=\"text-align: right;\">\n",
       "      <th></th>\n",
       "      <th>original_sentence</th>\n",
       "      <th>flipped_sentence</th>\n",
       "      <th>star_count</th>\n",
       "      <th>vote_count</th>\n",
       "      <th>conversion_success</th>\n",
       "    </tr>\n",
       "  </thead>\n",
       "  <tbody>\n",
       "    <tr>\n",
       "      <th>0</th>\n",
       "      <td>This book has beautiful photos, good and under...</td>\n",
       "      <td>This book has unhappy photos, back-wood and sc...</td>\n",
       "      <td>5.0</td>\n",
       "      <td>2</td>\n",
       "      <td>yes</td>\n",
       "    </tr>\n",
       "    <tr>\n",
       "      <th>1</th>\n",
       "      <td>I love the ideas but have no access sea glass,...</td>\n",
       "      <td>I love the ideas but have no access sea glass,...</td>\n",
       "      <td>4.0</td>\n",
       "      <td>0</td>\n",
       "      <td>yes</td>\n",
       "    </tr>\n",
       "    <tr>\n",
       "      <th>2</th>\n",
       "      <td>As someone who has never possessed the manual ...</td>\n",
       "      <td>As someone who has never possessed the manual ...</td>\n",
       "      <td>5.0</td>\n",
       "      <td>6</td>\n",
       "      <td>yes</td>\n",
       "    </tr>\n",
       "    <tr>\n",
       "      <th>3</th>\n",
       "      <td>beautiful layout and fun pictures. as a collec...</td>\n",
       "      <td>unuseable layout and fun pictures. as a collec...</td>\n",
       "      <td>5.0</td>\n",
       "      <td>0</td>\n",
       "      <td>yes</td>\n",
       "    </tr>\n",
       "    <tr>\n",
       "      <th>4</th>\n",
       "      <td>Some days ago I received my fabulous book: Org...</td>\n",
       "      <td>Some days ago I received my unwanted book: Org...</td>\n",
       "      <td>5.0</td>\n",
       "      <td>0</td>\n",
       "      <td>yes</td>\n",
       "    </tr>\n",
       "  </tbody>\n",
       "</table>\n",
       "</div>"
      ],
      "text/plain": [
       "                                   original_sentence  \\\n",
       "0  This book has beautiful photos, good and under...   \n",
       "1  I love the ideas but have no access sea glass,...   \n",
       "2  As someone who has never possessed the manual ...   \n",
       "3  beautiful layout and fun pictures. as a collec...   \n",
       "4  Some days ago I received my fabulous book: Org...   \n",
       "\n",
       "                                    flipped_sentence  star_count vote_count  \\\n",
       "0  This book has unhappy photos, back-wood and sc...         5.0          2   \n",
       "1  I love the ideas but have no access sea glass,...         4.0          0   \n",
       "2  As someone who has never possessed the manual ...         5.0          6   \n",
       "3  unuseable layout and fun pictures. as a collec...         5.0          0   \n",
       "4  Some days ago I received my unwanted book: Org...         5.0          0   \n",
       "\n",
       "  conversion_success  \n",
       "0                yes  \n",
       "1                yes  \n",
       "2                yes  \n",
       "3                yes  \n",
       "4                yes  "
      ]
     },
     "execution_count": 5,
     "metadata": {},
     "output_type": "execute_result"
    }
   ],
   "source": [
    "filtered_df = full_df[full_df['conversion_success'] == 'yes']\n",
    "print(f\"Remaining data count: {filtered_df.shape[0]}\")\n",
    "filtered_df.head()"
   ]
  },
  {
   "cell_type": "code",
   "execution_count": 6,
   "metadata": {},
   "outputs": [
    {
     "data": {
      "text/html": [
       "<div>\n",
       "<style scoped>\n",
       "    .dataframe tbody tr th:only-of-type {\n",
       "        vertical-align: middle;\n",
       "    }\n",
       "\n",
       "    .dataframe tbody tr th {\n",
       "        vertical-align: top;\n",
       "    }\n",
       "\n",
       "    .dataframe thead th {\n",
       "        text-align: right;\n",
       "    }\n",
       "</style>\n",
       "<table border=\"1\" class=\"dataframe\">\n",
       "  <thead>\n",
       "    <tr style=\"text-align: right;\">\n",
       "      <th></th>\n",
       "      <th>original_sentence</th>\n",
       "      <th>flipped_sentence</th>\n",
       "      <th>star_count</th>\n",
       "      <th>vote_count</th>\n",
       "      <th>conversion_success</th>\n",
       "      <th>above3Stars</th>\n",
       "    </tr>\n",
       "  </thead>\n",
       "  <tbody>\n",
       "    <tr>\n",
       "      <th>0</th>\n",
       "      <td>This book has beautiful photos, good and under...</td>\n",
       "      <td>This book has unhappy photos, back-wood and sc...</td>\n",
       "      <td>5.0</td>\n",
       "      <td>2</td>\n",
       "      <td>yes</td>\n",
       "      <td>True</td>\n",
       "    </tr>\n",
       "    <tr>\n",
       "      <th>1</th>\n",
       "      <td>I love the ideas but have no access sea glass,...</td>\n",
       "      <td>I love the ideas but have no access sea glass,...</td>\n",
       "      <td>4.0</td>\n",
       "      <td>0</td>\n",
       "      <td>yes</td>\n",
       "      <td>True</td>\n",
       "    </tr>\n",
       "    <tr>\n",
       "      <th>2</th>\n",
       "      <td>As someone who has never possessed the manual ...</td>\n",
       "      <td>As someone who has never possessed the manual ...</td>\n",
       "      <td>5.0</td>\n",
       "      <td>6</td>\n",
       "      <td>yes</td>\n",
       "      <td>True</td>\n",
       "    </tr>\n",
       "    <tr>\n",
       "      <th>3</th>\n",
       "      <td>beautiful layout and fun pictures. as a collec...</td>\n",
       "      <td>unuseable layout and fun pictures. as a collec...</td>\n",
       "      <td>5.0</td>\n",
       "      <td>0</td>\n",
       "      <td>yes</td>\n",
       "      <td>True</td>\n",
       "    </tr>\n",
       "    <tr>\n",
       "      <th>4</th>\n",
       "      <td>Some days ago I received my fabulous book: Org...</td>\n",
       "      <td>Some days ago I received my unwanted book: Org...</td>\n",
       "      <td>5.0</td>\n",
       "      <td>0</td>\n",
       "      <td>yes</td>\n",
       "      <td>True</td>\n",
       "    </tr>\n",
       "  </tbody>\n",
       "</table>\n",
       "</div>"
      ],
      "text/plain": [
       "                                   original_sentence  \\\n",
       "0  This book has beautiful photos, good and under...   \n",
       "1  I love the ideas but have no access sea glass,...   \n",
       "2  As someone who has never possessed the manual ...   \n",
       "3  beautiful layout and fun pictures. as a collec...   \n",
       "4  Some days ago I received my fabulous book: Org...   \n",
       "\n",
       "                                    flipped_sentence  star_count vote_count  \\\n",
       "0  This book has unhappy photos, back-wood and sc...         5.0          2   \n",
       "1  I love the ideas but have no access sea glass,...         4.0          0   \n",
       "2  As someone who has never possessed the manual ...         5.0          6   \n",
       "3  unuseable layout and fun pictures. as a collec...         5.0          0   \n",
       "4  Some days ago I received my unwanted book: Org...         5.0          0   \n",
       "\n",
       "  conversion_success  above3Stars  \n",
       "0                yes         True  \n",
       "1                yes         True  \n",
       "2                yes         True  \n",
       "3                yes         True  \n",
       "4                yes         True  "
      ]
     },
     "execution_count": 6,
     "metadata": {},
     "output_type": "execute_result"
    }
   ],
   "source": [
    "filtered_df = filtered_df.assign(above3Stars=filtered_df['star_count'] > 3)\n",
    "filtered_df.head()"
   ]
  },
  {
   "cell_type": "code",
   "execution_count": 20,
   "metadata": {},
   "outputs": [
    {
     "ename": "AttributeError",
     "evalue": "Can only use .str accessor with string values!",
     "output_type": "error",
     "traceback": [
      "\u001b[0;31m---------------------------------------------------------------------------\u001b[0m",
      "\u001b[0;31mAttributeError\u001b[0m                            Traceback (most recent call last)",
      "\u001b[1;32m/home/mjz-arabica/eecs598_09/causal_nlp/generate_natural_dataset2.ipynb Cell 10\u001b[0m line \u001b[0;36m3\n\u001b[1;32m      <a href='vscode-notebook-cell://wsl%2Bubuntu-20.04/home/mjz-arabica/eecs598_09/causal_nlp/generate_natural_dataset2.ipynb#X24sdnNjb2RlLXJlbW90ZQ%3D%3D?line=0'>1</a>\u001b[0m \u001b[39m# clean data\u001b[39;00m\n\u001b[0;32m----> <a href='vscode-notebook-cell://wsl%2Bubuntu-20.04/home/mjz-arabica/eecs598_09/causal_nlp/generate_natural_dataset2.ipynb#X24sdnNjb2RlLXJlbW90ZQ%3D%3D?line=2'>3</a>\u001b[0m filtered_df[\u001b[39m'\u001b[39m\u001b[39mvote_count\u001b[39m\u001b[39m'\u001b[39m] \u001b[39m=\u001b[39m filtered_df[\u001b[39m'\u001b[39;49m\u001b[39mvote_count\u001b[39;49m\u001b[39m'\u001b[39;49m]\u001b[39m.\u001b[39;49mstr\u001b[39m.\u001b[39mreplace(\u001b[39m'\u001b[39m\u001b[39m,\u001b[39m\u001b[39m'\u001b[39m,\u001b[39m'\u001b[39m\u001b[39m'\u001b[39m, regex\u001b[39m=\u001b[39m\u001b[39mTrue\u001b[39;00m)\u001b[39m.\u001b[39mastype(\u001b[39mfloat\u001b[39m)\n\u001b[1;32m      <a href='vscode-notebook-cell://wsl%2Bubuntu-20.04/home/mjz-arabica/eecs598_09/causal_nlp/generate_natural_dataset2.ipynb#X24sdnNjb2RlLXJlbW90ZQ%3D%3D?line=3'>4</a>\u001b[0m filtered_df[\u001b[39m'\u001b[39m\u001b[39mvote_count\u001b[39m\u001b[39m'\u001b[39m]\u001b[39m.\u001b[39mfillna(\u001b[39m0\u001b[39m, inplace\u001b[39m=\u001b[39m\u001b[39mTrue\u001b[39;00m)\n\u001b[1;32m      <a href='vscode-notebook-cell://wsl%2Bubuntu-20.04/home/mjz-arabica/eecs598_09/causal_nlp/generate_natural_dataset2.ipynb#X24sdnNjb2RlLXJlbW90ZQ%3D%3D?line=4'>5</a>\u001b[0m filtered_df[\u001b[39m'\u001b[39m\u001b[39mvote_count\u001b[39m\u001b[39m'\u001b[39m] \u001b[39m=\u001b[39m filtered_df[\u001b[39m'\u001b[39m\u001b[39mvote_count\u001b[39m\u001b[39m'\u001b[39m]\u001b[39m.\u001b[39mastype(\u001b[39mint\u001b[39m)\n",
      "File \u001b[0;32m~/miniconda3/envs/ml/lib/python3.10/site-packages/pandas/core/generic.py:5902\u001b[0m, in \u001b[0;36mNDFrame.__getattr__\u001b[0;34m(self, name)\u001b[0m\n\u001b[1;32m   5895\u001b[0m \u001b[39mif\u001b[39;00m (\n\u001b[1;32m   5896\u001b[0m     name \u001b[39mnot\u001b[39;00m \u001b[39min\u001b[39;00m \u001b[39mself\u001b[39m\u001b[39m.\u001b[39m_internal_names_set\n\u001b[1;32m   5897\u001b[0m     \u001b[39mand\u001b[39;00m name \u001b[39mnot\u001b[39;00m \u001b[39min\u001b[39;00m \u001b[39mself\u001b[39m\u001b[39m.\u001b[39m_metadata\n\u001b[1;32m   5898\u001b[0m     \u001b[39mand\u001b[39;00m name \u001b[39mnot\u001b[39;00m \u001b[39min\u001b[39;00m \u001b[39mself\u001b[39m\u001b[39m.\u001b[39m_accessors\n\u001b[1;32m   5899\u001b[0m     \u001b[39mand\u001b[39;00m \u001b[39mself\u001b[39m\u001b[39m.\u001b[39m_info_axis\u001b[39m.\u001b[39m_can_hold_identifiers_and_holds_name(name)\n\u001b[1;32m   5900\u001b[0m ):\n\u001b[1;32m   5901\u001b[0m     \u001b[39mreturn\u001b[39;00m \u001b[39mself\u001b[39m[name]\n\u001b[0;32m-> 5902\u001b[0m \u001b[39mreturn\u001b[39;00m \u001b[39mobject\u001b[39;49m\u001b[39m.\u001b[39;49m\u001b[39m__getattribute__\u001b[39;49m(\u001b[39mself\u001b[39;49m, name)\n",
      "File \u001b[0;32m~/miniconda3/envs/ml/lib/python3.10/site-packages/pandas/core/accessor.py:182\u001b[0m, in \u001b[0;36mCachedAccessor.__get__\u001b[0;34m(self, obj, cls)\u001b[0m\n\u001b[1;32m    179\u001b[0m \u001b[39mif\u001b[39;00m obj \u001b[39mis\u001b[39;00m \u001b[39mNone\u001b[39;00m:\n\u001b[1;32m    180\u001b[0m     \u001b[39m# we're accessing the attribute of the class, i.e., Dataset.geo\u001b[39;00m\n\u001b[1;32m    181\u001b[0m     \u001b[39mreturn\u001b[39;00m \u001b[39mself\u001b[39m\u001b[39m.\u001b[39m_accessor\n\u001b[0;32m--> 182\u001b[0m accessor_obj \u001b[39m=\u001b[39m \u001b[39mself\u001b[39;49m\u001b[39m.\u001b[39;49m_accessor(obj)\n\u001b[1;32m    183\u001b[0m \u001b[39m# Replace the property with the accessor object. Inspired by:\u001b[39;00m\n\u001b[1;32m    184\u001b[0m \u001b[39m# https://www.pydanny.com/cached-property.html\u001b[39;00m\n\u001b[1;32m    185\u001b[0m \u001b[39m# We need to use object.__setattr__ because we overwrite __setattr__ on\u001b[39;00m\n\u001b[1;32m    186\u001b[0m \u001b[39m# NDFrame\u001b[39;00m\n\u001b[1;32m    187\u001b[0m \u001b[39mobject\u001b[39m\u001b[39m.\u001b[39m\u001b[39m__setattr__\u001b[39m(obj, \u001b[39mself\u001b[39m\u001b[39m.\u001b[39m_name, accessor_obj)\n",
      "File \u001b[0;32m~/miniconda3/envs/ml/lib/python3.10/site-packages/pandas/core/strings/accessor.py:181\u001b[0m, in \u001b[0;36mStringMethods.__init__\u001b[0;34m(self, data)\u001b[0m\n\u001b[1;32m    178\u001b[0m \u001b[39mdef\u001b[39;00m \u001b[39m__init__\u001b[39m(\u001b[39mself\u001b[39m, data) \u001b[39m-\u001b[39m\u001b[39m>\u001b[39m \u001b[39mNone\u001b[39;00m:\n\u001b[1;32m    179\u001b[0m     \u001b[39mfrom\u001b[39;00m \u001b[39mpandas\u001b[39;00m\u001b[39m.\u001b[39;00m\u001b[39mcore\u001b[39;00m\u001b[39m.\u001b[39;00m\u001b[39marrays\u001b[39;00m\u001b[39m.\u001b[39;00m\u001b[39mstring_\u001b[39;00m \u001b[39mimport\u001b[39;00m StringDtype\n\u001b[0;32m--> 181\u001b[0m     \u001b[39mself\u001b[39m\u001b[39m.\u001b[39m_inferred_dtype \u001b[39m=\u001b[39m \u001b[39mself\u001b[39;49m\u001b[39m.\u001b[39;49m_validate(data)\n\u001b[1;32m    182\u001b[0m     \u001b[39mself\u001b[39m\u001b[39m.\u001b[39m_is_categorical \u001b[39m=\u001b[39m is_categorical_dtype(data\u001b[39m.\u001b[39mdtype)\n\u001b[1;32m    183\u001b[0m     \u001b[39mself\u001b[39m\u001b[39m.\u001b[39m_is_string \u001b[39m=\u001b[39m \u001b[39misinstance\u001b[39m(data\u001b[39m.\u001b[39mdtype, StringDtype)\n",
      "File \u001b[0;32m~/miniconda3/envs/ml/lib/python3.10/site-packages/pandas/core/strings/accessor.py:235\u001b[0m, in \u001b[0;36mStringMethods._validate\u001b[0;34m(data)\u001b[0m\n\u001b[1;32m    232\u001b[0m inferred_dtype \u001b[39m=\u001b[39m lib\u001b[39m.\u001b[39minfer_dtype(values, skipna\u001b[39m=\u001b[39m\u001b[39mTrue\u001b[39;00m)\n\u001b[1;32m    234\u001b[0m \u001b[39mif\u001b[39;00m inferred_dtype \u001b[39mnot\u001b[39;00m \u001b[39min\u001b[39;00m allowed_types:\n\u001b[0;32m--> 235\u001b[0m     \u001b[39mraise\u001b[39;00m \u001b[39mAttributeError\u001b[39;00m(\u001b[39m\"\u001b[39m\u001b[39mCan only use .str accessor with string values!\u001b[39m\u001b[39m\"\u001b[39m)\n\u001b[1;32m    236\u001b[0m \u001b[39mreturn\u001b[39;00m inferred_dtype\n",
      "\u001b[0;31mAttributeError\u001b[0m: Can only use .str accessor with string values!"
     ]
    }
   ],
   "source": [
    "# clean data\n",
    "\n",
    "filtered_df['vote_count'] = filtered_df['vote_count'].astype(str).str.replace(',','', regex=True).astype(float)\n",
    "filtered_df['vote_count'].fillna(0, inplace=True)\n",
    "filtered_df['vote_count'] = filtered_df['vote_count'].astype(int)\n",
    "\n",
    "# check if all converted to digits\n",
    "N = filtered_df.shape[0]\n",
    "is_digit_count = filtered_df['vote_count'].astype(str).str.isdigit().sum()\n",
    "print(f'Full size ={N}, Is digit size = {is_digit_count}')"
   ]
  },
  {
   "cell_type": "markdown",
   "metadata": {},
   "source": [
    "## Step 3: Data balancing\n",
    "\n",
    "Want: $P(Y=1|Z=1) = P(Y=0|Z=0) = \\gamma$\n",
    "\n",
    "See Appendix -> B.2.1"
   ]
  },
  {
   "cell_type": "code",
   "execution_count": 7,
   "metadata": {},
   "outputs": [
    {
     "name": "stdout",
     "output_type": "stream",
     "text": [
      "Before:\n"
     ]
    },
    {
     "ename": "TypeError",
     "evalue": "'>' not supported between instances of 'str' and 'int'",
     "output_type": "error",
     "traceback": [
      "\u001b[0;31m---------------------------------------------------------------------------\u001b[0m",
      "\u001b[0;31mTypeError\u001b[0m                                 Traceback (most recent call last)",
      "\u001b[1;32m/home/mjz-arabica/eecs598_09/causal_nlp/generate_natural_dataset2.ipynb Cell 11\u001b[0m line \u001b[0;36m7\n\u001b[1;32m      <a href='vscode-notebook-cell://wsl%2Bubuntu-20.04/home/mjz-arabica/eecs598_09/causal_nlp/generate_natural_dataset2.ipynb#X13sdnNjb2RlLXJlbW90ZQ%3D%3D?line=3'>4</a>\u001b[0m \u001b[39mprint\u001b[39m(\u001b[39m'\u001b[39m\u001b[39mBefore:\u001b[39m\u001b[39m'\u001b[39m)\n\u001b[1;32m      <a href='vscode-notebook-cell://wsl%2Bubuntu-20.04/home/mjz-arabica/eecs598_09/causal_nlp/generate_natural_dataset2.ipynb#X13sdnNjb2RlLXJlbW90ZQ%3D%3D?line=5'>6</a>\u001b[0m num_above3stars \u001b[39m=\u001b[39m (filtered_df[\u001b[39m'\u001b[39m\u001b[39mabove3Stars\u001b[39m\u001b[39m'\u001b[39m])\u001b[39m.\u001b[39msum()\n\u001b[0;32m----> <a href='vscode-notebook-cell://wsl%2Bubuntu-20.04/home/mjz-arabica/eecs598_09/causal_nlp/generate_natural_dataset2.ipynb#X13sdnNjb2RlLXJlbW90ZQ%3D%3D?line=6'>7</a>\u001b[0m num_above3stars_hasVote \u001b[39m=\u001b[39m (filtered_df[filtered_df[\u001b[39m'\u001b[39;49m\u001b[39mabove3Stars\u001b[39;49m\u001b[39m'\u001b[39;49m]][\u001b[39m'\u001b[39;49m\u001b[39mvote_count\u001b[39;49m\u001b[39m'\u001b[39;49m] \u001b[39m>\u001b[39;49m \u001b[39m0\u001b[39;49m)\u001b[39m.\u001b[39msum()\n\u001b[1;32m      <a href='vscode-notebook-cell://wsl%2Bubuntu-20.04/home/mjz-arabica/eecs598_09/causal_nlp/generate_natural_dataset2.ipynb#X13sdnNjb2RlLXJlbW90ZQ%3D%3D?line=7'>8</a>\u001b[0m \u001b[39mprint\u001b[39m(\u001b[39mf\u001b[39m\u001b[39m'\u001b[39m\u001b[39mnum Z=1 = \u001b[39m\u001b[39m{\u001b[39;00mnum_above3stars\u001b[39m}\u001b[39;00m\u001b[39m'\u001b[39m)\n\u001b[1;32m      <a href='vscode-notebook-cell://wsl%2Bubuntu-20.04/home/mjz-arabica/eecs598_09/causal_nlp/generate_natural_dataset2.ipynb#X13sdnNjb2RlLXJlbW90ZQ%3D%3D?line=8'>9</a>\u001b[0m \u001b[39mprint\u001b[39m(\u001b[39mf\u001b[39m\u001b[39m'\u001b[39m\u001b[39mnum V>0|Z=1 = \u001b[39m\u001b[39m{\u001b[39;00mnum_above3stars_hasVote\u001b[39m}\u001b[39;00m\u001b[39m'\u001b[39m)\n",
      "File \u001b[0;32m~/miniconda3/envs/ml/lib/python3.10/site-packages/pandas/core/ops/common.py:72\u001b[0m, in \u001b[0;36m_unpack_zerodim_and_defer.<locals>.new_method\u001b[0;34m(self, other)\u001b[0m\n\u001b[1;32m     68\u001b[0m             \u001b[39mreturn\u001b[39;00m \u001b[39mNotImplemented\u001b[39m\n\u001b[1;32m     70\u001b[0m other \u001b[39m=\u001b[39m item_from_zerodim(other)\n\u001b[0;32m---> 72\u001b[0m \u001b[39mreturn\u001b[39;00m method(\u001b[39mself\u001b[39;49m, other)\n",
      "File \u001b[0;32m~/miniconda3/envs/ml/lib/python3.10/site-packages/pandas/core/arraylike.py:58\u001b[0m, in \u001b[0;36mOpsMixin.__gt__\u001b[0;34m(self, other)\u001b[0m\n\u001b[1;32m     56\u001b[0m \u001b[39m@unpack_zerodim_and_defer\u001b[39m(\u001b[39m\"\u001b[39m\u001b[39m__gt__\u001b[39m\u001b[39m\"\u001b[39m)\n\u001b[1;32m     57\u001b[0m \u001b[39mdef\u001b[39;00m \u001b[39m__gt__\u001b[39m(\u001b[39mself\u001b[39m, other):\n\u001b[0;32m---> 58\u001b[0m     \u001b[39mreturn\u001b[39;00m \u001b[39mself\u001b[39;49m\u001b[39m.\u001b[39;49m_cmp_method(other, operator\u001b[39m.\u001b[39;49mgt)\n",
      "File \u001b[0;32m~/miniconda3/envs/ml/lib/python3.10/site-packages/pandas/core/series.py:6243\u001b[0m, in \u001b[0;36mSeries._cmp_method\u001b[0;34m(self, other, op)\u001b[0m\n\u001b[1;32m   6240\u001b[0m rvalues \u001b[39m=\u001b[39m extract_array(other, extract_numpy\u001b[39m=\u001b[39m\u001b[39mTrue\u001b[39;00m, extract_range\u001b[39m=\u001b[39m\u001b[39mTrue\u001b[39;00m)\n\u001b[1;32m   6242\u001b[0m \u001b[39mwith\u001b[39;00m np\u001b[39m.\u001b[39merrstate(\u001b[39mall\u001b[39m\u001b[39m=\u001b[39m\u001b[39m\"\u001b[39m\u001b[39mignore\u001b[39m\u001b[39m\"\u001b[39m):\n\u001b[0;32m-> 6243\u001b[0m     res_values \u001b[39m=\u001b[39m ops\u001b[39m.\u001b[39;49mcomparison_op(lvalues, rvalues, op)\n\u001b[1;32m   6245\u001b[0m \u001b[39mreturn\u001b[39;00m \u001b[39mself\u001b[39m\u001b[39m.\u001b[39m_construct_result(res_values, name\u001b[39m=\u001b[39mres_name)\n",
      "File \u001b[0;32m~/miniconda3/envs/ml/lib/python3.10/site-packages/pandas/core/ops/array_ops.py:287\u001b[0m, in \u001b[0;36mcomparison_op\u001b[0;34m(left, right, op)\u001b[0m\n\u001b[1;32m    284\u001b[0m     \u001b[39mreturn\u001b[39;00m invalid_comparison(lvalues, rvalues, op)\n\u001b[1;32m    286\u001b[0m \u001b[39melif\u001b[39;00m is_object_dtype(lvalues\u001b[39m.\u001b[39mdtype) \u001b[39mor\u001b[39;00m \u001b[39misinstance\u001b[39m(rvalues, \u001b[39mstr\u001b[39m):\n\u001b[0;32m--> 287\u001b[0m     res_values \u001b[39m=\u001b[39m comp_method_OBJECT_ARRAY(op, lvalues, rvalues)\n\u001b[1;32m    289\u001b[0m \u001b[39melse\u001b[39;00m:\n\u001b[1;32m    290\u001b[0m     res_values \u001b[39m=\u001b[39m _na_arithmetic_op(lvalues, rvalues, op, is_cmp\u001b[39m=\u001b[39m\u001b[39mTrue\u001b[39;00m)\n",
      "File \u001b[0;32m~/miniconda3/envs/ml/lib/python3.10/site-packages/pandas/core/ops/array_ops.py:75\u001b[0m, in \u001b[0;36mcomp_method_OBJECT_ARRAY\u001b[0;34m(op, x, y)\u001b[0m\n\u001b[1;32m     73\u001b[0m     result \u001b[39m=\u001b[39m libops\u001b[39m.\u001b[39mvec_compare(x\u001b[39m.\u001b[39mravel(), y\u001b[39m.\u001b[39mravel(), op)\n\u001b[1;32m     74\u001b[0m \u001b[39melse\u001b[39;00m:\n\u001b[0;32m---> 75\u001b[0m     result \u001b[39m=\u001b[39m libops\u001b[39m.\u001b[39;49mscalar_compare(x\u001b[39m.\u001b[39;49mravel(), y, op)\n\u001b[1;32m     76\u001b[0m \u001b[39mreturn\u001b[39;00m result\u001b[39m.\u001b[39mreshape(x\u001b[39m.\u001b[39mshape)\n",
      "File \u001b[0;32m~/miniconda3/envs/ml/lib/python3.10/site-packages/pandas/_libs/ops.pyx:107\u001b[0m, in \u001b[0;36mpandas._libs.ops.scalar_compare\u001b[0;34m()\u001b[0m\n",
      "\u001b[0;31mTypeError\u001b[0m: '>' not supported between instances of 'str' and 'int'"
     ]
    }
   ],
   "source": [
    "# 1. drop reviews with 0 helpful votes (V) until\n",
    "# P(V>0|Z=0) > 1 - gamma\n",
    "\n",
    "print('Before:')\n",
    "\n",
    "num_above3stars = (filtered_df['above3Stars']).sum()\n",
    "num_above3stars_hasVote = (filtered_df[filtered_df['above3Stars']]['vote_count'] > 0).sum()\n",
    "print(f'num Z=1 = {num_above3stars}')\n",
    "print(f'num V>0|Z=1 = {num_above3stars_hasVote}')\n",
    "print(f'P(V>0|Z=1) = {num_above3stars_hasVote/num_above3stars}')\n",
    "print(f'gamma = {gamma}')\n",
    "\n",
    "num_leq3stars = (~filtered_df['above3Stars']).sum()\n",
    "num_leq3stars_hasVote = (filtered_df[~filtered_df['above3Stars']]['vote_count'] > 0).sum()\n",
    "print(f'num Z=0 = {num_leq3stars}')\n",
    "print(f'num V>0|Z=0 = {num_leq3stars_hasVote}')\n",
    "print(f'P(V>0|Z=0) = {num_leq3stars_hasVote/num_leq3stars}')\n",
    "print(f'1 - gamma = {1 - gamma}')\n",
    "\n",
    "\n",
    "drop_data(filtered_df, gamma=gamma, V_label='vote_count')\n",
    "\n",
    "\n",
    "print('\\n\\nAfter:')\n",
    "\n",
    "num_above3stars = (filtered_df['above3Stars']).sum()\n",
    "num_above3stars_hasVote = (filtered_df[filtered_df['above3Stars']]['vote_count'] > 0).sum()\n",
    "print(f'num Z=1 = {num_above3stars}')\n",
    "print(f'num V>0|Z=1 = {num_above3stars_hasVote}')\n",
    "print(f'P(V>0|Z=1) = {num_above3stars_hasVote/num_above3stars}')\n",
    "print(f'gamma = {gamma}')\n",
    "\n",
    "num_leq3stars = (~filtered_df['above3Stars']).sum()\n",
    "num_leq3stars_hasVote = (filtered_df[~filtered_df['above3Stars']]['vote_count'] > 0).sum()\n",
    "print(f'num Z=0 = {num_leq3stars}')\n",
    "print(f'num V>0|Z=0 = {num_leq3stars_hasVote}')\n",
    "print(f'P(V>0|Z=0) = {num_leq3stars_hasVote/num_leq3stars}')\n",
    "print(f'1 - gamma = {1 - gamma}')"
   ]
  },
  {
   "cell_type": "code",
   "execution_count": null,
   "metadata": {},
   "outputs": [
    {
     "name": "stdout",
     "output_type": "stream",
     "text": [
      "T_1 = 3\n",
      "num Z=1 = 6122\n",
      "num V>T1|Z=1 = 1528\n",
      "P(V>T1|Z=1) = 0.24959163672002613\n",
      "gamma = 0.3\n",
      "\n",
      "\n",
      "T_0 = 2\n",
      "num Z=0 = 2114\n",
      "num V>T0|Z=0 = 944\n",
      "P(V>T0|Z=0) = 0.44654683065279094\n",
      "1 - gamma = 0.7\n"
     ]
    }
   ],
   "source": [
    "# 2. find smallest Tz s.t. P(V>T1|Z=1) < gamma and P(V>T0|Z=0) < 1-gamma\n",
    "\n",
    "T_1, T_0 = find_smallest_Tz(filtered_df, gamma=gamma, V_label='vote_count')\n",
    "\n",
    "num_above3stars = (filtered_df['above3Stars']).sum()\n",
    "num_above3stars_abvT1 = (filtered_df[filtered_df['above3Stars']]['vote_count'] > T_1).sum()\n",
    "print(f'T_1 = {T_1}')\n",
    "print(f'num Z=1 = {num_above3stars}')\n",
    "print(f'num V>T1|Z=1 = {num_above3stars_abvT1}')\n",
    "print(f'P(V>T1|Z=1) = {num_above3stars_abvT1/num_above3stars}')\n",
    "print(f'gamma = {gamma}')\n",
    "\n",
    "print('\\n')\n",
    "\n",
    "num_leq3stars = (~filtered_df['above3Stars']).sum()\n",
    "num_leq3stars_abvT0 = (filtered_df[~filtered_df['above3Stars']]['vote_count'] > T_0).sum()\n",
    "print(f'T_0 = {T_0}')\n",
    "print(f'num Z=0 = {num_leq3stars}')\n",
    "print(f'num V>T0|Z=0 = {num_leq3stars_abvT0}')\n",
    "print(f'P(V>T0|Z=0) = {num_leq3stars_abvT0/num_leq3stars}')\n",
    "print(f'1 - gamma = {1 - gamma}')"
   ]
  },
  {
   "cell_type": "code",
   "execution_count": null,
   "metadata": {},
   "outputs": [
    {
     "name": "stdout",
     "output_type": "stream",
     "text": [
      "num Z=1 = 6122\n",
      "num Y=1|Z=1 = 1837\n",
      "P(Y=1|Z=1) = 0.3000653381247958\n",
      "gamma = 0.3\n",
      "\n",
      "\n",
      "num Z=0 = 2114\n",
      "num Y=1|Z=0 = 1480\n",
      "P(Y=1|Z=0) = 0.7000946073793756\n",
      "1 - gamma = 0.7\n"
     ]
    }
   ],
   "source": [
    "# 3. set Y=1[V>T0] for each Z=0, Y=1[>T1] for each Z=1\n",
    "# 4. random flip Y=0 to Y=1 in examples where (Z=0,V=T0+1) or (Z=1,V=T1+1), until\n",
    "# P(Y=1|Z=1) > gamma and P(Y=1|Z=0) > 1-gamma\n",
    "\n",
    "filtered_df = assign_natural_Y(filtered_df, T_1=T_1, T_0=T_0,\n",
    "                               gamma=gamma,\n",
    "                               V_label='vote_count')\n",
    "\n",
    "num_above3stars = (filtered_df['above3Stars']).sum()\n",
    "num_above3stars_abvTH = (filtered_df[filtered_df['above3Stars']]['aboveVThreshold']).sum()\n",
    "print(f'num Z=1 = {num_above3stars}')\n",
    "print(f'num Y=1|Z=1 = {num_above3stars_abvTH}')\n",
    "print(f'P(Y=1|Z=1) = {num_above3stars_abvTH/num_above3stars}')\n",
    "print(f'gamma = {gamma}')\n",
    "\n",
    "print('\\n')\n",
    "\n",
    "num_leq3stars = (~filtered_df['above3Stars']).sum()\n",
    "num_leq3stars_abvTH = (filtered_df[~filtered_df['above3Stars']]['aboveVThreshold']).sum()\n",
    "print(f'num Z=0 = {num_leq3stars}')\n",
    "print(f'num Y=1|Z=0 = {num_leq3stars_abvTH}')\n",
    "print(f'P(Y=1|Z=0) = {num_leq3stars_abvTH/num_leq3stars}')\n",
    "print(f'1 - gamma = {1 - gamma}')"
   ]
  },
  {
   "cell_type": "markdown",
   "metadata": {},
   "source": [
    "## Step 4: Split data to train, val and test set"
   ]
  },
  {
   "cell_type": "code",
   "execution_count": null,
   "metadata": {},
   "outputs": [
    {
     "name": "stdout",
     "output_type": "stream",
     "text": [
      "Train size: 5271 Val size: 1318 Test size: 1647\n",
      "N_Z1: 3919 N_Z0: 1352\n",
      "N_Z1_Y1 1178 N_Z0_Y0 937\n",
      "P(Y1|Z1): 0.3005868844092881 P(Y0|Z0): 0.6930473372781065\n"
     ]
    }
   ],
   "source": [
    "train_df, test_df = split_dataset(filtered_df, gamma=gamma,\n",
    "                                  Y_label='aboveVThreshold', Z_label='above3Stars')\n",
    "\n",
    "train_df, val_df = split_dataset(train_df, gamma=gamma,\n",
    "                                 Y_label='aboveVThreshold', Z_label='above3Stars')\n",
    "\n",
    "print(\"Train size:\", train_df.shape[0], \"Val size:\", val_df.shape[0], \"Test size:\", test_df.shape[0])\n",
    "N_Z1 = train_df['above3Stars'].sum()\n",
    "N_Y1_Z1 = (train_df['above3Stars'] & (train_df['aboveVThreshold'])).sum()\n",
    "P_Y1_Z1 = N_Y1_Z1 / N_Z1\n",
    "N_Z0 = (~train_df['above3Stars']).sum()\n",
    "N_Y0_Z0 = ((~train_df['above3Stars']) & (train_df['aboveVThreshold'])).sum()\n",
    "P_Y0_Z0 = N_Y0_Z0 / N_Z0\n",
    "print(\"N_Z1:\", N_Z1,\"N_Z0:\",N_Z0)\n",
    "print(\"N_Z1_Y1\", N_Y1_Z1, \"N_Z0_Y0\",N_Y0_Z0)\n",
    "print(\"P(Y1|Z1):\",P_Y1_Z1,\"P(Y0|Z0):\", P_Y0_Z0)"
   ]
  },
  {
   "cell_type": "markdown",
   "metadata": {},
   "source": [
    "## Step 5: Save data to .npz format"
   ]
  },
  {
   "cell_type": "code",
   "execution_count": null,
   "metadata": {},
   "outputs": [
    {
     "data": {
      "text/html": [
       "<div>\n",
       "<style scoped>\n",
       "    .dataframe tbody tr th:only-of-type {\n",
       "        vertical-align: middle;\n",
       "    }\n",
       "\n",
       "    .dataframe tbody tr th {\n",
       "        vertical-align: top;\n",
       "    }\n",
       "\n",
       "    .dataframe thead th {\n",
       "        text-align: right;\n",
       "    }\n",
       "</style>\n",
       "<table border=\"1\" class=\"dataframe\">\n",
       "  <thead>\n",
       "    <tr style=\"text-align: right;\">\n",
       "      <th></th>\n",
       "      <th>original_sentence</th>\n",
       "      <th>flipped_sentence</th>\n",
       "      <th>star_count</th>\n",
       "      <th>vote_count</th>\n",
       "      <th>conversion_success</th>\n",
       "      <th>above3Stars</th>\n",
       "      <th>aboveVThreshold</th>\n",
       "    </tr>\n",
       "  </thead>\n",
       "  <tbody>\n",
       "    <tr>\n",
       "      <th>64729</th>\n",
       "      <td>I was up in at Mount Shasta for a mushroom fes...</td>\n",
       "      <td>I was up in at Mount Shasta for a mushroom fes...</td>\n",
       "      <td>5.0</td>\n",
       "      <td>2</td>\n",
       "      <td>yes</td>\n",
       "      <td>True</td>\n",
       "      <td>False</td>\n",
       "    </tr>\n",
       "    <tr>\n",
       "      <th>72282</th>\n",
       "      <td>Daily use and pretty much goes with everything...</td>\n",
       "      <td>Daily use and pretty much goes with everything...</td>\n",
       "      <td>3.0</td>\n",
       "      <td>4</td>\n",
       "      <td>yes</td>\n",
       "      <td>False</td>\n",
       "      <td>True</td>\n",
       "    </tr>\n",
       "    <tr>\n",
       "      <th>4299</th>\n",
       "      <td>my son loved the jet pack but on of the straps...</td>\n",
       "      <td>my son unjustifiable the jet pack but on of th...</td>\n",
       "      <td>2.0</td>\n",
       "      <td>0</td>\n",
       "      <td>yes</td>\n",
       "      <td>False</td>\n",
       "      <td>False</td>\n",
       "    </tr>\n",
       "    <tr>\n",
       "      <th>75976</th>\n",
       "      <td>Beautiful watch.  I have been looking for a wa...</td>\n",
       "      <td>Beautiful watch. I have been looking for a wat...</td>\n",
       "      <td>5.0</td>\n",
       "      <td>2</td>\n",
       "      <td>yes</td>\n",
       "      <td>True</td>\n",
       "      <td>False</td>\n",
       "    </tr>\n",
       "    <tr>\n",
       "      <th>70220</th>\n",
       "      <td>This watch is attractive, it fits well, and it...</td>\n",
       "      <td>This watch is attractive, it fits well, and it...</td>\n",
       "      <td>4.0</td>\n",
       "      <td>10</td>\n",
       "      <td>yes</td>\n",
       "      <td>True</td>\n",
       "      <td>True</td>\n",
       "    </tr>\n",
       "  </tbody>\n",
       "</table>\n",
       "</div>"
      ],
      "text/plain": [
       "                                       original_sentence  \\\n",
       "64729  I was up in at Mount Shasta for a mushroom fes...   \n",
       "72282  Daily use and pretty much goes with everything...   \n",
       "4299   my son loved the jet pack but on of the straps...   \n",
       "75976  Beautiful watch.  I have been looking for a wa...   \n",
       "70220  This watch is attractive, it fits well, and it...   \n",
       "\n",
       "                                        flipped_sentence  star_count  \\\n",
       "64729  I was up in at Mount Shasta for a mushroom fes...         5.0   \n",
       "72282  Daily use and pretty much goes with everything...         3.0   \n",
       "4299   my son unjustifiable the jet pack but on of th...         2.0   \n",
       "75976  Beautiful watch. I have been looking for a wat...         5.0   \n",
       "70220  This watch is attractive, it fits well, and it...         4.0   \n",
       "\n",
       "       vote_count conversion_success  above3Stars  aboveVThreshold  \n",
       "64729           2                yes         True            False  \n",
       "72282           4                yes        False             True  \n",
       "4299            0                yes        False            False  \n",
       "75976           2                yes         True            False  \n",
       "70220          10                yes         True             True  "
      ]
     },
     "execution_count": 11,
     "metadata": {},
     "output_type": "execute_result"
    }
   ],
   "source": [
    "train_df.head()"
   ]
  },
  {
   "cell_type": "code",
   "execution_count": null,
   "metadata": {},
   "outputs": [],
   "source": [
    "out_dir = './data'\n",
    "header_name = 'header'\n",
    "# train_ds_name = 'nat_train' # full dataset name\n",
    "# val_ds_name = 'nat_val' # full dataset name\n",
    "# test_ds_name = 'nat_test'\n",
    "train_ds_name = 'nat_train_large' # large dataset name\n",
    "val_ds_name = 'nat_val_large'\n",
    "test_ds_name = 'nat_test_large'\n",
    "# train_ds_name = 'nat_train_small' # small dataset name\n",
    "# val_ds_name = 'nat_val_small' # large dataset name\n",
    "# test_ds_name = 'nat_test_small'\n",
    "\n",
    "save_df(train_df, os.path.join(out_dir, train_ds_name), text_keys=['original_sentence', 'flipped_sentence'])\n",
    "save_df(val_df, os.path.join(out_dir, val_ds_name), text_keys=['original_sentence', 'flipped_sentence'])\n",
    "save_df(test_df, os.path.join(out_dir, test_ds_name), text_keys=['original_sentence', 'flipped_sentence'])"
   ]
  }
 ],
 "metadata": {
  "kernelspec": {
   "display_name": "ml",
   "language": "python",
   "name": "python3"
  },
  "language_info": {
   "codemirror_mode": {
    "name": "ipython",
    "version": 3
   },
   "file_extension": ".py",
   "mimetype": "text/x-python",
   "name": "python",
   "nbconvert_exporter": "python",
   "pygments_lexer": "ipython3",
   "version": "3.10.9"
  }
 },
 "nbformat": 4,
 "nbformat_minor": 2
}
