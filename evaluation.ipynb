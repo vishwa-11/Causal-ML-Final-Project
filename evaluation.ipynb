{
 "cells": [
  {
   "cell_type": "code",
   "execution_count": 1,
   "metadata": {},
   "outputs": [],
   "source": [
    "%load_ext autoreload\n",
    "%autoreload 2"
   ]
  },
  {
   "cell_type": "code",
   "execution_count": 2,
   "metadata": {},
   "outputs": [
    {
     "name": "stderr",
     "output_type": "stream",
     "text": [
      "2023-12-04 01:59:12.414739: E tensorflow/compiler/xla/stream_executor/cuda/cuda_dnn.cc:9342] Unable to register cuDNN factory: Attempting to register factory for plugin cuDNN when one has already been registered\n",
      "2023-12-04 01:59:12.414773: E tensorflow/compiler/xla/stream_executor/cuda/cuda_fft.cc:609] Unable to register cuFFT factory: Attempting to register factory for plugin cuFFT when one has already been registered\n",
      "2023-12-04 01:59:12.414803: E tensorflow/compiler/xla/stream_executor/cuda/cuda_blas.cc:1518] Unable to register cuBLAS factory: Attempting to register factory for plugin cuBLAS when one has already been registered\n",
      "2023-12-04 01:59:12.423103: I tensorflow/core/platform/cpu_feature_guard.cc:182] This TensorFlow binary is optimized to use available CPU instructions in performance-critical operations.\n",
      "To enable the following instructions: AVX2 FMA, in other operations, rebuild TensorFlow with the appropriate compiler flags.\n"
     ]
    }
   ],
   "source": [
    "import os\n",
    "import tensorflow as tf\n",
    "import tensorflow_hub as hub\n",
    "import tensorflow_text as text # required to load from hub (even though pylance doesnt detect it)\n",
    "\n",
    "from train_methods import *\n",
    "\n",
    "tf.get_logger().setLevel('ERROR')"
   ]
  },
  {
   "cell_type": "code",
   "execution_count": 11,
   "metadata": {},
   "outputs": [],
   "source": [
    "pretrained_dir = '/hdd/logan/Joshua/causal_nlp/pretrained_models'\n",
    "preprocessor_filename = 'bert_en_uncased_preprocess_3'\n",
    "bert_filename = 'bert_en_uncased_L-12_H-768_A-12_4'\n",
    "checkpoint_dir = '/hdd/logan/Joshua/causal_nlp/final_checkpoints'\n",
    "trained_weights_filename = 'BERT_synthetic_noMMD'\n",
    "\n",
    "# load text preprocessor\n",
    "tfhub_handle_preprocess = hub.load(os.path.join(pretrained_dir, preprocessor_filename))\n",
    "bert_preprocess_model = hub.KerasLayer(tfhub_handle_preprocess, name='preprocessing')\n",
    "\n",
    "# load bert encoder\n",
    "tfhub_handle_encoder = hub.load(os.path.join(pretrained_dir, bert_filename))\n",
    "bert_model = hub.KerasLayer(tfhub_handle_encoder, name='BERT_encoder')\n",
    "\n",
    "# build model\n",
    "model = build_augmented_model(bert_preprocess_model, bert_model, None)\n",
    "model.compile(optimizer=\"adam\",\n",
    "              loss = tf.keras.losses.SparseCategoricalCrossentropy(from_logits=True),\n",
    "              metrics = tf.metrics.SparseCategoricalAccuracy())"
   ]
  },
  {
   "cell_type": "code",
   "execution_count": 4,
   "metadata": {},
   "outputs": [],
   "source": [
    "def load_eval_dataset(file_path: str, gamma: float,\n",
    "                      text_key: str, cf_text_key: str,\n",
    "                      confounder_key: str, label_key: str) -> tf.data.Dataset:\n",
    "    \"\"\"\n",
    "    Returns a tensorflow dataset with\n",
    "    - X: text inputs\n",
    "    - X': counterfactual text inputs\n",
    "    - Z: confounder inputs\n",
    "    - Y: label ouputs\n",
    "    - NOTE: resorted to doing this due to keras insisting all labels must have a seperate cost fn\n",
    "    \"\"\"\n",
    "    with np.load(file_path, allow_pickle=True) as data:\n",
    "        text = tf.convert_to_tensor(data[text_key], name=text_key)\n",
    "        cf_text = tf.convert_to_tensor(data[cf_text_key], name=text_key)\n",
    "        cf_flag = tf.convert_to_tensor(data[confounder_key], name=confounder_key, dtype=tf.int8)\n",
    "        label = tf.convert_to_tensor(data[label_key], name=label_key, dtype=tf.int8)\n",
    "\n",
    "    # evaluate the perterbation on loading\n",
    "    N = text.shape[0]\n",
    "    to_flip = np.random.random(N) < gamma\n",
    "\n",
    "    # TENSORFLOW CANNOT SUPPORT BOOLEAN MASK ASSIGNMENT\n",
    "    # text = input[\"text\"]\n",
    "    # cf_flag = input[\"confounder\"]\n",
    "    # text[to_flip] = input[\"cf_text\"][to_flip]   # flip text\n",
    "    # cf_flag[to_flip] = ~cf_flag[to_flip] + 2    # flip confounder label\n",
    "\n",
    "    text = tf.where(to_flip, cf_text, text)\n",
    "    cf_flag = tf.where(to_flip, ~cf_flag + 2, cf_flag)\n",
    "    # note label should not flip -> due to counterfactual invariance property\n",
    "\n",
    "    # generate dataset from perturbed data\n",
    "    dataset = tf.data.Dataset.from_tensor_slices(\n",
    "        ({\"text\": text,\n",
    "          \"label\": label,\n",
    "          \"confounder\": cf_flag},\n",
    "          label))  # cast to int\n",
    "\n",
    "    return dataset"
   ]
  },
  {
   "cell_type": "code",
   "execution_count": 5,
   "metadata": {},
   "outputs": [],
   "source": [
    "def get_types_from_name(name: str):\n",
    "    split_name = name.split('_')\n",
    "\n",
    "    # find data set type\n",
    "    dataset_type = split_name[1]\n",
    "\n",
    "    # find mmd type\n",
    "    if split_name[-1] == 'noMMD':\n",
    "        mmd_type = None\n",
    "    elif split_name[-3] == 'cMMD':\n",
    "        mmd_type = (\"conditional\", float(split_name[-2] + '.' + split_name[-1]))\n",
    "    elif split_name[-3] == 'mMMD':\n",
    "        mmd_type = (\"marginal\", float(split_name[-2] + '.' + split_name[-1]))\n",
    "\n",
    "    return dataset_type, mmd_type\n",
    "\n",
    "def load_correct_datatype(dataset_type: str, gamma:float, batch_size: int,\n",
    "                          data_dir = 'data',\n",
    "                          test_syn_ds_filename = 'syn_test_small.npz',\n",
    "                          test_nat_ds_filename = 'nat_val_small.npz'):\n",
    "    if dataset_type == 'synthetic':\n",
    "        test_ds_eval = load_eval_dataset(os.path.join(data_dir, test_syn_ds_filename), gamma=gamma,\n",
    "                                        text_key='syntheticText', cf_text_key='cfSyntheticText',\n",
    "                                        confounder_key='syntheticType', label_key='above3Stars')\n",
    "\n",
    "    elif dataset_type == 'natural':\n",
    "        test_ds_eval = load_eval_dataset(os.path.join(data_dir, test_nat_ds_filename), gamma=gamma,\n",
    "                                        text_key='original_sentence', cf_text_key='flipped_sentence',\n",
    "                                        confounder_key='above3Stars', label_key='aboveVThreshold')\n",
    "    else:\n",
    "        assert False, \"Errornous dataset type detected!\"\n",
    "\n",
    "    return test_ds_eval.batch(batch_size)\n"
   ]
  },
  {
   "cell_type": "code",
   "execution_count": 14,
   "metadata": {},
   "outputs": [
    {
     "name": "stderr",
     "output_type": "stream",
     "text": [
      "  0%|          | 0/14 [00:00<?, ?it/s]"
     ]
    },
    {
     "name": "stderr",
     "output_type": "stream",
     "text": [
      "Dataset type: synthetic, MMD Type: ('conditional', 1.0):   0%|          | 0/14 [00:00<?, ?it/s]"
     ]
    },
    {
     "name": "stdout",
     "output_type": "stream",
     "text": [
      "158/158 [==============================] - 38s 218ms/step - loss: 0.5243 - sparse_categorical_accuracy: 0.7750\n"
     ]
    },
    {
     "name": "stderr",
     "output_type": "stream",
     "text": []
    },
    {
     "name": "stdout",
     "output_type": "stream",
     "text": [
      "158/158 [==============================] - 34s 218ms/step - loss: 0.5295 - sparse_categorical_accuracy: 0.7697\n"
     ]
    },
    {
     "name": "stderr",
     "output_type": "stream",
     "text": []
    },
    {
     "name": "stdout",
     "output_type": "stream",
     "text": [
      "158/158 [==============================] - 34s 218ms/step - loss: 0.5366 - sparse_categorical_accuracy: 0.7601\n"
     ]
    },
    {
     "name": "stderr",
     "output_type": "stream",
     "text": []
    },
    {
     "name": "stdout",
     "output_type": "stream",
     "text": [
      "158/158 [==============================] - 34s 218ms/step - loss: 0.5424 - sparse_categorical_accuracy: 0.7543\n"
     ]
    },
    {
     "name": "stderr",
     "output_type": "stream",
     "text": []
    },
    {
     "name": "stdout",
     "output_type": "stream",
     "text": [
      "158/158 [==============================] - 34s 218ms/step - loss: 0.5481 - sparse_categorical_accuracy: 0.7444\n"
     ]
    },
    {
     "name": "stderr",
     "output_type": "stream",
     "text": []
    },
    {
     "name": "stdout",
     "output_type": "stream",
     "text": [
      "158/158 [==============================] - 33s 207ms/step - loss: 0.5547 - sparse_categorical_accuracy: 0.7364\n"
     ]
    },
    {
     "name": "stderr",
     "output_type": "stream",
     "text": []
    },
    {
     "name": "stdout",
     "output_type": "stream",
     "text": [
      "158/158 [==============================] - 31s 194ms/step\n",
      "158/158 [==============================] - 32s 201ms/step\n"
     ]
    },
    {
     "name": "stderr",
     "output_type": "stream",
     "text": [
      "Dataset type: natural, MMD Type: ('conditional', 0.002):   7%|▋         | 1/14 [04:34<59:23, 274.09s/it]"
     ]
    },
    {
     "name": "stdout",
     "output_type": "stream",
     "text": [
      "105/105 [==============================] - 24s 224ms/step - loss: 0.5650 - sparse_categorical_accuracy: 0.6936\n"
     ]
    },
    {
     "name": "stderr",
     "output_type": "stream",
     "text": []
    },
    {
     "name": "stdout",
     "output_type": "stream",
     "text": [
      "105/105 [==============================] - 23s 223ms/step - loss: 0.5651 - sparse_categorical_accuracy: 0.6954\n"
     ]
    },
    {
     "name": "stderr",
     "output_type": "stream",
     "text": []
    },
    {
     "name": "stdout",
     "output_type": "stream",
     "text": [
      "105/105 [==============================] - 23s 224ms/step - loss: 0.5645 - sparse_categorical_accuracy: 0.6962\n"
     ]
    },
    {
     "name": "stderr",
     "output_type": "stream",
     "text": []
    },
    {
     "name": "stdout",
     "output_type": "stream",
     "text": [
      "105/105 [==============================] - 24s 225ms/step - loss: 0.5656 - sparse_categorical_accuracy: 0.6939\n"
     ]
    },
    {
     "name": "stderr",
     "output_type": "stream",
     "text": []
    },
    {
     "name": "stdout",
     "output_type": "stream",
     "text": [
      "105/105 [==============================] - 24s 224ms/step - loss: 0.5653 - sparse_categorical_accuracy: 0.6957\n"
     ]
    },
    {
     "name": "stderr",
     "output_type": "stream",
     "text": []
    },
    {
     "name": "stdout",
     "output_type": "stream",
     "text": [
      "105/105 [==============================] - 23s 224ms/step - loss: 0.5654 - sparse_categorical_accuracy: 0.6975\n"
     ]
    },
    {
     "name": "stderr",
     "output_type": "stream",
     "text": []
    },
    {
     "name": "stdout",
     "output_type": "stream",
     "text": [
      "105/105 [==============================] - 22s 208ms/step\n",
      "105/105 [==============================] - 22s 208ms/step\n"
     ]
    },
    {
     "name": "stderr",
     "output_type": "stream",
     "text": [
      "Dataset type: synthetic, MMD Type: ('conditional', 0.002):  14%|█▍        | 2/14 [07:40<44:28, 222.41s/it]"
     ]
    },
    {
     "name": "stdout",
     "output_type": "stream",
     "text": [
      "158/158 [==============================] - 35s 219ms/step - loss: 0.5309 - sparse_categorical_accuracy: 0.7726\n"
     ]
    },
    {
     "name": "stderr",
     "output_type": "stream",
     "text": []
    },
    {
     "name": "stdout",
     "output_type": "stream",
     "text": [
      "158/158 [==============================] - 35s 219ms/step - loss: 0.5354 - sparse_categorical_accuracy: 0.7671\n"
     ]
    },
    {
     "name": "stderr",
     "output_type": "stream",
     "text": []
    },
    {
     "name": "stdout",
     "output_type": "stream",
     "text": [
      "158/158 [==============================] - 35s 219ms/step - loss: 0.5413 - sparse_categorical_accuracy: 0.7596\n"
     ]
    },
    {
     "name": "stderr",
     "output_type": "stream",
     "text": []
    },
    {
     "name": "stdout",
     "output_type": "stream",
     "text": [
      "158/158 [==============================] - 35s 219ms/step - loss: 0.5467 - sparse_categorical_accuracy: 0.7533\n"
     ]
    },
    {
     "name": "stderr",
     "output_type": "stream",
     "text": []
    },
    {
     "name": "stdout",
     "output_type": "stream",
     "text": [
      "158/158 [==============================] - 35s 219ms/step - loss: 0.5518 - sparse_categorical_accuracy: 0.7448\n"
     ]
    },
    {
     "name": "stderr",
     "output_type": "stream",
     "text": []
    },
    {
     "name": "stdout",
     "output_type": "stream",
     "text": [
      "158/158 [==============================] - 35s 219ms/step - loss: 0.5570 - sparse_categorical_accuracy: 0.7382\n"
     ]
    },
    {
     "name": "stderr",
     "output_type": "stream",
     "text": []
    },
    {
     "name": "stdout",
     "output_type": "stream",
     "text": [
      "158/158 [==============================] - 32s 203ms/step\n",
      "158/158 [==============================] - 32s 203ms/step\n"
     ]
    },
    {
     "name": "stderr",
     "output_type": "stream",
     "text": [
      "Dataset type: natural, MMD Type: None:  21%|██▏       | 3/14 [12:13<45:00, 245.50s/it]                    "
     ]
    },
    {
     "name": "stdout",
     "output_type": "stream",
     "text": [
      "105/105 [==============================] - 23s 223ms/step - loss: 0.5704 - sparse_categorical_accuracy: 0.6878\n"
     ]
    },
    {
     "name": "stderr",
     "output_type": "stream",
     "text": []
    },
    {
     "name": "stdout",
     "output_type": "stream",
     "text": [
      "105/105 [==============================] - 23s 223ms/step - loss: 0.5702 - sparse_categorical_accuracy: 0.6889\n"
     ]
    },
    {
     "name": "stderr",
     "output_type": "stream",
     "text": []
    },
    {
     "name": "stdout",
     "output_type": "stream",
     "text": [
      "105/105 [==============================] - 23s 223ms/step - loss: 0.5701 - sparse_categorical_accuracy: 0.6877\n"
     ]
    },
    {
     "name": "stderr",
     "output_type": "stream",
     "text": []
    },
    {
     "name": "stdout",
     "output_type": "stream",
     "text": [
      "105/105 [==============================] - 23s 223ms/step - loss: 0.5709 - sparse_categorical_accuracy: 0.6887\n"
     ]
    },
    {
     "name": "stderr",
     "output_type": "stream",
     "text": []
    },
    {
     "name": "stdout",
     "output_type": "stream",
     "text": [
      "105/105 [==============================] - 23s 223ms/step - loss: 0.5698 - sparse_categorical_accuracy: 0.6911\n"
     ]
    },
    {
     "name": "stderr",
     "output_type": "stream",
     "text": []
    },
    {
     "name": "stdout",
     "output_type": "stream",
     "text": [
      "105/105 [==============================] - 24s 224ms/step - loss: 0.5706 - sparse_categorical_accuracy: 0.6905\n"
     ]
    },
    {
     "name": "stderr",
     "output_type": "stream",
     "text": []
    },
    {
     "name": "stdout",
     "output_type": "stream",
     "text": [
      "105/105 [==============================] - 22s 208ms/step\n",
      "105/105 [==============================] - 22s 210ms/step\n"
     ]
    },
    {
     "name": "stderr",
     "output_type": "stream",
     "text": [
      "Dataset type: natural, MMD Type: ('marginal', 1.0):  29%|██▊       | 4/14 [15:19<36:58, 221.90s/it]"
     ]
    },
    {
     "name": "stdout",
     "output_type": "stream",
     "text": [
      "105/105 [==============================] - 24s 225ms/step - loss: 0.5844 - sparse_categorical_accuracy: 0.6760\n"
     ]
    },
    {
     "name": "stderr",
     "output_type": "stream",
     "text": []
    },
    {
     "name": "stdout",
     "output_type": "stream",
     "text": [
      "105/105 [==============================] - 24s 225ms/step - loss: 0.5841 - sparse_categorical_accuracy: 0.6765\n"
     ]
    },
    {
     "name": "stderr",
     "output_type": "stream",
     "text": []
    },
    {
     "name": "stdout",
     "output_type": "stream",
     "text": [
      "105/105 [==============================] - 24s 224ms/step - loss: 0.5828 - sparse_categorical_accuracy: 0.6772\n"
     ]
    },
    {
     "name": "stderr",
     "output_type": "stream",
     "text": []
    },
    {
     "name": "stdout",
     "output_type": "stream",
     "text": [
      "105/105 [==============================] - 24s 225ms/step - loss: 0.5840 - sparse_categorical_accuracy: 0.6771\n"
     ]
    },
    {
     "name": "stderr",
     "output_type": "stream",
     "text": []
    },
    {
     "name": "stdout",
     "output_type": "stream",
     "text": [
      "105/105 [==============================] - 24s 225ms/step - loss: 0.5831 - sparse_categorical_accuracy: 0.6801\n"
     ]
    },
    {
     "name": "stderr",
     "output_type": "stream",
     "text": []
    },
    {
     "name": "stdout",
     "output_type": "stream",
     "text": [
      "105/105 [==============================] - 24s 225ms/step - loss: 0.5831 - sparse_categorical_accuracy: 0.6793\n"
     ]
    },
    {
     "name": "stderr",
     "output_type": "stream",
     "text": []
    },
    {
     "name": "stdout",
     "output_type": "stream",
     "text": [
      "105/105 [==============================] - 22s 210ms/step\n",
      "105/105 [==============================] - 22s 212ms/step\n"
     ]
    },
    {
     "name": "stderr",
     "output_type": "stream",
     "text": [
      "Dataset type: natural, MMD Type: ('conditional', 0.005):  36%|███▌      | 5/14 [18:26<31:24, 209.43s/it]"
     ]
    },
    {
     "name": "stdout",
     "output_type": "stream",
     "text": [
      "105/105 [==============================] - 24s 226ms/step - loss: 0.5656 - sparse_categorical_accuracy: 0.6915\n"
     ]
    },
    {
     "name": "stderr",
     "output_type": "stream",
     "text": []
    },
    {
     "name": "stdout",
     "output_type": "stream",
     "text": [
      "105/105 [==============================] - 24s 225ms/step - loss: 0.5651 - sparse_categorical_accuracy: 0.6935\n"
     ]
    },
    {
     "name": "stderr",
     "output_type": "stream",
     "text": []
    },
    {
     "name": "stdout",
     "output_type": "stream",
     "text": [
      "105/105 [==============================] - 24s 226ms/step - loss: 0.5653 - sparse_categorical_accuracy: 0.6942\n"
     ]
    },
    {
     "name": "stderr",
     "output_type": "stream",
     "text": []
    },
    {
     "name": "stdout",
     "output_type": "stream",
     "text": [
      "105/105 [==============================] - 24s 227ms/step - loss: 0.5652 - sparse_categorical_accuracy: 0.6924\n"
     ]
    },
    {
     "name": "stderr",
     "output_type": "stream",
     "text": []
    },
    {
     "name": "stdout",
     "output_type": "stream",
     "text": [
      "105/105 [==============================] - 24s 226ms/step - loss: 0.5656 - sparse_categorical_accuracy: 0.6929\n"
     ]
    },
    {
     "name": "stderr",
     "output_type": "stream",
     "text": []
    },
    {
     "name": "stdout",
     "output_type": "stream",
     "text": [
      "105/105 [==============================] - 24s 226ms/step - loss: 0.5660 - sparse_categorical_accuracy: 0.6935\n"
     ]
    },
    {
     "name": "stderr",
     "output_type": "stream",
     "text": []
    },
    {
     "name": "stdout",
     "output_type": "stream",
     "text": [
      "105/105 [==============================] - 22s 209ms/step\n",
      "105/105 [==============================] - 22s 209ms/step\n"
     ]
    },
    {
     "name": "stderr",
     "output_type": "stream",
     "text": [
      "Dataset type: synthetic, MMD Type: ('marginal', 0.005):  43%|████▎     | 6/14 [21:34<26:57, 202.19s/it] "
     ]
    },
    {
     "name": "stdout",
     "output_type": "stream",
     "text": [
      "158/158 [==============================] - 35s 221ms/step - loss: 0.5318 - sparse_categorical_accuracy: 0.7764\n"
     ]
    },
    {
     "name": "stderr",
     "output_type": "stream",
     "text": []
    },
    {
     "name": "stdout",
     "output_type": "stream",
     "text": [
      "158/158 [==============================] - 35s 221ms/step - loss: 0.5374 - sparse_categorical_accuracy: 0.7689\n"
     ]
    },
    {
     "name": "stderr",
     "output_type": "stream",
     "text": []
    },
    {
     "name": "stdout",
     "output_type": "stream",
     "text": [
      "158/158 [==============================] - 35s 221ms/step - loss: 0.5432 - sparse_categorical_accuracy: 0.7618\n"
     ]
    },
    {
     "name": "stderr",
     "output_type": "stream",
     "text": []
    },
    {
     "name": "stdout",
     "output_type": "stream",
     "text": [
      "158/158 [==============================] - 35s 221ms/step - loss: 0.5484 - sparse_categorical_accuracy: 0.7542\n"
     ]
    },
    {
     "name": "stderr",
     "output_type": "stream",
     "text": []
    },
    {
     "name": "stdout",
     "output_type": "stream",
     "text": [
      "158/158 [==============================] - 35s 220ms/step - loss: 0.5542 - sparse_categorical_accuracy: 0.7471\n"
     ]
    },
    {
     "name": "stderr",
     "output_type": "stream",
     "text": []
    },
    {
     "name": "stdout",
     "output_type": "stream",
     "text": [
      "158/158 [==============================] - 35s 220ms/step - loss: 0.5593 - sparse_categorical_accuracy: 0.7384\n"
     ]
    },
    {
     "name": "stderr",
     "output_type": "stream",
     "text": []
    },
    {
     "name": "stdout",
     "output_type": "stream",
     "text": [
      "158/158 [==============================] - 32s 205ms/step\n",
      "158/158 [==============================] - 32s 204ms/step\n"
     ]
    },
    {
     "name": "stderr",
     "output_type": "stream",
     "text": [
      "Dataset type: natural, MMD Type: ('conditional', 1.0):  50%|█████     | 7/14 [26:09<26:22, 226.05s/it] "
     ]
    },
    {
     "name": "stdout",
     "output_type": "stream",
     "text": [
      "105/105 [==============================] - 23s 224ms/step - loss: 0.5692 - sparse_categorical_accuracy: 0.6874\n"
     ]
    },
    {
     "name": "stderr",
     "output_type": "stream",
     "text": []
    },
    {
     "name": "stdout",
     "output_type": "stream",
     "text": [
      "105/105 [==============================] - 23s 223ms/step - loss: 0.5684 - sparse_categorical_accuracy: 0.6898\n"
     ]
    },
    {
     "name": "stderr",
     "output_type": "stream",
     "text": []
    },
    {
     "name": "stdout",
     "output_type": "stream",
     "text": [
      "105/105 [==============================] - 23s 223ms/step - loss: 0.5688 - sparse_categorical_accuracy: 0.6911\n"
     ]
    },
    {
     "name": "stderr",
     "output_type": "stream",
     "text": []
    },
    {
     "name": "stdout",
     "output_type": "stream",
     "text": [
      "105/105 [==============================] - 23s 222ms/step - loss: 0.5685 - sparse_categorical_accuracy: 0.6886\n"
     ]
    },
    {
     "name": "stderr",
     "output_type": "stream",
     "text": []
    },
    {
     "name": "stdout",
     "output_type": "stream",
     "text": [
      "105/105 [==============================] - 23s 223ms/step - loss: 0.5688 - sparse_categorical_accuracy: 0.6905\n"
     ]
    },
    {
     "name": "stderr",
     "output_type": "stream",
     "text": []
    },
    {
     "name": "stdout",
     "output_type": "stream",
     "text": [
      "105/105 [==============================] - 24s 225ms/step - loss: 0.5693 - sparse_categorical_accuracy: 0.6907\n"
     ]
    },
    {
     "name": "stderr",
     "output_type": "stream",
     "text": []
    },
    {
     "name": "stdout",
     "output_type": "stream",
     "text": [
      "105/105 [==============================] - 22s 209ms/step\n",
      "105/105 [==============================] - 22s 209ms/step\n"
     ]
    },
    {
     "name": "stderr",
     "output_type": "stream",
     "text": [
      "Dataset type: synthetic, MMD Type: None:  57%|█████▋    | 8/14 [29:15<21:20, 213.33s/it]              "
     ]
    },
    {
     "name": "stdout",
     "output_type": "stream",
     "text": [
      "158/158 [==============================] - 35s 220ms/step - loss: 0.5398 - sparse_categorical_accuracy: 0.7702\n"
     ]
    },
    {
     "name": "stderr",
     "output_type": "stream",
     "text": []
    },
    {
     "name": "stdout",
     "output_type": "stream",
     "text": [
      "158/158 [==============================] - 34s 218ms/step - loss: 0.5444 - sparse_categorical_accuracy: 0.7623\n"
     ]
    },
    {
     "name": "stderr",
     "output_type": "stream",
     "text": []
    },
    {
     "name": "stdout",
     "output_type": "stream",
     "text": [
      "158/158 [==============================] - 35s 219ms/step - loss: 0.5498 - sparse_categorical_accuracy: 0.7566\n"
     ]
    },
    {
     "name": "stderr",
     "output_type": "stream",
     "text": []
    },
    {
     "name": "stdout",
     "output_type": "stream",
     "text": [
      "158/158 [==============================] - 34s 218ms/step - loss: 0.5551 - sparse_categorical_accuracy: 0.7490\n"
     ]
    },
    {
     "name": "stderr",
     "output_type": "stream",
     "text": []
    },
    {
     "name": "stdout",
     "output_type": "stream",
     "text": [
      "158/158 [==============================] - 35s 219ms/step - loss: 0.5601 - sparse_categorical_accuracy: 0.7407\n"
     ]
    },
    {
     "name": "stderr",
     "output_type": "stream",
     "text": []
    },
    {
     "name": "stdout",
     "output_type": "stream",
     "text": [
      "158/158 [==============================] - 35s 220ms/step - loss: 0.5647 - sparse_categorical_accuracy: 0.7347\n"
     ]
    },
    {
     "name": "stderr",
     "output_type": "stream",
     "text": []
    },
    {
     "name": "stdout",
     "output_type": "stream",
     "text": [
      "158/158 [==============================] - 32s 203ms/step\n",
      "158/158 [==============================] - 32s 203ms/step\n"
     ]
    },
    {
     "name": "stderr",
     "output_type": "stream",
     "text": [
      "Dataset type: natural, MMD Type: ('marginal', 0.005):  64%|██████▍   | 9/14 [33:48<19:20, 232.04s/it]"
     ]
    },
    {
     "name": "stdout",
     "output_type": "stream",
     "text": [
      "105/105 [==============================] - 23s 223ms/step - loss: 0.5685 - sparse_categorical_accuracy: 0.6896\n"
     ]
    },
    {
     "name": "stderr",
     "output_type": "stream",
     "text": []
    },
    {
     "name": "stdout",
     "output_type": "stream",
     "text": [
      "105/105 [==============================] - 23s 224ms/step - loss: 0.5688 - sparse_categorical_accuracy: 0.6895\n"
     ]
    },
    {
     "name": "stderr",
     "output_type": "stream",
     "text": []
    },
    {
     "name": "stdout",
     "output_type": "stream",
     "text": [
      "105/105 [==============================] - 24s 224ms/step - loss: 0.5696 - sparse_categorical_accuracy: 0.6896\n"
     ]
    },
    {
     "name": "stderr",
     "output_type": "stream",
     "text": []
    },
    {
     "name": "stdout",
     "output_type": "stream",
     "text": [
      "105/105 [==============================] - 24s 225ms/step - loss: 0.5694 - sparse_categorical_accuracy: 0.6932\n"
     ]
    },
    {
     "name": "stderr",
     "output_type": "stream",
     "text": []
    },
    {
     "name": "stdout",
     "output_type": "stream",
     "text": [
      "105/105 [==============================] - 24s 225ms/step - loss: 0.5698 - sparse_categorical_accuracy: 0.6914\n"
     ]
    },
    {
     "name": "stderr",
     "output_type": "stream",
     "text": []
    },
    {
     "name": "stdout",
     "output_type": "stream",
     "text": [
      "105/105 [==============================] - 24s 225ms/step - loss: 0.5694 - sparse_categorical_accuracy: 0.6929\n"
     ]
    },
    {
     "name": "stderr",
     "output_type": "stream",
     "text": []
    },
    {
     "name": "stdout",
     "output_type": "stream",
     "text": [
      "105/105 [==============================] - 22s 209ms/step\n",
      "105/105 [==============================] - 22s 211ms/step\n"
     ]
    },
    {
     "name": "stderr",
     "output_type": "stream",
     "text": [
      "Dataset type: synthetic, MMD Type: ('conditional', 0.005):  71%|███████▏  | 10/14 [36:55<14:32, 218.11s/it]"
     ]
    },
    {
     "name": "stdout",
     "output_type": "stream",
     "text": [
      "158/158 [==============================] - 35s 220ms/step - loss: 0.5315 - sparse_categorical_accuracy: 0.7735\n"
     ]
    },
    {
     "name": "stderr",
     "output_type": "stream",
     "text": []
    },
    {
     "name": "stdout",
     "output_type": "stream",
     "text": [
      "158/158 [==============================] - 35s 219ms/step - loss: 0.5363 - sparse_categorical_accuracy: 0.7671\n"
     ]
    },
    {
     "name": "stderr",
     "output_type": "stream",
     "text": []
    },
    {
     "name": "stdout",
     "output_type": "stream",
     "text": [
      "158/158 [==============================] - 35s 220ms/step - loss: 0.5423 - sparse_categorical_accuracy: 0.7584\n"
     ]
    },
    {
     "name": "stderr",
     "output_type": "stream",
     "text": []
    },
    {
     "name": "stdout",
     "output_type": "stream",
     "text": [
      "158/158 [==============================] - 35s 220ms/step - loss: 0.5466 - sparse_categorical_accuracy: 0.7535\n"
     ]
    },
    {
     "name": "stderr",
     "output_type": "stream",
     "text": []
    },
    {
     "name": "stdout",
     "output_type": "stream",
     "text": [
      "158/158 [==============================] - 35s 220ms/step - loss: 0.5523 - sparse_categorical_accuracy: 0.7451\n"
     ]
    },
    {
     "name": "stderr",
     "output_type": "stream",
     "text": []
    },
    {
     "name": "stdout",
     "output_type": "stream",
     "text": [
      "158/158 [==============================] - 35s 220ms/step - loss: 0.5577 - sparse_categorical_accuracy: 0.7395\n"
     ]
    },
    {
     "name": "stderr",
     "output_type": "stream",
     "text": []
    },
    {
     "name": "stdout",
     "output_type": "stream",
     "text": [
      "158/158 [==============================] - 32s 204ms/step\n",
      "158/158 [==============================] - 32s 203ms/step\n"
     ]
    },
    {
     "name": "stderr",
     "output_type": "stream",
     "text": [
      "Dataset type: synthetic, MMD Type: ('marginal', 1.0):  79%|███████▊  | 11/14 [41:29<11:45, 235.24s/it]     "
     ]
    },
    {
     "name": "stdout",
     "output_type": "stream",
     "text": [
      "158/158 [==============================] - 35s 219ms/step - loss: 0.5482 - sparse_categorical_accuracy: 0.7746\n"
     ]
    },
    {
     "name": "stderr",
     "output_type": "stream",
     "text": []
    },
    {
     "name": "stdout",
     "output_type": "stream",
     "text": [
      "158/158 [==============================] - 35s 219ms/step - loss: 0.5497 - sparse_categorical_accuracy: 0.7712\n"
     ]
    },
    {
     "name": "stderr",
     "output_type": "stream",
     "text": []
    },
    {
     "name": "stdout",
     "output_type": "stream",
     "text": [
      "158/158 [==============================] - 35s 221ms/step - loss: 0.5507 - sparse_categorical_accuracy: 0.7696\n"
     ]
    },
    {
     "name": "stderr",
     "output_type": "stream",
     "text": []
    },
    {
     "name": "stdout",
     "output_type": "stream",
     "text": [
      "158/158 [==============================] - 35s 221ms/step - loss: 0.5527 - sparse_categorical_accuracy: 0.7654\n"
     ]
    },
    {
     "name": "stderr",
     "output_type": "stream",
     "text": []
    },
    {
     "name": "stdout",
     "output_type": "stream",
     "text": [
      "158/158 [==============================] - 35s 220ms/step - loss: 0.5540 - sparse_categorical_accuracy: 0.7632\n"
     ]
    },
    {
     "name": "stderr",
     "output_type": "stream",
     "text": []
    },
    {
     "name": "stdout",
     "output_type": "stream",
     "text": [
      "158/158 [==============================] - 35s 220ms/step - loss: 0.5551 - sparse_categorical_accuracy: 0.7613\n"
     ]
    },
    {
     "name": "stderr",
     "output_type": "stream",
     "text": []
    },
    {
     "name": "stdout",
     "output_type": "stream",
     "text": [
      "158/158 [==============================] - 32s 205ms/step\n",
      "158/158 [==============================] - 32s 206ms/step\n"
     ]
    },
    {
     "name": "stderr",
     "output_type": "stream",
     "text": [
      "Dataset type: synthetic, MMD Type: ('marginal', 0.002):  86%|████████▌ | 12/14 [46:04<08:14, 247.26s/it]"
     ]
    },
    {
     "name": "stdout",
     "output_type": "stream",
     "text": [
      "158/158 [==============================] - 35s 220ms/step - loss: 0.5318 - sparse_categorical_accuracy: 0.7772\n"
     ]
    },
    {
     "name": "stderr",
     "output_type": "stream",
     "text": []
    },
    {
     "name": "stdout",
     "output_type": "stream",
     "text": [
      "158/158 [==============================] - 35s 220ms/step - loss: 0.5370 - sparse_categorical_accuracy: 0.7701\n"
     ]
    },
    {
     "name": "stderr",
     "output_type": "stream",
     "text": []
    },
    {
     "name": "stdout",
     "output_type": "stream",
     "text": [
      "158/158 [==============================] - 35s 220ms/step - loss: 0.5417 - sparse_categorical_accuracy: 0.7629\n"
     ]
    },
    {
     "name": "stderr",
     "output_type": "stream",
     "text": []
    },
    {
     "name": "stdout",
     "output_type": "stream",
     "text": [
      "158/158 [==============================] - 35s 221ms/step - loss: 0.5479 - sparse_categorical_accuracy: 0.7544\n"
     ]
    },
    {
     "name": "stderr",
     "output_type": "stream",
     "text": []
    },
    {
     "name": "stdout",
     "output_type": "stream",
     "text": [
      "158/158 [==============================] - 35s 219ms/step - loss: 0.5521 - sparse_categorical_accuracy: 0.7509\n"
     ]
    },
    {
     "name": "stderr",
     "output_type": "stream",
     "text": []
    },
    {
     "name": "stdout",
     "output_type": "stream",
     "text": [
      "158/158 [==============================] - 35s 220ms/step - loss: 0.5573 - sparse_categorical_accuracy: 0.7417\n"
     ]
    },
    {
     "name": "stderr",
     "output_type": "stream",
     "text": []
    },
    {
     "name": "stdout",
     "output_type": "stream",
     "text": [
      "158/158 [==============================] - 32s 205ms/step\n",
      "158/158 [==============================] - 32s 206ms/step\n"
     ]
    },
    {
     "name": "stderr",
     "output_type": "stream",
     "text": [
      "Dataset type: natural, MMD Type: ('marginal', 0.002):  93%|█████████▎| 13/14 [50:39<04:15, 255.68s/it]  "
     ]
    },
    {
     "name": "stdout",
     "output_type": "stream",
     "text": [
      "105/105 [==============================] - 24s 225ms/step - loss: 0.5698 - sparse_categorical_accuracy: 0.6889\n"
     ]
    },
    {
     "name": "stderr",
     "output_type": "stream",
     "text": []
    },
    {
     "name": "stdout",
     "output_type": "stream",
     "text": [
      "105/105 [==============================] - 24s 225ms/step - loss: 0.5702 - sparse_categorical_accuracy: 0.6908\n"
     ]
    },
    {
     "name": "stderr",
     "output_type": "stream",
     "text": []
    },
    {
     "name": "stdout",
     "output_type": "stream",
     "text": [
      "105/105 [==============================] - 24s 226ms/step - loss: 0.5696 - sparse_categorical_accuracy: 0.6892\n"
     ]
    },
    {
     "name": "stderr",
     "output_type": "stream",
     "text": []
    },
    {
     "name": "stdout",
     "output_type": "stream",
     "text": [
      "105/105 [==============================] - 24s 225ms/step - loss: 0.5704 - sparse_categorical_accuracy: 0.6910\n"
     ]
    },
    {
     "name": "stderr",
     "output_type": "stream",
     "text": []
    },
    {
     "name": "stdout",
     "output_type": "stream",
     "text": [
      "105/105 [==============================] - 24s 225ms/step - loss: 0.5699 - sparse_categorical_accuracy: 0.6915\n"
     ]
    },
    {
     "name": "stderr",
     "output_type": "stream",
     "text": []
    },
    {
     "name": "stdout",
     "output_type": "stream",
     "text": [
      "105/105 [==============================] - 24s 226ms/step - loss: 0.5700 - sparse_categorical_accuracy: 0.6924\n"
     ]
    },
    {
     "name": "stderr",
     "output_type": "stream",
     "text": []
    },
    {
     "name": "stdout",
     "output_type": "stream",
     "text": [
      "105/105 [==============================] - 22s 210ms/step\n",
      "105/105 [==============================] - 22s 210ms/step\n"
     ]
    },
    {
     "name": "stderr",
     "output_type": "stream",
     "text": [
      "Dataset type: natural, MMD Type: ('marginal', 0.002): 100%|██████████| 14/14 [53:47<00:00, 230.50s/it]\n"
     ]
    }
   ],
   "source": [
    "from glob import glob\n",
    "from tqdm import tqdm\n",
    "\n",
    "data_dir = '/hdd/logan/Joshua/causal_nlp/data'\n",
    "test_syn_ds_filename = 'syn_test_large.npz'\n",
    "test_nat_ds_filename = 'nat_val_large.npz'\n",
    "\n",
    "gammas = np.linspace(0.0,1.0, 6) # flip chance\n",
    "batch_size = 64\n",
    "np.random.seed(123) # make notebook results repeatable\n",
    "\n",
    "results = {} # store results in a dictionary\n",
    "\n",
    "files = glob(os.path.join(checkpoint_dir, '*.index'))\n",
    "fbar = tqdm(files)\n",
    "for file in fbar:\n",
    "    dirNname, ext = os.path.splitext(file)\n",
    "    _, name = os.path.split(dirNname)\n",
    "\n",
    "    dataset_type, mmd_type = get_types_from_name(name)\n",
    "    fbar.set_description(f\"Dataset type: {dataset_type}, MMD Type: {mmd_type}\")\n",
    "\n",
    "    # load model\n",
    "    model.load_weights(os.path.join(checkpoint_dir, name))\n",
    "\n",
    "    # evaluate against perturb dataset for different gammas\n",
    "    result_i = {}\n",
    "    for gamma in tqdm(gammas, leave=False):\n",
    "\n",
    "        # run accuracy test\n",
    "        _, test_eval = model.evaluate(x=load_correct_datatype(dataset_type, gamma, batch_size,\n",
    "                                                              data_dir, test_syn_ds_filename, test_nat_ds_filename))\n",
    "\n",
    "        result_i[gamma] = test_eval\n",
    "\n",
    "    # test label flip chance\n",
    "    original_pred = model.predict(x = load_correct_datatype(dataset_type, 0.0, batch_size,\n",
    "                                                            data_dir, test_syn_ds_filename, test_nat_ds_filename))\n",
    "    flipped_pred = model.predict(x = load_correct_datatype(dataset_type, 1.0, batch_size,\n",
    "                                                           data_dir, test_syn_ds_filename, test_nat_ds_filename))\n",
    "\n",
    "    label_flip = tf.math.argmax(original_pred, axis=-1) != tf.math.argmax(flipped_pred, axis=-1)\n",
    "    label_flip_chance = tf.math.reduce_mean(tf.cast(label_flip, tf.float32))\n",
    "\n",
    "    results[(dataset_type, mmd_type)] = (result_i, label_flip_chance)"
   ]
  },
  {
   "cell_type": "code",
   "execution_count": 15,
   "metadata": {},
   "outputs": [],
   "source": [
    "import pickle\n",
    "\n",
    "# store data\n",
    "pickle_name = 'results.pickle'\n",
    "with open(os.path.join(checkpoint_dir, 'results.pickle'), 'wb') as handle:\n",
    "    pickle.dump(results, handle, protocol=pickle.HIGHEST_PROTOCOL)"
   ]
  },
  {
   "cell_type": "code",
   "execution_count": null,
   "metadata": {},
   "outputs": [],
   "source": [
    "# optionally load results\n",
    "with open(os.path.join(checkpoint_dir, 'results.pickle'), 'rb') as handle:\n",
    "    results = pickle.load(handle)"
   ]
  },
  {
   "cell_type": "code",
   "execution_count": 150,
   "metadata": {},
   "outputs": [
    {
     "data": {
      "text/plain": [
       "Text(0.5, 0.98, 'Accuracy against Increasing Perturbation Strength')"
      ]
     },
     "execution_count": 150,
     "metadata": {},
     "output_type": "execute_result"
    },
    {
     "data": {
      "image/png": "[encoded data removed]",
      "text/plain": [
       "<Figure size 1500x500 with 2 Axes>"
      ]
     },
     "metadata": {},
     "output_type": "display_data"
    }
   ],
   "source": [
    "# plot results\n",
    "import matplotlib as mpl\n",
    "import matplotlib.pyplot as plt\n",
    "import numpy as np\n",
    "\n",
    "def sortfn(result_i):\n",
    "    _, mmd_type = result_i[0]\n",
    "    return (\"\",0) if mmd_type is None else mmd_type\n",
    "\n",
    "sorted_results = sorted(results.items(), key=sortfn)\n",
    "\n",
    "fig, (ax_syn, ax_nat) = plt.subplots(1, 2, figsize=(15.0, 5.0))\n",
    "for (dataset_type, mmd_type), (acc_results, flip_chance) in sorted_results:\n",
    "    x = acc_results.keys()\n",
    "    y = acc_results.values()\n",
    "    label = \"No MMD\" if mmd_type is None else f\"{mmd_type[0]} MMD: {mmd_type[1]}\"\n",
    "    fmt = '--' if mmd_type is not None and mmd_type[0] == 'conditional' else '-'\n",
    "    linewidth = 3.0 if mmd_type is None else 1.3\n",
    "    if mmd_type is None:\n",
    "        color = mpl.colors.BASE_COLORS['r']\n",
    "    elif mmd_type[0] == 'conditional':\n",
    "        color = mpl.colormaps['Oranges'](mmd_type[1] * 200)\n",
    "    elif mmd_type[0] == 'marginal':\n",
    "        color = mpl.colormaps['Blues'](mmd_type[1] * 200)\n",
    "\n",
    "    ax_plt = ax_syn if dataset_type == 'synthetic' else ax_nat\n",
    "    ax_plt.plot(x, y, fmt, label=label, linewidth=linewidth, color=color)\n",
    "\n",
    "ax_syn.set_xlabel('Perterb rate (0~1)')\n",
    "ax_nat.set_xlabel('Perterb rate (0~1)')\n",
    "ax_syn.set_ylabel('Accuracy ratios (0~1)')\n",
    "ax_nat.set_ylabel('Accuracy ratios (0~1)')\n",
    "ax_syn.set_title('Synthetic Dataset')\n",
    "ax_nat.set_title('Natural Dataset')\n",
    "ax_syn.legend()\n",
    "ax_nat.legend()\n",
    "fig.suptitle('Accuracy against Increasing Perturbation Strength')"
   ]
  },
  {
   "cell_type": "code",
   "execution_count": 92,
   "metadata": {},
   "outputs": [
    {
     "data": {
      "text/html": [
       "<div>\n",
       "<style scoped>\n",
       "    .dataframe tbody tr th:only-of-type {\n",
       "        vertical-align: middle;\n",
       "    }\n",
       "\n",
       "    .dataframe tbody tr th {\n",
       "        vertical-align: top;\n",
       "    }\n",
       "\n",
       "    .dataframe thead th {\n",
       "        text-align: right;\n",
       "    }\n",
       "</style>\n",
       "<table border=\"1\" class=\"dataframe\">\n",
       "  <thead>\n",
       "    <tr style=\"text-align: right;\">\n",
       "      <th></th>\n",
       "      <th>Dataset Type</th>\n",
       "      <th>MMD Type</th>\n",
       "      <th>MMD Coeff</th>\n",
       "      <th>Flip Chance</th>\n",
       "    </tr>\n",
       "  </thead>\n",
       "  <tbody>\n",
       "    <tr>\n",
       "      <th>0</th>\n",
       "      <td>natural</td>\n",
       "      <td>No MMD</td>\n",
       "      <td>0.000</td>\n",
       "      <td>0.055539</td>\n",
       "    </tr>\n",
       "    <tr>\n",
       "      <th>2</th>\n",
       "      <td>natural</td>\n",
       "      <td>conditional</td>\n",
       "      <td>0.002</td>\n",
       "      <td>0.051359</td>\n",
       "    </tr>\n",
       "    <tr>\n",
       "      <th>4</th>\n",
       "      <td>natural</td>\n",
       "      <td>conditional</td>\n",
       "      <td>0.005</td>\n",
       "      <td>0.048223</td>\n",
       "    </tr>\n",
       "    <tr>\n",
       "      <th>7</th>\n",
       "      <td>natural</td>\n",
       "      <td>conditional</td>\n",
       "      <td>1.000</td>\n",
       "      <td>0.052852</td>\n",
       "    </tr>\n",
       "    <tr>\n",
       "      <th>9</th>\n",
       "      <td>natural</td>\n",
       "      <td>marginal</td>\n",
       "      <td>0.002</td>\n",
       "      <td>0.051359</td>\n",
       "    </tr>\n",
       "    <tr>\n",
       "      <th>11</th>\n",
       "      <td>natural</td>\n",
       "      <td>marginal</td>\n",
       "      <td>0.005</td>\n",
       "      <td>0.056435</td>\n",
       "    </tr>\n",
       "    <tr>\n",
       "      <th>12</th>\n",
       "      <td>natural</td>\n",
       "      <td>marginal</td>\n",
       "      <td>1.000</td>\n",
       "      <td>0.037922</td>\n",
       "    </tr>\n",
       "    <tr>\n",
       "      <th>1</th>\n",
       "      <td>synthetic</td>\n",
       "      <td>No MMD</td>\n",
       "      <td>0.000</td>\n",
       "      <td>0.078600</td>\n",
       "    </tr>\n",
       "    <tr>\n",
       "      <th>3</th>\n",
       "      <td>synthetic</td>\n",
       "      <td>conditional</td>\n",
       "      <td>0.002</td>\n",
       "      <td>0.079592</td>\n",
       "    </tr>\n",
       "    <tr>\n",
       "      <th>5</th>\n",
       "      <td>synthetic</td>\n",
       "      <td>conditional</td>\n",
       "      <td>0.005</td>\n",
       "      <td>0.081376</td>\n",
       "    </tr>\n",
       "    <tr>\n",
       "      <th>6</th>\n",
       "      <td>synthetic</td>\n",
       "      <td>conditional</td>\n",
       "      <td>1.000</td>\n",
       "      <td>0.087918</td>\n",
       "    </tr>\n",
       "    <tr>\n",
       "      <th>8</th>\n",
       "      <td>synthetic</td>\n",
       "      <td>marginal</td>\n",
       "      <td>0.002</td>\n",
       "      <td>0.077114</td>\n",
       "    </tr>\n",
       "    <tr>\n",
       "      <th>10</th>\n",
       "      <td>synthetic</td>\n",
       "      <td>marginal</td>\n",
       "      <td>0.005</td>\n",
       "      <td>0.082169</td>\n",
       "    </tr>\n",
       "    <tr>\n",
       "      <th>13</th>\n",
       "      <td>synthetic</td>\n",
       "      <td>marginal</td>\n",
       "      <td>1.000</td>\n",
       "      <td>0.042026</td>\n",
       "    </tr>\n",
       "  </tbody>\n",
       "</table>\n",
       "</div>"
      ],
      "text/plain": [
       "   Dataset Type     MMD Type  MMD Coeff  Flip Chance\n",
       "0       natural       No MMD      0.000     0.055539\n",
       "2       natural  conditional      0.002     0.051359\n",
       "4       natural  conditional      0.005     0.048223\n",
       "7       natural  conditional      1.000     0.052852\n",
       "9       natural     marginal      0.002     0.051359\n",
       "11      natural     marginal      0.005     0.056435\n",
       "12      natural     marginal      1.000     0.037922\n",
       "1     synthetic       No MMD      0.000     0.078600\n",
       "3     synthetic  conditional      0.002     0.079592\n",
       "5     synthetic  conditional      0.005     0.081376\n",
       "6     synthetic  conditional      1.000     0.087918\n",
       "8     synthetic     marginal      0.002     0.077114\n",
       "10    synthetic     marginal      0.005     0.082169\n",
       "13    synthetic     marginal      1.000     0.042026"
      ]
     },
     "execution_count": 92,
     "metadata": {},
     "output_type": "execute_result"
    }
   ],
   "source": [
    "import pandas as pd\n",
    "\n",
    "\n",
    "data = list(zip(*[(dataset_type, 'No MMD' if mmd_type is None else mmd_type[0], 0.0 if mmd_type is None else mmd_type[1], flip_chance.numpy()) for (dataset_type, mmd_type), (_, flip_chance) in sorted_results]))\n",
    "df = pd.DataFrame({'Dataset Type':data[0], 'MMD Type':data[1], 'MMD Coeff':data[2], 'Flip Chance':data[3]})\n",
    "df = df.sort_values(by='Dataset Type')\n",
    "df"
   ]
  },
  {
   "cell_type": "code",
   "execution_count": 155,
   "metadata": {},
   "outputs": [
    {
     "data": {
      "text/plain": [
       "Text(0.5, 0.98, 'Impact of Coefficient Strength on Label Flipping')"
      ]
     },
     "execution_count": 155,
     "metadata": {},
     "output_type": "execute_result"
    },
    {
     "data": {
      "image/png": "[encoded data removed]",
      "text/plain": [
       "<Figure size 850x500 with 2 Axes>"
      ]
     },
     "metadata": {},
     "output_type": "display_data"
    }
   ],
   "source": [
    "natural_conditional = df[(df['Dataset Type'] == 'natural') & (df['MMD Type'] != 'conditional')]\n",
    "natural_marginal = df[(df['Dataset Type'] == 'natural') & (df['MMD Type'] != 'marginal')]\n",
    "synthetic_conditional = df[(df['Dataset Type'] == 'synthetic') & (df['MMD Type'] != 'conditional')]\n",
    "synthetic_marginal = df[(df['Dataset Type'] == 'synthetic') & (df['MMD Type'] != 'marginal')]\n",
    "\n",
    "fig2, (l_ax, r_ax) = plt.subplots(1, 2, sharey=True, figsize=(8.5, 5.0))\n",
    "fig2.subplots_adjust(wspace=0.18)\n",
    "\n",
    "l_ax.plot(synthetic_conditional['MMD Coeff'], synthetic_conditional['Flip Chance'], 'b', label = 'Synthetic Conditional')\n",
    "r_ax.plot(synthetic_conditional['MMD Coeff'], synthetic_conditional['Flip Chance'], 'b')\n",
    "l_ax.plot(synthetic_marginal['MMD Coeff'], synthetic_marginal['Flip Chance'], 'g', label = 'Synthetic Marginal')\n",
    "r_ax.plot(synthetic_marginal['MMD Coeff'], synthetic_marginal['Flip Chance'], 'g')\n",
    "\n",
    "l_ax.plot(natural_conditional['MMD Coeff'], natural_conditional['Flip Chance'], 'b--', label = 'Natural Conditional')\n",
    "r_ax.plot(natural_conditional['MMD Coeff'], natural_conditional['Flip Chance'], 'b--')\n",
    "l_ax.plot(natural_marginal['MMD Coeff'], natural_marginal['Flip Chance'], 'g--', label = 'Natural Marginal')\n",
    "r_ax.plot(natural_marginal['MMD Coeff'], natural_marginal['Flip Chance'], 'g--')\n",
    "\n",
    "\n",
    "\n",
    "l_ax.set_xlim(0, 0.006)\n",
    "r_ax.set_xlim(0.994, 1.00)\n",
    "\n",
    "l_ax.spines.right.set_visible(False)\n",
    "r_ax.spines.left.set_visible(False)\n",
    "l_ax.yaxis.tick_left()\n",
    "r_ax.yaxis.tick_right()\n",
    "\n",
    "d = .5  # proportion of vertical to horizontal extent of the slanted line\n",
    "kwargs = dict(marker=[(-d, -1), (d, 1)], markersize=12,\n",
    "              linestyle=\"none\", color='k', mec='k', mew=1, clip_on=False)\n",
    "l_ax.plot([1, 1], [0, 1], transform=l_ax.transAxes, **kwargs)\n",
    "r_ax.plot([0, 0], [0, 1], transform=r_ax.transAxes, **kwargs)\n",
    "\n",
    "l_ax.set_ylabel('Flip Probability (0 ~ 1)')\n",
    "r_ax.set_xlabel('MMD Coeefficients')\n",
    "l_ax.legend()\n",
    "fig2.suptitle('Impact of Coefficient Strength on Label Flipping')"
   ]
  }
 ],
 "metadata": {
  "kernelspec": {
   "display_name": "tensorflow_2_15_0",
   "language": "python",
   "name": "python3"
  },
  "language_info": {
   "codemirror_mode": {
    "name": "ipython",
    "version": 3
   },
   "file_extension": ".py",
   "mimetype": "text/x-python",
   "name": "python",
   "nbconvert_exporter": "python",
   "pygments_lexer": "ipython3",
   "version": "3.10.13"
  }
 },
 "nbformat": 4,
 "nbformat_minor": 2
}
